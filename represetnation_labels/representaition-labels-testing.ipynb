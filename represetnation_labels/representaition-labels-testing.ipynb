{
 "cells": [
  {
   "cell_type": "code",
   "execution_count": 1,
   "metadata": {},
   "outputs": [],
   "source": [
    "import pandas as pd\n",
    "import json\n",
    "import bokeh.plotting as bpl\n",
    "import os\n",
    "import numpy as np\n",
    "from bokeh.plotting import figure, output_file, show, gridplot\n",
    "from bokeh.models import ColumnDataSource, LabelSet, HoverTool"
   ]
  },
  {
   "cell_type": "code",
   "execution_count": 2,
   "metadata": {},
   "outputs": [],
   "source": [
    "os.chdir('../')\n",
    "with open('data/raw/cohort_demographics_test_data.json', 'r') as fb:\n",
    "    cohorts_dic = json.load(fb)\n",
    "with open('data/raw/Reference_population.json', 'r') as fb:\n",
    "    ref_dic = json.load(fb)"
   ]
  },
  {
   "cell_type": "code",
   "execution_count": 3,
   "metadata": {},
   "outputs": [
    {
     "name": "stdout",
     "output_type": "stream",
     "text": [
      "{'Age': {'0-4': 0, '5-9': 0, '10-14': 0, '15-19': 0, '20-24': 0, '25-29': 0, '30-34': 0, '35-39': 0, '40-44': 53960, '45-49': 66438, '50-54': 76808, '55-59': 91953, '60-64': 121419, '65-70': 92739, '70-74': 0, '75-79': 0, '80-84': 0, '85+': 0, 'Missing': 0}, 'Gender': {'Female': 273824, 'Male': 229486, 'Missing': 0}, 'Ethnicity': {'White': {'White': 581, 'White British': 472204, 'White Irish': 14000, 'White other': 17034}, 'Black': {'Black': 27, 'Black Carribian': 4608, 'Black African': 3461, 'Black Other': 126}, 'Asian': {'Asian': 44, 'Indian': 6109, 'Pakistani': 1905, 'Bangledeshi': 240, 'Sri Lankan': 0, 'Asian Other': 1856}, 'Chinese': {'Chinese': 1653}, 'Mixed': {'Mixed': 50, 'White and Black Carribean': 650, 'White and Black Caribean': 449, 'White and Asian': 864, 'Other': 1082}, 'Other': {'Other': 4697}, 'Missing': {'Missing': 1760}}, 'Socioeconomic Status': {'I': 81610, 'II': 106680, 'III(non manual)': 133350, 'III(manual)': 160019, 'IV': 40005, 'V': 10668, 'Armed Forces': 1067, 'Missing': 0}}\n"
     ]
    }
   ],
   "source": [
    "print(cohorts_dic['UK Biobank'])"
   ]
  },
  {
   "cell_type": "markdown",
   "metadata": {},
   "source": [
    "## Testing bar plot"
   ]
  },
  {
   "cell_type": "code",
   "execution_count": 4,
   "metadata": {},
   "outputs": [
    {
     "name": "stdout",
     "output_type": "stream",
     "text": [
      "   Age range   Value\n",
      "0        0-4       0\n",
      "1        5-9       0\n",
      "2      10-14       0\n",
      "3      15-19       0\n",
      "4      20-24       0\n",
      "5      25-29       0\n",
      "6      30-34       0\n",
      "7      35-39       0\n",
      "8      40-44   53960\n",
      "9      45-49   66438\n",
      "10     50-54   76808\n",
      "11     55-59   91953\n",
      "12     60-64  121419\n",
      "13     65-70   92739\n",
      "14     70-74       0\n",
      "15     75-79       0\n",
      "16     80-84       0\n",
      "17       85+       0\n",
      "18   Missing       0\n"
     ]
    }
   ],
   "source": [
    "UKB_age_dic = cohorts_dic['UK Biobank']['Age'].copy()\n",
    "ukbiobank_age = pd.DataFrame({'Age range':list(UKB_age_dic.keys()), 'Value':list(UKB_age_dic.values())})\n",
    "print(ukbiobank_age)"
   ]
  },
  {
   "cell_type": "code",
   "execution_count": 5,
   "metadata": {},
   "outputs": [
    {
     "data": {
      "text/html": [
       "<div style=\"display: table;\"><div style=\"display: table-row;\"><div style=\"display: table-cell;\"><b title=\"bokeh.models.renderers.GlyphRenderer\">GlyphRenderer</b>(</div><div style=\"display: table-cell;\">id&nbsp;=&nbsp;'1036', <span id=\"1039\" style=\"cursor: pointer;\">&hellip;)</span></div></div><div class=\"1038\" style=\"display: none;\"><div style=\"display: table-cell;\"></div><div style=\"display: table-cell;\">data_source&nbsp;=&nbsp;ColumnDataSource(id='1033', ...),</div></div><div class=\"1038\" style=\"display: none;\"><div style=\"display: table-cell;\"></div><div style=\"display: table-cell;\">glyph&nbsp;=&nbsp;VBar(id='1034', ...),</div></div><div class=\"1038\" style=\"display: none;\"><div style=\"display: table-cell;\"></div><div style=\"display: table-cell;\">hover_glyph&nbsp;=&nbsp;None,</div></div><div class=\"1038\" style=\"display: none;\"><div style=\"display: table-cell;\"></div><div style=\"display: table-cell;\">js_event_callbacks&nbsp;=&nbsp;{},</div></div><div class=\"1038\" style=\"display: none;\"><div style=\"display: table-cell;\"></div><div style=\"display: table-cell;\">js_property_callbacks&nbsp;=&nbsp;{},</div></div><div class=\"1038\" style=\"display: none;\"><div style=\"display: table-cell;\"></div><div style=\"display: table-cell;\">level&nbsp;=&nbsp;'glyph',</div></div><div class=\"1038\" style=\"display: none;\"><div style=\"display: table-cell;\"></div><div style=\"display: table-cell;\">muted&nbsp;=&nbsp;False,</div></div><div class=\"1038\" style=\"display: none;\"><div style=\"display: table-cell;\"></div><div style=\"display: table-cell;\">muted_glyph&nbsp;=&nbsp;None,</div></div><div class=\"1038\" style=\"display: none;\"><div style=\"display: table-cell;\"></div><div style=\"display: table-cell;\">name&nbsp;=&nbsp;None,</div></div><div class=\"1038\" style=\"display: none;\"><div style=\"display: table-cell;\"></div><div style=\"display: table-cell;\">nonselection_glyph&nbsp;=&nbsp;VBar(id='1035', ...),</div></div><div class=\"1038\" style=\"display: none;\"><div style=\"display: table-cell;\"></div><div style=\"display: table-cell;\">selection_glyph&nbsp;=&nbsp;None,</div></div><div class=\"1038\" style=\"display: none;\"><div style=\"display: table-cell;\"></div><div style=\"display: table-cell;\">subscribed_events&nbsp;=&nbsp;[],</div></div><div class=\"1038\" style=\"display: none;\"><div style=\"display: table-cell;\"></div><div style=\"display: table-cell;\">tags&nbsp;=&nbsp;[],</div></div><div class=\"1038\" style=\"display: none;\"><div style=\"display: table-cell;\"></div><div style=\"display: table-cell;\">view&nbsp;=&nbsp;CDSView(id='1037', ...),</div></div><div class=\"1038\" style=\"display: none;\"><div style=\"display: table-cell;\"></div><div style=\"display: table-cell;\">visible&nbsp;=&nbsp;True,</div></div><div class=\"1038\" style=\"display: none;\"><div style=\"display: table-cell;\"></div><div style=\"display: table-cell;\">x_range_name&nbsp;=&nbsp;'default',</div></div><div class=\"1038\" style=\"display: none;\"><div style=\"display: table-cell;\"></div><div style=\"display: table-cell;\">y_range_name&nbsp;=&nbsp;'default')</div></div></div>\n",
       "<script>\n",
       "(function() {\n",
       "  var expanded = false;\n",
       "  var ellipsis = document.getElementById(\"1039\");\n",
       "  ellipsis.addEventListener(\"click\", function() {\n",
       "    var rows = document.getElementsByClassName(\"1038\");\n",
       "    for (var i = 0; i < rows.length; i++) {\n",
       "      var el = rows[i];\n",
       "      el.style.display = expanded ? \"none\" : \"table-row\";\n",
       "    }\n",
       "    ellipsis.innerHTML = expanded ? \"&hellip;)\" : \"&lsaquo;&lsaquo;&lsaquo;\";\n",
       "    expanded = !expanded;\n",
       "  });\n",
       "})();\n",
       "</script>\n"
      ],
      "text/plain": [
       "GlyphRenderer(id='1036', ...)"
      ]
     },
     "execution_count": 5,
     "metadata": {},
     "output_type": "execute_result"
    }
   ],
   "source": [
    "output_file('plots/bar_test.html')\n",
    "p = figure(x_range = ukbiobank_age['Age range'], title = 'Test bar plot',x_axis_label = 'Age')\n",
    "p.vbar(x = ukbiobank_age['Age range'], top = ukbiobank_age['Value'], width = 0.9)\n"
   ]
  },
  {
   "cell_type": "markdown",
   "metadata": {},
   "source": [
    "## Testing spider plot"
   ]
  },
  {
   "cell_type": "code",
   "execution_count": 6,
   "metadata": {},
   "outputs": [
    {
     "name": "stdout",
     "output_type": "stream",
     "text": [
      "  Ethnicity   Value\n",
      "0     White  503819\n",
      "1     Black    8222\n",
      "2     Asian   11807\n",
      "4     Mixed    3095\n",
      "5     Other    4697\n",
      "6   Missing    1760\n"
     ]
    }
   ],
   "source": [
    "UKB_eth_dic = cohorts_dic['UK Biobank']['Ethnicity'].copy()\n",
    "ukbiobank_eth = pd.DataFrame({'Ethnicity':list(UKB_eth_dic.keys()), 'Value':[sum(v.values()) for v in UKB_eth_dic.values()]})\n",
    "ukbiobank_eth.loc[2,'Value'] = ukbiobank_eth.loc[2,'Value'] + ukbiobank_eth.loc[3,'Value']\n",
    "ukbiobank_eth = ukbiobank_eth.drop(3)\n",
    "print(ukbiobank_eth)"
   ]
  },
  {
   "cell_type": "code",
   "execution_count": 7,
   "metadata": {},
   "outputs": [],
   "source": [
    "num_vars = len(ukbiobank_eth) -1\n",
    "\n",
    "theta = np.linspace(0, 2*np.pi, num_vars, endpoint=False)\n",
    "# rotate theta such that the first axis is at the top\n",
    "theta += np.pi/2\n",
    "\n",
    "def unit_poly_verts(theta):\n",
    "    \"\"\"Return vertices of polygon for subplot axes.\n",
    "    This polygon is circumscribed by a unit circle centered at (0.5, 0.5)\n",
    "    \"\"\"\n",
    "    x0, y0, r = [0.5] * 3\n",
    "    verts = [(r*np.cos(t) + x0, r*np.sin(t) + y0) for t in theta]\n",
    "    return verts\n",
    "\n",
    "def radar_patch(r, theta):\n",
    "    yt = (r + 0.01) * np.sin(theta) + 0.5\n",
    "    xt = (r + 0.01) * np.cos(theta) + 0.5\n",
    "    return xt, yt\n",
    "\n",
    "verts = unit_poly_verts(theta)\n",
    "x = [i[0] for i in verts]\n",
    "y = [i[1] for i in verts]\n",
    "\n",
    "vals = np.array(ukbiobank_eth[:-1]['Value'])\n",
    "missing_eth = ukbiobank_eth.loc[6,'Value']/sum(vals)\n",
    "vals = vals/(sum(vals) * 2 )\n",
    "xt,yt = radar_patch(vals, theta)\n",
    "label_eth = ukbiobank_eth[:-1]['Ethnicity'].to_list()\n"
   ]
  },
  {
   "cell_type": "code",
   "execution_count": 8,
   "metadata": {},
   "outputs": [],
   "source": [
    "percents = vals * 2\n",
    "percents = np.round(percents,3)\n",
    "x_lines = [[0.5,i] for i in x]\n",
    "y_lines = [[0.5,i] for i in y]"
   ]
  },
  {
   "cell_type": "code",
   "execution_count": 9,
   "metadata": {},
   "outputs": [],
   "source": [
    "q = figure(title = 'Spider plot test')\n",
    "\n",
    "source = ColumnDataSource(data=dict(x=xt,\n",
    "                                    y=yt,\n",
    "                                    x_lines=x_lines,\n",
    "                                    y_lines=y_lines,\n",
    "                                    label_eth = label_eth,\n",
    "                                    labs_x_cords = x,\n",
    "                                    labs_y_cords = y,\n",
    "                                    values = ukbiobank_eth[:-1]['Value'],\n",
    "                                    percent = percents\n",
    "                                   ))\n",
    "labels = LabelSet(x='labs_x_cords', y='labs_y_cords', text='label_eth',x_offset = 5,y_offset =-5, source=source,render_mode='canvas')\n",
    "hover = HoverTool(tooltips=[\n",
    "        (\"Ethnicity\", \"@label_eth\"),\n",
    "        (\"Raw value\", \"@values\"),\n",
    "        ('Percent', \"@percent{0.0 %}\"),\n",
    "    ])\n",
    "q.patch(x= 'x', y='y', fill_alpha = 0.2, fill_color = 'blue',source=source)\n",
    "q.multi_line('x_lines','y_lines',source=source, color = 'navy', line_width = 1)\n",
    "q.ellipse(x = 0.5,y= 0.5,width = missing_eth, height = missing_eth, fill_alpha = 0.1, fill_color = 'grey')\n",
    "q.add_layout(labels)\n",
    "q.add_tools(hover)\n"
   ]
  },
  {
   "cell_type": "markdown",
   "metadata": {},
   "source": [
    "## Testing multiple plots"
   ]
  },
  {
   "cell_type": "code",
   "execution_count": 10,
   "metadata": {},
   "outputs": [],
   "source": [
    "r = gridplot([[p,None],[None,q]])\n",
    "show(r)              "
   ]
  },
  {
   "cell_type": "markdown",
   "metadata": {},
   "source": [
    "## Testing changing individual plot - Reletivise"
   ]
  },
  {
   "cell_type": "code",
   "execution_count": 11,
   "metadata": {},
   "outputs": [
    {
     "name": "stdout",
     "output_type": "stream",
     "text": [
      "dict_keys(['2011 Census'])\n"
     ]
    }
   ],
   "source": [
    "print(ref_dic.keys())"
   ]
  },
  {
   "cell_type": "code",
   "execution_count": 12,
   "metadata": {},
   "outputs": [
    {
     "name": "stdout",
     "output_type": "stream",
     "text": [
      "   Age range  Value_x  Value_y  ukb_percent  ref_percent  reletive_percent\n",
      "0        0-4        0  3913953     0.000100     6.194810          0.001614\n",
      "1        5-9        0  3516615     0.000100     5.565934          0.001797\n",
      "2      10-14        0  3669326     0.000100     5.807633          0.001722\n",
      "3      15-19        0  3996452     0.000100     6.325384          0.001581\n",
      "4      20-24        0  4297198     0.000100     6.801382          0.001470\n",
      "5      25-29        0  4306340     0.000100     6.815851          0.001467\n",
      "6      30-34        0  4154232     0.000100     6.575106          0.001521\n",
      "7      35-39        0  4165801     0.000100     6.593417          0.001517\n",
      "8      40-44    53960  4625528    10.720978     7.321038        146.440681\n",
      "9      45-49    66438  4638163    13.200131     7.341036        179.812927\n",
      "10     50-54    76808  4104611    15.260463     6.496570        234.900319\n",
      "11     55-59    91953  3608858    18.269501     5.711929        319.848174\n",
      "12     60-64   121419  3807974    24.123863     6.027075        400.258225\n",
      "13     65-70    92739  3047738    18.425665     4.823831        381.971646\n",
      "14     70-74        0  2432487     0.000100     3.850057          0.002597\n",
      "15     75-79        0  2005989     0.000100     3.175029          0.003150\n",
      "16     80-84        0  1498926     0.000100     2.372487          0.004215\n",
      "17       85+        0  1391987     0.000100     2.203232          0.004539\n"
     ]
    }
   ],
   "source": [
    "ref_age_dic = ref_dic['2011 Census']['Age'].copy()\n",
    "ref_age = pd.DataFrame({'Age range':list(ref_age_dic.keys()), 'Value':list(ref_age_dic.values())})\n",
    "ukb_ref_age = pd.merge(ukbiobank_age,ref_age, how = 'outer', on ='Age range')\n",
    "ukb_ref_age = ukb_ref_age[ukb_ref_age['Age range'] != 'Missing']\n",
    "ukb_ref_age['ukb_percent'] = (ukb_ref_age['Value_x']/ukb_ref_age['Value_x'].sum() *100) +0.0001\n",
    "ukb_ref_age['ref_percent'] = ukb_ref_age['Value_y']/ukb_ref_age['Value_y'].sum() *100 + 0.0001\n",
    "ukb_ref_age['reletive_percent'] = ukb_ref_age['ukb_percent']/ukb_ref_age['ref_percent'] * 100\n",
    "print(ukb_ref_age)"
   ]
  },
  {
   "cell_type": "code",
   "execution_count": 13,
   "metadata": {},
   "outputs": [],
   "source": [
    "s = figure(x_range = ukb_ref_age['Age range'], title = 'Button change test')\n",
    "source = ColumnDataSource(data = dict(x=ukb_ref_age['Age range'],\n",
    "                                      y=ukb_ref_age['Value_x'],\n",
    "                                      yt=ukb_ref_age['reletive_percent']))\n",
    "s.vbar(x = 'x', top ='y', source = source,width = 0.9)\n",
    "show(s)"
   ]
  },
  {
   "cell_type": "markdown",
   "metadata": {},
   "source": [
    "## Testing changing all the plots"
   ]
  },
  {
   "cell_type": "markdown",
   "metadata": {},
   "source": [
    "## Testing all together"
   ]
  }
 ],
 "metadata": {
  "kernelspec": {
   "display_name": "Python 3",
   "language": "python",
   "name": "python3"
  },
  "language_info": {
   "codemirror_mode": {
    "name": "ipython",
    "version": 3
   },
   "file_extension": ".py",
   "mimetype": "text/x-python",
   "name": "python",
   "nbconvert_exporter": "python",
   "pygments_lexer": "ipython3",
   "version": "3.7.7"
  }
 },
 "nbformat": 4,
 "nbformat_minor": 1
}