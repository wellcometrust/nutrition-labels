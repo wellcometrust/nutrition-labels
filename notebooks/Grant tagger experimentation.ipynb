{
 "cells": [
  {
   "cell_type": "code",
   "execution_count": 1,
   "metadata": {},
   "outputs": [],
   "source": [
    "import pandas as pd\n",
    "import matplotlib.pyplot as plt\n",
    "import os\n",
    "from numpy import arange"
   ]
  },
  {
   "cell_type": "code",
   "execution_count": 2,
   "metadata": {},
   "outputs": [],
   "source": [
    "os.chdir('../')"
   ]
  },
  {
   "cell_type": "code",
   "execution_count": 3,
   "metadata": {
    "pycharm": {
     "name": "#%%\n"
    }
   },
   "outputs": [],
   "source": [
    "%%capture\n",
    "from nutrition_labels.grant_tagger import GrantTagger"
   ]
  },
  {
   "cell_type": "code",
   "execution_count": 4,
   "metadata": {},
   "outputs": [],
   "source": [
    "data = pd.read_csv('data/processed/training_data.csv')"
   ]
  },
  {
   "cell_type": "code",
   "execution_count": 5,
   "metadata": {},
   "outputs": [
    {
     "data": {
      "text/plain": [
       "(array([ 16.,   5.,   3.,   4.,  10.,  16.,  23.,  51., 114., 368., 427.,\n",
       "         95.,  43.,  28.,  18.,   7.,   6.,   2.,   2.,  12.,   3.,   1.,\n",
       "          2.,   2.,   4.,   9.,   2.,   1.,   1.,   4.,   0.,   0.,   0.,\n",
       "          0.,   0.,   0.,   0.,   0.,   0.,   0.,   0.,   0.,   0.,   0.,\n",
       "          0.,   0.,   0.,   1.,   0.,   1.]),\n",
       " array([  13. ,  147.4,  281.8,  416.2,  550.6,  685. ,  819.4,  953.8,\n",
       "        1088.2, 1222.6, 1357. , 1491.4, 1625.8, 1760.2, 1894.6, 2029. ,\n",
       "        2163.4, 2297.8, 2432.2, 2566.6, 2701. , 2835.4, 2969.8, 3104.2,\n",
       "        3238.6, 3373. , 3507.4, 3641.8, 3776.2, 3910.6, 4045. , 4179.4,\n",
       "        4313.8, 4448.2, 4582.6, 4717. , 4851.4, 4985.8, 5120.2, 5254.6,\n",
       "        5389. , 5523.4, 5657.8, 5792.2, 5926.6, 6061. , 6195.4, 6329.8,\n",
       "        6464.2, 6598.6, 6733. ]),\n",
       " <BarContainer object of 50 artists>)"
      ]
     },
     "execution_count": 5,
     "metadata": {},
     "output_type": "execute_result"
    },
    {
     "data": {
      "image/png": "[encoded data removed]",
      "text/plain": [
       "<Figure size 432x288 with 1 Axes>"
      ]
     },
     "metadata": {
      "needs_background": "light"
     },
     "output_type": "display_data"
    }
   ],
   "source": [
    "plt.hist(data['Description'].apply(len), bins=50)"
   ]
  },
  {
   "cell_type": "code",
   "execution_count": null,
   "metadata": {},
   "outputs": [],
   "source": [
    "len([d for d in data['Description'] if len(d)<500])"
   ]
  },
  {
   "cell_type": "code",
   "execution_count": 6,
   "metadata": {},
   "outputs": [],
   "source": [
    "def run_experiment(sample_not_relevant_range, num_repeats, vectorizer_type,model_type = 'naive_bayes'):\n",
    "    experiments_results = []\n",
    "    grant_tagger = GrantTagger(\n",
    "                ngram_range=(1,2),\n",
    "                test_size=0.25,\n",
    "                vectorizer_type = vectorizer_type,\n",
    "                model_type = model_type\n",
    "            )\n",
    "    X_vect,y = grant_tagger.transform(data)\n",
    "    for n in sample_not_relevant_range:\n",
    "        average_results_train = None\n",
    "        average_results_test = None\n",
    "        for i in range(0, num_repeats):\n",
    "            # Take the average of 5 runs\n",
    "\n",
    "            X_train, X_test, y_train, y_test = grant_tagger.split_data(\n",
    "                X_vect,\n",
    "                y,\n",
    "                sample_not_relevant = n,\n",
    "                irrelevant_sample_seed = i,\n",
    "                split_seed=i\n",
    "                )\n",
    "            grant_tagger.fit(X_train, y_train)\n",
    "            results_train = grant_tagger.evaluate(X_train, y_train, print_results=False, average='weighted')\n",
    "            results_test = grant_tagger.evaluate(X_test, y_test, print_results=False, average='weighted')\n",
    "            if average_results_train: # will be the same for test too\n",
    "                for key in average_results_train.keys(): # will be the same for test too\n",
    "                    average_results_train[key] += results_train[key]\n",
    "                    average_results_test[key] += results_test[key]\n",
    "            else:\n",
    "                average_results_train = results_train\n",
    "                average_results_test = results_test\n",
    "        average_results_train = {key: value/num_repeats for key, value in average_results_train.items()}\n",
    "        average_results_test = {key: value/num_repeats for key, value in average_results_test.items()}\n",
    "        results_dict = {'sample_not_relevant': n}\n",
    "        for key, value in average_results_train.items():\n",
    "            results_dict[key+'_train'] = value\n",
    "        for key, value in average_results_test.items():\n",
    "            results_dict[key+'_test'] = value\n",
    "        experiments_results.append(results_dict)\n",
    "        \n",
    "    return experiments_results"
   ]
  },
  {
   "cell_type": "code",
   "execution_count": 7,
   "metadata": {
    "pycharm": {
     "name": "#%%\n"
    }
   },
   "outputs": [],
   "source": [
    "def plot_results(experiments_results_df):\n",
    "    fig, (ax1,ax2,ax3,ax4) = plt.subplots(nrows=1, ncols=4, figsize=(15, 4))\n",
    "    experiments_results_df.plot(kind='line', x='sample_not_relevant', y='accuracy_train',ax=ax1, marker='.')\n",
    "    experiments_results_df.plot(kind='line', x='sample_not_relevant', y='accuracy_test', color='red', ax=ax1, marker='.')\n",
    "    experiments_results_df.plot(kind='line', x='sample_not_relevant', y='f1_train',ax=ax2, marker='.')\n",
    "    experiments_results_df.plot(kind='line', x='sample_not_relevant', y='f1_test', color='red', ax=ax2, marker='.')\n",
    "    experiments_results_df.plot(kind='line', x='sample_not_relevant', y='precision_score_train',ax=ax3, marker='.')\n",
    "    experiments_results_df.plot(kind='line', x='sample_not_relevant', y='precision_score_test', color='red', ax=ax3, marker='.')\n",
    "    experiments_results_df.plot(kind='line', x='sample_not_relevant', y='recall_score_train',ax=ax4, marker='.')\n",
    "    experiments_results_df.plot(kind='line', x='sample_not_relevant', y='recall_score_test', color='red', ax=ax4, marker='.')\n",
    "    # fig.savefig(f'sample_not_relevant_{num_repeats}reps_{vectorizer_type}.png')\n",
    "    # plt.close(fig)\n",
    "    plt.show()"
   ]
  },
  {
   "cell_type": "code",
   "execution_count": 8,
   "metadata": {
    "scrolled": false
   },
   "outputs": [
    {
     "ename": "ValueError",
     "evalue": "Expected 2D array, got 1D array instead:\narray=[<1x134424 sparse matrix of type '<class 'numpy.int64'>'\n\twith 288 stored elements in Compressed Sparse Row format>\n <1x134424 sparse matrix of type '<class 'numpy.int64'>'\n\twith 309 stored elements in Compressed Sparse Row format>\n <1x134424 sparse matrix of type '<class 'numpy.int64'>'\n\twith 324 stored elements in Compressed Sparse Row format>\n <1x134424 sparse matrix of type '<class 'numpy.int64'>'\n\twith 258 stored elements in Compressed Sparse Row format>\n <1x134424 sparse matrix of type '<class 'numpy.int64'>'\n\twith 328 stored elements in Compressed Sparse Row format>\n <1x134424 sparse matrix of type '<class 'numpy.int64'>'\n\twith 304 stored elements in Compressed Sparse Row format>\n <1x134424 sparse matrix of type '<class 'numpy.int64'>'\n\twith 304 stored elements in Compressed Sparse Row format>\n <1x134424 sparse matrix of type '<class 'numpy.int64'>'\n\twith 286 stored elements in Compressed Sparse Row format>\n <1x134424 sparse matrix of type '<class 'numpy.int64'>'\n\twith 328 stored elements in Compressed Sparse Row format>\n <1x134424 sparse matrix of type '<class 'numpy.int64'>'\n\twith 429 stored elements in Compressed Sparse Row format>\n <1x134424 sparse matrix of type '<class 'numpy.int64'>'\n\twith 304 stored elements in Compressed Sparse Row format>\n <1x134424 sparse matrix of type '<class 'numpy.int64'>'\n\twith 310 stored elements in Compressed Sparse Row format>\n <1x134424 sparse matrix of type '<class 'numpy.int64'>'\n\twith 307 stored elements in Compressed Sparse Row format>\n <1x134424 sparse matrix of type '<class 'numpy.int64'>'\n\twith 323 stored elements in Compressed Sparse Row format>\n <1x134424 sparse matrix of type '<class 'numpy.int64'>'\n\twith 315 stored elements in Compressed Sparse Row format>\n <1x134424 sparse matrix of type '<class 'numpy.int64'>'\n\twith 3 stored elements in Compressed Sparse Row format>\n <1x134424 sparse matrix of type '<class 'numpy.int64'>'\n\twith 304 stored elements in Compressed Sparse Row format>\n <1x134424 sparse matrix of type '<class 'numpy.int64'>'\n\twith 567 stored elements in Compressed Sparse Row format>\n <1x134424 sparse matrix of type '<class 'numpy.int64'>'\n\twith 304 stored elements in Compressed Sparse Row format>\n <1x134424 sparse matrix of type '<class 'numpy.int64'>'\n\twith 321 stored elements in Compressed Sparse Row format>\n <1x134424 sparse matrix of type '<class 'numpy.int64'>'\n\twith 357 stored elements in Compressed Sparse Row format>\n <1x134424 sparse matrix of type '<class 'numpy.int64'>'\n\twith 376 stored elements in Compressed Sparse Row format>\n <1x134424 sparse matrix of type '<class 'numpy.int64'>'\n\twith 77 stored elements in Compressed Sparse Row format>\n <1x134424 sparse matrix of type '<class 'numpy.int64'>'\n\twith 313 stored elements in Compressed Sparse Row format>\n <1x134424 sparse matrix of type '<class 'numpy.int64'>'\n\twith 304 stored elements in Compressed Sparse Row format>\n <1x134424 sparse matrix of type '<class 'numpy.int64'>'\n\twith 3 stored elements in Compressed Sparse Row format>\n <1x134424 sparse matrix of type '<class 'numpy.int64'>'\n\twith 322 stored elements in Compressed Sparse Row format>\n <1x134424 sparse matrix of type '<class 'numpy.int64'>'\n\twith 3 stored elements in Compressed Sparse Row format>\n <1x134424 sparse matrix of type '<class 'numpy.int64'>'\n\twith 436 stored elements in Compressed Sparse Row format>\n <1x134424 sparse matrix of type '<class 'numpy.int64'>'\n\twith 300 stored elements in Compressed Sparse Row format>\n <1x134424 sparse matrix of type '<class 'numpy.int64'>'\n\twith 378 stored elements in Compressed Sparse Row format>\n <1x134424 sparse matrix of type '<class 'numpy.int64'>'\n\twith 270 stored elements in Compressed Sparse Row format>\n <1x134424 sparse matrix of type '<class 'numpy.int64'>'\n\twith 316 stored elements in Compressed Sparse Row format>\n <1x134424 sparse matrix of type '<class 'numpy.int64'>'\n\twith 295 stored elements in Compressed Sparse Row format>\n <1x134424 sparse matrix of type '<class 'numpy.int64'>'\n\twith 314 stored elements in Compressed Sparse Row format>\n <1x134424 sparse matrix of type '<class 'numpy.int64'>'\n\twith 305 stored elements in Compressed Sparse Row format>\n <1x134424 sparse matrix of type '<class 'numpy.int64'>'\n\twith 293 stored elements in Compressed Sparse Row format>\n <1x134424 sparse matrix of type '<class 'numpy.int64'>'\n\twith 329 stored elements in Compressed Sparse Row format>\n <1x134424 sparse matrix of type '<class 'numpy.int64'>'\n\twith 294 stored elements in Compressed Sparse Row format>\n <1x134424 sparse matrix of type '<class 'numpy.int64'>'\n\twith 359 stored elements in Compressed Sparse Row format>\n <1x134424 sparse matrix of type '<class 'numpy.int64'>'\n\twith 321 stored elements in Compressed Sparse Row format>\n <1x134424 sparse matrix of type '<class 'numpy.int64'>'\n\twith 432 stored elements in Compressed Sparse Row format>\n <1x134424 sparse matrix of type '<class 'numpy.int64'>'\n\twith 402 stored elements in Compressed Sparse Row format>\n <1x134424 sparse matrix of type '<class 'numpy.int64'>'\n\twith 279 stored elements in Compressed Sparse Row format>\n <1x134424 sparse matrix of type '<class 'numpy.int64'>'\n\twith 409 stored elements in Compressed Sparse Row format>\n <1x134424 sparse matrix of type '<class 'numpy.int64'>'\n\twith 332 stored elements in Compressed Sparse Row format>\n <1x134424 sparse matrix of type '<class 'numpy.int64'>'\n\twith 337 stored elements in Compressed Sparse Row format>\n <1x134424 sparse matrix of type '<class 'numpy.int64'>'\n\twith 340 stored elements in Compressed Sparse Row format>\n <1x134424 sparse matrix of type '<class 'numpy.int64'>'\n\twith 304 stored elements in Compressed Sparse Row format>\n <1x134424 sparse matrix of type '<class 'numpy.int64'>'\n\twith 316 stored elements in Compressed Sparse Row format>\n <1x134424 sparse matrix of type '<class 'numpy.int64'>'\n\twith 348 stored elements in Compressed Sparse Row format>\n <1x134424 sparse matrix of type '<class 'numpy.int64'>'\n\twith 312 stored elements in Compressed Sparse Row format>\n <1x134424 sparse matrix of type '<class 'numpy.int64'>'\n\twith 310 stored elements in Compressed Sparse Row format>\n <1x134424 sparse matrix of type '<class 'numpy.int64'>'\n\twith 381 stored elements in Compressed Sparse Row format>\n <1x134424 sparse matrix of type '<class 'numpy.int64'>'\n\twith 338 stored elements in Compressed Sparse Row format>\n <1x134424 sparse matrix of type '<class 'numpy.int64'>'\n\twith 42 stored elements in Compressed Sparse Row format>\n <1x134424 sparse matrix of type '<class 'numpy.int64'>'\n\twith 3 stored elements in Compressed Sparse Row format>\n <1x134424 sparse matrix of type '<class 'numpy.int64'>'\n\twith 308 stored elements in Compressed Sparse Row format>\n <1x134424 sparse matrix of type '<class 'numpy.int64'>'\n\twith 42 stored elements in Compressed Sparse Row format>\n <1x134424 sparse matrix of type '<class 'numpy.int64'>'\n\twith 326 stored elements in Compressed Sparse Row format>\n <1x134424 sparse matrix of type '<class 'numpy.int64'>'\n\twith 338 stored elements in Compressed Sparse Row format>\n <1x134424 sparse matrix of type '<class 'numpy.int64'>'\n\twith 221 stored elements in Compressed Sparse Row format>\n <1x134424 sparse matrix of type '<class 'numpy.int64'>'\n\twith 363 stored elements in Compressed Sparse Row format>\n <1x134424 sparse matrix of type '<class 'numpy.int64'>'\n\twith 737 stored elements in Compressed Sparse Row format>\n <1x134424 sparse matrix of type '<class 'numpy.int64'>'\n\twith 310 stored elements in Compressed Sparse Row format>\n <1x134424 sparse matrix of type '<class 'numpy.int64'>'\n\twith 315 stored elements in Compressed Sparse Row format>\n <1x134424 sparse matrix of type '<class 'numpy.int64'>'\n\twith 307 stored elements in Compressed Sparse Row format>\n <1x134424 sparse matrix of type '<class 'numpy.int64'>'\n\twith 358 stored elements in Compressed Sparse Row format>\n <1x134424 sparse matrix of type '<class 'numpy.int64'>'\n\twith 296 stored elements in Compressed Sparse Row format>\n <1x134424 sparse matrix of type '<class 'numpy.int64'>'\n\twith 315 stored elements in Compressed Sparse Row format>\n <1x134424 sparse matrix of type '<class 'numpy.int64'>'\n\twith 310 stored elements in Compressed Sparse Row format>\n <1x134424 sparse matrix of type '<class 'numpy.int64'>'\n\twith 286 stored elements in Compressed Sparse Row format>\n <1x134424 sparse matrix of type '<class 'numpy.int64'>'\n\twith 309 stored elements in Compressed Sparse Row format>\n <1x134424 sparse matrix of type '<class 'numpy.int64'>'\n\twith 432 stored elements in Compressed Sparse Row format>\n <1x134424 sparse matrix of type '<class 'numpy.int64'>'\n\twith 140 stored elements in Compressed Sparse Row format>\n <1x134424 sparse matrix of type '<class 'numpy.int64'>'\n\twith 291 stored elements in Compressed Sparse Row format>\n <1x134424 sparse matrix of type '<class 'numpy.int64'>'\n\twith 277 stored elements in Compressed Sparse Row format>\n <1x134424 sparse matrix of type '<class 'numpy.int64'>'\n\twith 3 stored elements in Compressed Sparse Row format>\n <1x134424 sparse matrix of type '<class 'numpy.int64'>'\n\twith 321 stored elements in Compressed Sparse Row format>\n <1x134424 sparse matrix of type '<class 'numpy.int64'>'\n\twith 286 stored elements in Compressed Sparse Row format>\n <1x134424 sparse matrix of type '<class 'numpy.int64'>'\n\twith 230 stored elements in Compressed Sparse Row format>\n <1x134424 sparse matrix of type '<class 'numpy.int64'>'\n\twith 330 stored elements in Compressed Sparse Row format>\n <1x134424 sparse matrix of type '<class 'numpy.int64'>'\n\twith 165 stored elements in Compressed Sparse Row format>\n <1x134424 sparse matrix of type '<class 'numpy.int64'>'\n\twith 311 stored elements in Compressed Sparse Row format>\n <1x134424 sparse matrix of type '<class 'numpy.int64'>'\n\twith 272 stored elements in Compressed Sparse Row format>\n <1x134424 sparse matrix of type '<class 'numpy.int64'>'\n\twith 304 stored elements in Compressed Sparse Row format>\n <1x134424 sparse matrix of type '<class 'numpy.int64'>'\n\twith 320 stored elements in Compressed Sparse Row format>\n <1x134424 sparse matrix of type '<class 'numpy.int64'>'\n\twith 288 stored elements in Compressed Sparse Row format>\n <1x134424 sparse matrix of type '<class 'numpy.int64'>'\n\twith 316 stored elements in Compressed Sparse Row format>\n <1x134424 sparse matrix of type '<class 'numpy.int64'>'\n\twith 307 stored elements in Compressed Sparse Row format>\n <1x134424 sparse matrix of type '<class 'numpy.int64'>'\n\twith 316 stored elements in Compressed Sparse Row format>\n <1x134424 sparse matrix of type '<class 'numpy.int64'>'\n\twith 337 stored elements in Compressed Sparse Row format>\n <1x134424 sparse matrix of type '<class 'numpy.int64'>'\n\twith 362 stored elements in Compressed Sparse Row format>\n <1x134424 sparse matrix of type '<class 'numpy.int64'>'\n\twith 861 stored elements in Compressed Sparse Row format>\n <1x134424 sparse matrix of type '<class 'numpy.int64'>'\n\twith 319 stored elements in Compressed Sparse Row format>\n <1x134424 sparse matrix of type '<class 'numpy.int64'>'\n\twith 315 stored elements in Compressed Sparse Row format>\n <1x134424 sparse matrix of type '<class 'numpy.int64'>'\n\twith 278 stored elements in Compressed Sparse Row format>\n <1x134424 sparse matrix of type '<class 'numpy.int64'>'\n\twith 319 stored elements in Compressed Sparse Row format>\n <1x134424 sparse matrix of type '<class 'numpy.int64'>'\n\twith 3 stored elements in Compressed Sparse Row format>\n <1x134424 sparse matrix of type '<class 'numpy.int64'>'\n\twith 3 stored elements in Compressed Sparse Row format>\n <1x134424 sparse matrix of type '<class 'numpy.int64'>'\n\twith 322 stored elements in Compressed Sparse Row format>\n <1x134424 sparse matrix of type '<class 'numpy.int64'>'\n\twith 3 stored elements in Compressed Sparse Row format>\n <1x134424 sparse matrix of type '<class 'numpy.int64'>'\n\twith 332 stored elements in Compressed Sparse Row format>\n <1x134424 sparse matrix of type '<class 'numpy.int64'>'\n\twith 378 stored elements in Compressed Sparse Row format>\n <1x134424 sparse matrix of type '<class 'numpy.int64'>'\n\twith 304 stored elements in Compressed Sparse Row format>\n <1x134424 sparse matrix of type '<class 'numpy.int64'>'\n\twith 307 stored elements in Compressed Sparse Row format>\n <1x134424 sparse matrix of type '<class 'numpy.int64'>'\n\twith 326 stored elements in Compressed Sparse Row format>\n <1x134424 sparse matrix of type '<class 'numpy.int64'>'\n\twith 332 stored elements in Compressed Sparse Row format>\n <1x134424 sparse matrix of type '<class 'numpy.int64'>'\n\twith 330 stored elements in Compressed Sparse Row format>\n <1x134424 sparse matrix of type '<class 'numpy.int64'>'\n\twith 331 stored elements in Compressed Sparse Row format>\n <1x134424 sparse matrix of type '<class 'numpy.int64'>'\n\twith 221 stored elements in Compressed Sparse Row format>\n <1x134424 sparse matrix of type '<class 'numpy.int64'>'\n\twith 305 stored elements in Compressed Sparse Row format>\n <1x134424 sparse matrix of type '<class 'numpy.int64'>'\n\twith 331 stored elements in Compressed Sparse Row format>\n <1x134424 sparse matrix of type '<class 'numpy.int64'>'\n\twith 291 stored elements in Compressed Sparse Row format>\n <1x134424 sparse matrix of type '<class 'numpy.int64'>'\n\twith 289 stored elements in Compressed Sparse Row format>\n <1x134424 sparse matrix of type '<class 'numpy.int64'>'\n\twith 288 stored elements in Compressed Sparse Row format>\n <1x134424 sparse matrix of type '<class 'numpy.int64'>'\n\twith 306 stored elements in Compressed Sparse Row format>\n <1x134424 sparse matrix of type '<class 'numpy.int64'>'\n\twith 277 stored elements in Compressed Sparse Row format>\n <1x134424 sparse matrix of type '<class 'numpy.int64'>'\n\twith 269 stored elements in Compressed Sparse Row format>\n <1x134424 sparse matrix of type '<class 'numpy.int64'>'\n\twith 265 stored elements in Compressed Sparse Row format>\n <1x134424 sparse matrix of type '<class 'numpy.int64'>'\n\twith 368 stored elements in Compressed Sparse Row format>\n <1x134424 sparse matrix of type '<class 'numpy.int64'>'\n\twith 327 stored elements in Compressed Sparse Row format>\n <1x134424 sparse matrix of type '<class 'numpy.int64'>'\n\twith 268 stored elements in Compressed Sparse Row format>\n <1x134424 sparse matrix of type '<class 'numpy.int64'>'\n\twith 275 stored elements in Compressed Sparse Row format>\n <1x134424 sparse matrix of type '<class 'numpy.int64'>'\n\twith 282 stored elements in Compressed Sparse Row format>\n <1x134424 sparse matrix of type '<class 'numpy.int64'>'\n\twith 290 stored elements in Compressed Sparse Row format>\n <1x134424 sparse matrix of type '<class 'numpy.int64'>'\n\twith 3 stored elements in Compressed Sparse Row format>\n <1x134424 sparse matrix of type '<class 'numpy.int64'>'\n\twith 444 stored elements in Compressed Sparse Row format>\n <1x134424 sparse matrix of type '<class 'numpy.int64'>'\n\twith 195 stored elements in Compressed Sparse Row format>\n <1x134424 sparse matrix of type '<class 'numpy.int64'>'\n\twith 42 stored elements in Compressed Sparse Row format>\n <1x134424 sparse matrix of type '<class 'numpy.int64'>'\n\twith 187 stored elements in Compressed Sparse Row format>\n <1x134424 sparse matrix of type '<class 'numpy.int64'>'\n\twith 277 stored elements in Compressed Sparse Row format>\n <1x134424 sparse matrix of type '<class 'numpy.int64'>'\n\twith 402 stored elements in Compressed Sparse Row format>\n <1x134424 sparse matrix of type '<class 'numpy.int64'>'\n\twith 308 stored elements in Compressed Sparse Row format>\n <1x134424 sparse matrix of type '<class 'numpy.int64'>'\n\twith 304 stored elements in Compressed Sparse Row format>\n <1x134424 sparse matrix of type '<class 'numpy.int64'>'\n\twith 288 stored elements in Compressed Sparse Row format>\n <1x134424 sparse matrix of type '<class 'numpy.int64'>'\n\twith 276 stored elements in Compressed Sparse Row format>\n <1x134424 sparse matrix of type '<class 'numpy.int64'>'\n\twith 382 stored elements in Compressed Sparse Row format>\n <1x134424 sparse matrix of type '<class 'numpy.int64'>'\n\twith 456 stored elements in Compressed Sparse Row format>\n <1x134424 sparse matrix of type '<class 'numpy.int64'>'\n\twith 316 stored elements in Compressed Sparse Row format>\n <1x134424 sparse matrix of type '<class 'numpy.int64'>'\n\twith 268 stored elements in Compressed Sparse Row format>\n <1x134424 sparse matrix of type '<class 'numpy.int64'>'\n\twith 294 stored elements in Compressed Sparse Row format>\n <1x134424 sparse matrix of type '<class 'numpy.int64'>'\n\twith 281 stored elements in Compressed Sparse Row format>\n <1x134424 sparse matrix of type '<class 'numpy.int64'>'\n\twith 297 stored elements in Compressed Sparse Row format>\n <1x134424 sparse matrix of type '<class 'numpy.int64'>'\n\twith 376 stored elements in Compressed Sparse Row format>\n <1x134424 sparse matrix of type '<class 'numpy.int64'>'\n\twith 302 stored elements in Compressed Sparse Row format>\n <1x134424 sparse matrix of type '<class 'numpy.int64'>'\n\twith 254 stored elements in Compressed Sparse Row format>\n <1x134424 sparse matrix of type '<class 'numpy.int64'>'\n\twith 320 stored elements in Compressed Sparse Row format>\n <1x134424 sparse matrix of type '<class 'numpy.int64'>'\n\twith 321 stored elements in Compressed Sparse Row format>\n <1x134424 sparse matrix of type '<class 'numpy.int64'>'\n\twith 276 stored elements in Compressed Sparse Row format>\n <1x134424 sparse matrix of type '<class 'numpy.int64'>'\n\twith 316 stored elements in Compressed Sparse Row format>\n <1x134424 sparse matrix of type '<class 'numpy.int64'>'\n\twith 335 stored elements in Compressed Sparse Row format>\n <1x134424 sparse matrix of type '<class 'numpy.int64'>'\n\twith 329 stored elements in Compressed Sparse Row format>\n <1x134424 sparse matrix of type '<class 'numpy.int64'>'\n\twith 317 stored elements in Compressed Sparse Row format>\n <1x134424 sparse matrix of type '<class 'numpy.int64'>'\n\twith 332 stored elements in Compressed Sparse Row format>\n <1x134424 sparse matrix of type '<class 'numpy.int64'>'\n\twith 317 stored elements in Compressed Sparse Row format>\n <1x134424 sparse matrix of type '<class 'numpy.int64'>'\n\twith 270 stored elements in Compressed Sparse Row format>\n <1x134424 sparse matrix of type '<class 'numpy.int64'>'\n\twith 304 stored elements in Compressed Sparse Row format>\n <1x134424 sparse matrix of type '<class 'numpy.int64'>'\n\twith 3 stored elements in Compressed Sparse Row format>\n <1x134424 sparse matrix of type '<class 'numpy.int64'>'\n\twith 306 stored elements in Compressed Sparse Row format>\n <1x134424 sparse matrix of type '<class 'numpy.int64'>'\n\twith 280 stored elements in Compressed Sparse Row format>\n <1x134424 sparse matrix of type '<class 'numpy.int64'>'\n\twith 312 stored elements in Compressed Sparse Row format>\n <1x134424 sparse matrix of type '<class 'numpy.int64'>'\n\twith 310 stored elements in Compressed Sparse Row format>\n <1x134424 sparse matrix of type '<class 'numpy.int64'>'\n\twith 3 stored elements in Compressed Sparse Row format>\n <1x134424 sparse matrix of type '<class 'numpy.int64'>'\n\twith 3 stored elements in Compressed Sparse Row format>\n <1x134424 sparse matrix of type '<class 'numpy.int64'>'\n\twith 323 stored elements in Compressed Sparse Row format>\n <1x134424 sparse matrix of type '<class 'numpy.int64'>'\n\twith 315 stored elements in Compressed Sparse Row format>\n <1x134424 sparse matrix of type '<class 'numpy.int64'>'\n\twith 304 stored elements in Compressed Sparse Row format>\n <1x134424 sparse matrix of type '<class 'numpy.int64'>'\n\twith 329 stored elements in Compressed Sparse Row format>\n <1x134424 sparse matrix of type '<class 'numpy.int64'>'\n\twith 338 stored elements in Compressed Sparse Row format>\n <1x134424 sparse matrix of type '<class 'numpy.int64'>'\n\twith 144 stored elements in Compressed Sparse Row format>\n <1x134424 sparse matrix of type '<class 'numpy.int64'>'\n\twith 229 stored elements in Compressed Sparse Row format>\n <1x134424 sparse matrix of type '<class 'numpy.int64'>'\n\twith 465 stored elements in Compressed Sparse Row format>\n <1x134424 sparse matrix of type '<class 'numpy.int64'>'\n\twith 315 stored elements in Compressed Sparse Row format>\n <1x134424 sparse matrix of type '<class 'numpy.int64'>'\n\twith 309 stored elements in Compressed Sparse Row format>\n <1x134424 sparse matrix of type '<class 'numpy.int64'>'\n\twith 257 stored elements in Compressed Sparse Row format>\n <1x134424 sparse matrix of type '<class 'numpy.int64'>'\n\twith 387 stored elements in Compressed Sparse Row format>\n <1x134424 sparse matrix of type '<class 'numpy.int64'>'\n\twith 301 stored elements in Compressed Sparse Row format>\n <1x134424 sparse matrix of type '<class 'numpy.int64'>'\n\twith 312 stored elements in Compressed Sparse Row format>\n <1x134424 sparse matrix of type '<class 'numpy.int64'>'\n\twith 326 stored elements in Compressed Sparse Row format>\n <1x134424 sparse matrix of type '<class 'numpy.int64'>'\n\twith 331 stored elements in Compressed Sparse Row format>\n <1x134424 sparse matrix of type '<class 'numpy.int64'>'\n\twith 320 stored elements in Compressed Sparse Row format>\n <1x134424 sparse matrix of type '<class 'numpy.int64'>'\n\twith 316 stored elements in Compressed Sparse Row format>\n <1x134424 sparse matrix of type '<class 'numpy.int64'>'\n\twith 291 stored elements in Compressed Sparse Row format>\n <1x134424 sparse matrix of type '<class 'numpy.int64'>'\n\twith 321 stored elements in Compressed Sparse Row format>\n <1x134424 sparse matrix of type '<class 'numpy.int64'>'\n\twith 307 stored elements in Compressed Sparse Row format>\n <1x134424 sparse matrix of type '<class 'numpy.int64'>'\n\twith 315 stored elements in Compressed Sparse Row format>\n <1x134424 sparse matrix of type '<class 'numpy.int64'>'\n\twith 329 stored elements in Compressed Sparse Row format>\n <1x134424 sparse matrix of type '<class 'numpy.int64'>'\n\twith 319 stored elements in Compressed Sparse Row format>\n <1x134424 sparse matrix of type '<class 'numpy.int64'>'\n\twith 322 stored elements in Compressed Sparse Row format>\n <1x134424 sparse matrix of type '<class 'numpy.int64'>'\n\twith 329 stored elements in Compressed Sparse Row format>\n <1x134424 sparse matrix of type '<class 'numpy.int64'>'\n\twith 328 stored elements in Compressed Sparse Row format>\n <1x134424 sparse matrix of type '<class 'numpy.int64'>'\n\twith 289 stored elements in Compressed Sparse Row format>\n <1x134424 sparse matrix of type '<class 'numpy.int64'>'\n\twith 319 stored elements in Compressed Sparse Row format>\n <1x134424 sparse matrix of type '<class 'numpy.int64'>'\n\twith 323 stored elements in Compressed Sparse Row format>\n <1x134424 sparse matrix of type '<class 'numpy.int64'>'\n\twith 288 stored elements in Compressed Sparse Row format>\n <1x134424 sparse matrix of type '<class 'numpy.int64'>'\n\twith 281 stored elements in Compressed Sparse Row format>\n <1x134424 sparse matrix of type '<class 'numpy.int64'>'\n\twith 368 stored elements in Compressed Sparse Row format>\n <1x134424 sparse matrix of type '<class 'numpy.int64'>'\n\twith 314 stored elements in Compressed Sparse Row format>\n <1x134424 sparse matrix of type '<class 'numpy.int64'>'\n\twith 220 stored elements in Compressed Sparse Row format>\n <1x134424 sparse matrix of type '<class 'numpy.int64'>'\n\twith 523 stored elements in Compressed Sparse Row format>\n <1x134424 sparse matrix of type '<class 'numpy.int64'>'\n\twith 282 stored elements in Compressed Sparse Row format>\n <1x134424 sparse matrix of type '<class 'numpy.int64'>'\n\twith 329 stored elements in Compressed Sparse Row format>\n <1x134424 sparse matrix of type '<class 'numpy.int64'>'\n\twith 338 stored elements in Compressed Sparse Row format>\n <1x134424 sparse matrix of type '<class 'numpy.int64'>'\n\twith 292 stored elements in Compressed Sparse Row format>\n <1x134424 sparse matrix of type '<class 'numpy.int64'>'\n\twith 323 stored elements in Compressed Sparse Row format>\n <1x134424 sparse matrix of type '<class 'numpy.int64'>'\n\twith 316 stored elements in Compressed Sparse Row format>\n <1x134424 sparse matrix of type '<class 'numpy.int64'>'\n\twith 235 stored elements in Compressed Sparse Row format>\n <1x134424 sparse matrix of type '<class 'numpy.int64'>'\n\twith 354 stored elements in Compressed Sparse Row format>\n <1x134424 sparse matrix of type '<class 'numpy.int64'>'\n\twith 3 stored elements in Compressed Sparse Row format>\n <1x134424 sparse matrix of type '<class 'numpy.int64'>'\n\twith 328 stored elements in Compressed Sparse Row format>\n <1x134424 sparse matrix of type '<class 'numpy.int64'>'\n\twith 344 stored elements in Compressed Sparse Row format>\n <1x134424 sparse matrix of type '<class 'numpy.int64'>'\n\twith 333 stored elements in Compressed Sparse Row format>\n <1x134424 sparse matrix of type '<class 'numpy.int64'>'\n\twith 560 stored elements in Compressed Sparse Row format>\n <1x134424 sparse matrix of type '<class 'numpy.int64'>'\n\twith 286 stored elements in Compressed Sparse Row format>\n <1x134424 sparse matrix of type '<class 'numpy.int64'>'\n\twith 224 stored elements in Compressed Sparse Row format>\n <1x134424 sparse matrix of type '<class 'numpy.int64'>'\n\twith 42 stored elements in Compressed Sparse Row format>\n <1x134424 sparse matrix of type '<class 'numpy.int64'>'\n\twith 316 stored elements in Compressed Sparse Row format>\n <1x134424 sparse matrix of type '<class 'numpy.int64'>'\n\twith 272 stored elements in Compressed Sparse Row format>\n <1x134424 sparse matrix of type '<class 'numpy.int64'>'\n\twith 326 stored elements in Compressed Sparse Row format>\n <1x134424 sparse matrix of type '<class 'numpy.int64'>'\n\twith 313 stored elements in Compressed Sparse Row format>\n <1x134424 sparse matrix of type '<class 'numpy.int64'>'\n\twith 332 stored elements in Compressed Sparse Row format>\n <1x134424 sparse matrix of type '<class 'numpy.int64'>'\n\twith 247 stored elements in Compressed Sparse Row format>\n <1x134424 sparse matrix of type '<class 'numpy.int64'>'\n\twith 225 stored elements in Compressed Sparse Row format>\n <1x134424 sparse matrix of type '<class 'numpy.int64'>'\n\twith 1224 stored elements in Compressed Sparse Row format>\n <1x134424 sparse matrix of type '<class 'numpy.int64'>'\n\twith 369 stored elements in Compressed Sparse Row format>\n <1x134424 sparse matrix of type '<class 'numpy.int64'>'\n\twith 311 stored elements in Compressed Sparse Row format>\n <1x134424 sparse matrix of type '<class 'numpy.int64'>'\n\twith 304 stored elements in Compressed Sparse Row format>\n <1x134424 sparse matrix of type '<class 'numpy.int64'>'\n\twith 313 stored elements in Compressed Sparse Row format>\n <1x134424 sparse matrix of type '<class 'numpy.int64'>'\n\twith 294 stored elements in Compressed Sparse Row format>\n <1x134424 sparse matrix of type '<class 'numpy.int64'>'\n\twith 304 stored elements in Compressed Sparse Row format>\n <1x134424 sparse matrix of type '<class 'numpy.int64'>'\n\twith 325 stored elements in Compressed Sparse Row format>\n <1x134424 sparse matrix of type '<class 'numpy.int64'>'\n\twith 269 stored elements in Compressed Sparse Row format>\n <1x134424 sparse matrix of type '<class 'numpy.int64'>'\n\twith 344 stored elements in Compressed Sparse Row format>\n <1x134424 sparse matrix of type '<class 'numpy.int64'>'\n\twith 407 stored elements in Compressed Sparse Row format>\n <1x134424 sparse matrix of type '<class 'numpy.int64'>'\n\twith 322 stored elements in Compressed Sparse Row format>\n <1x134424 sparse matrix of type '<class 'numpy.int64'>'\n\twith 447 stored elements in Compressed Sparse Row format>\n <1x134424 sparse matrix of type '<class 'numpy.int64'>'\n\twith 30 stored elements in Compressed Sparse Row format>\n <1x134424 sparse matrix of type '<class 'numpy.int64'>'\n\twith 310 stored elements in Compressed Sparse Row format>\n <1x134424 sparse matrix of type '<class 'numpy.int64'>'\n\twith 344 stored elements in Compressed Sparse Row format>\n <1x134424 sparse matrix of type '<class 'numpy.int64'>'\n\twith 326 stored elements in Compressed Sparse Row format>\n <1x134424 sparse matrix of type '<class 'numpy.int64'>'\n\twith 609 stored elements in Compressed Sparse Row format>\n <1x134424 sparse matrix of type '<class 'numpy.int64'>'\n\twith 289 stored elements in Compressed Sparse Row format>\n <1x134424 sparse matrix of type '<class 'numpy.int64'>'\n\twith 334 stored elements in Compressed Sparse Row format>\n <1x134424 sparse matrix of type '<class 'numpy.int64'>'\n\twith 328 stored elements in Compressed Sparse Row format>\n <1x134424 sparse matrix of type '<class 'numpy.int64'>'\n\twith 377 stored elements in Compressed Sparse Row format>\n <1x134424 sparse matrix of type '<class 'numpy.int64'>'\n\twith 258 stored elements in Compressed Sparse Row format>\n <1x134424 sparse matrix of type '<class 'numpy.int64'>'\n\twith 293 stored elements in Compressed Sparse Row format>\n <1x134424 sparse matrix of type '<class 'numpy.int64'>'\n\twith 311 stored elements in Compressed Sparse Row format>\n <1x134424 sparse matrix of type '<class 'numpy.int64'>'\n\twith 295 stored elements in Compressed Sparse Row format>\n <1x134424 sparse matrix of type '<class 'numpy.int64'>'\n\twith 752 stored elements in Compressed Sparse Row format>\n <1x134424 sparse matrix of type '<class 'numpy.int64'>'\n\twith 303 stored elements in Compressed Sparse Row format>\n <1x134424 sparse matrix of type '<class 'numpy.int64'>'\n\twith 304 stored elements in Compressed Sparse Row format>\n <1x134424 sparse matrix of type '<class 'numpy.int64'>'\n\twith 296 stored elements in Compressed Sparse Row format>\n <1x134424 sparse matrix of type '<class 'numpy.int64'>'\n\twith 324 stored elements in Compressed Sparse Row format>\n <1x134424 sparse matrix of type '<class 'numpy.int64'>'\n\twith 407 stored elements in Compressed Sparse Row format>\n <1x134424 sparse matrix of type '<class 'numpy.int64'>'\n\twith 304 stored elements in Compressed Sparse Row format>\n <1x134424 sparse matrix of type '<class 'numpy.int64'>'\n\twith 306 stored elements in Compressed Sparse Row format>\n <1x134424 sparse matrix of type '<class 'numpy.int64'>'\n\twith 282 stored elements in Compressed Sparse Row format>\n <1x134424 sparse matrix of type '<class 'numpy.int64'>'\n\twith 618 stored elements in Compressed Sparse Row format>\n <1x134424 sparse matrix of type '<class 'numpy.int64'>'\n\twith 323 stored elements in Compressed Sparse Row format>\n <1x134424 sparse matrix of type '<class 'numpy.int64'>'\n\twith 113 stored elements in Compressed Sparse Row format>].\nReshape your data either using array.reshape(-1, 1) if your data has a single feature or array.reshape(1, -1) if it contains a single sample.",
     "output_type": "error",
     "traceback": [
      "\u001B[1;31m---------------------------------------------------------------------------\u001B[0m",
      "\u001B[1;31mValueError\u001B[0m                                Traceback (most recent call last)",
      "\u001B[1;32m<ipython-input-8-c6a79bab67bf>\u001B[0m in \u001B[0;36m<module>\u001B[1;34m\u001B[0m\n\u001B[0;32m      1\u001B[0m count_experiments_results = run_experiment(\n\u001B[1;32m----> 2\u001B[1;33m     \u001B[0marange\u001B[0m\u001B[1;33m(\u001B[0m\u001B[1;36m0.2\u001B[0m\u001B[1;33m,\u001B[0m \u001B[1;36m2\u001B[0m\u001B[1;33m,\u001B[0m\u001B[1;36m0.075\u001B[0m\u001B[1;33m)\u001B[0m\u001B[1;33m,\u001B[0m \u001B[0mnum_repeats\u001B[0m\u001B[1;33m=\u001B[0m\u001B[1;36m10\u001B[0m\u001B[1;33m,\u001B[0m \u001B[0mvectorizer_type\u001B[0m\u001B[1;33m=\u001B[0m\u001B[1;34m'count'\u001B[0m\u001B[1;33m\u001B[0m\u001B[1;33m\u001B[0m\u001B[0m\n\u001B[0m\u001B[0;32m      3\u001B[0m )\n",
      "\u001B[1;32m<ipython-input-6-346fb741e26a>\u001B[0m in \u001B[0;36mrun_experiment\u001B[1;34m(sample_not_relevant_range, num_repeats, vectorizer_type, model_type)\u001B[0m\n\u001B[0;32m     21\u001B[0m                 \u001B[0msplit_seed\u001B[0m\u001B[1;33m=\u001B[0m\u001B[0mi\u001B[0m\u001B[1;33m\u001B[0m\u001B[1;33m\u001B[0m\u001B[0m\n\u001B[0;32m     22\u001B[0m                 )\n\u001B[1;32m---> 23\u001B[1;33m             \u001B[0mgrant_tagger\u001B[0m\u001B[1;33m.\u001B[0m\u001B[0mfit\u001B[0m\u001B[1;33m(\u001B[0m\u001B[0mX_train\u001B[0m\u001B[1;33m,\u001B[0m \u001B[0my_train\u001B[0m\u001B[1;33m)\u001B[0m\u001B[1;33m\u001B[0m\u001B[1;33m\u001B[0m\u001B[0m\n\u001B[0m\u001B[0;32m     24\u001B[0m             \u001B[0mresults_train\u001B[0m \u001B[1;33m=\u001B[0m \u001B[0mgrant_tagger\u001B[0m\u001B[1;33m.\u001B[0m\u001B[0mevaluate\u001B[0m\u001B[1;33m(\u001B[0m\u001B[0mX_train\u001B[0m\u001B[1;33m,\u001B[0m \u001B[0my_train\u001B[0m\u001B[1;33m,\u001B[0m \u001B[0mprint_results\u001B[0m\u001B[1;33m=\u001B[0m\u001B[1;32mFalse\u001B[0m\u001B[1;33m,\u001B[0m \u001B[0maverage\u001B[0m\u001B[1;33m=\u001B[0m\u001B[1;34m'weighted'\u001B[0m\u001B[1;33m)\u001B[0m\u001B[1;33m\u001B[0m\u001B[1;33m\u001B[0m\u001B[0m\n\u001B[0;32m     25\u001B[0m             \u001B[0mresults_test\u001B[0m \u001B[1;33m=\u001B[0m \u001B[0mgrant_tagger\u001B[0m\u001B[1;33m.\u001B[0m\u001B[0mevaluate\u001B[0m\u001B[1;33m(\u001B[0m\u001B[0mX_test\u001B[0m\u001B[1;33m,\u001B[0m \u001B[0my_test\u001B[0m\u001B[1;33m,\u001B[0m \u001B[0mprint_results\u001B[0m\u001B[1;33m=\u001B[0m\u001B[1;32mFalse\u001B[0m\u001B[1;33m,\u001B[0m \u001B[0maverage\u001B[0m\u001B[1;33m=\u001B[0m\u001B[1;34m'weighted'\u001B[0m\u001B[1;33m)\u001B[0m\u001B[1;33m\u001B[0m\u001B[1;33m\u001B[0m\u001B[0m\n",
      "\u001B[1;32m~\\Documents\\wellcome\\nutrition-labels\\nutrition_labels\\grant_tagger.py\u001B[0m in \u001B[0;36mfit\u001B[1;34m(self, X, y)\u001B[0m\n\u001B[0;32m     99\u001B[0m         \u001B[1;32melse\u001B[0m\u001B[1;33m:\u001B[0m\u001B[1;33m\u001B[0m\u001B[1;33m\u001B[0m\u001B[0m\n\u001B[0;32m    100\u001B[0m             \u001B[0mprint\u001B[0m\u001B[1;33m(\u001B[0m\u001B[1;34m'Model type not recognised'\u001B[0m\u001B[1;33m)\u001B[0m\u001B[1;33m\u001B[0m\u001B[1;33m\u001B[0m\u001B[0m\n\u001B[1;32m--> 101\u001B[1;33m         \u001B[0mself\u001B[0m\u001B[1;33m.\u001B[0m\u001B[0mmodel\u001B[0m \u001B[1;33m=\u001B[0m \u001B[0mmodel\u001B[0m\u001B[1;33m.\u001B[0m\u001B[0mfit\u001B[0m\u001B[1;33m(\u001B[0m\u001B[0mX\u001B[0m\u001B[1;33m,\u001B[0m \u001B[0my\u001B[0m\u001B[1;33m)\u001B[0m\u001B[1;33m\u001B[0m\u001B[1;33m\u001B[0m\u001B[0m\n\u001B[0m\u001B[0;32m    102\u001B[0m \u001B[1;33m\u001B[0m\u001B[0m\n\u001B[0;32m    103\u001B[0m     \u001B[1;32mdef\u001B[0m \u001B[0mpredict\u001B[0m\u001B[1;33m(\u001B[0m\u001B[0mself\u001B[0m\u001B[1;33m,\u001B[0m \u001B[0mX\u001B[0m\u001B[1;33m)\u001B[0m\u001B[1;33m:\u001B[0m\u001B[1;33m\u001B[0m\u001B[1;33m\u001B[0m\u001B[0m\n",
      "\u001B[1;32mc:\\users\\nonie\\documents\\wellcome\\nutrition-labels\\venv\\lib\\site-packages\\sklearn\\naive_bayes.py\u001B[0m in \u001B[0;36mfit\u001B[1;34m(self, X, y, sample_weight)\u001B[0m\n\u001B[0;32m    613\u001B[0m         \u001B[0mself\u001B[0m \u001B[1;33m:\u001B[0m \u001B[0mobject\u001B[0m\u001B[1;33m\u001B[0m\u001B[1;33m\u001B[0m\u001B[0m\n\u001B[0;32m    614\u001B[0m         \"\"\"\n\u001B[1;32m--> 615\u001B[1;33m         \u001B[0mX\u001B[0m\u001B[1;33m,\u001B[0m \u001B[0my\u001B[0m \u001B[1;33m=\u001B[0m \u001B[0mself\u001B[0m\u001B[1;33m.\u001B[0m\u001B[0m_check_X_y\u001B[0m\u001B[1;33m(\u001B[0m\u001B[0mX\u001B[0m\u001B[1;33m,\u001B[0m \u001B[0my\u001B[0m\u001B[1;33m)\u001B[0m\u001B[1;33m\u001B[0m\u001B[1;33m\u001B[0m\u001B[0m\n\u001B[0m\u001B[0;32m    616\u001B[0m         \u001B[0m_\u001B[0m\u001B[1;33m,\u001B[0m \u001B[0mn_features\u001B[0m \u001B[1;33m=\u001B[0m \u001B[0mX\u001B[0m\u001B[1;33m.\u001B[0m\u001B[0mshape\u001B[0m\u001B[1;33m\u001B[0m\u001B[1;33m\u001B[0m\u001B[0m\n\u001B[0;32m    617\u001B[0m         \u001B[0mself\u001B[0m\u001B[1;33m.\u001B[0m\u001B[0mn_features_\u001B[0m \u001B[1;33m=\u001B[0m \u001B[0mn_features\u001B[0m\u001B[1;33m\u001B[0m\u001B[1;33m\u001B[0m\u001B[0m\n",
      "\u001B[1;32mc:\\users\\nonie\\documents\\wellcome\\nutrition-labels\\venv\\lib\\site-packages\\sklearn\\naive_bayes.py\u001B[0m in \u001B[0;36m_check_X_y\u001B[1;34m(self, X, y)\u001B[0m\n\u001B[0;32m    478\u001B[0m \u001B[1;33m\u001B[0m\u001B[0m\n\u001B[0;32m    479\u001B[0m     \u001B[1;32mdef\u001B[0m \u001B[0m_check_X_y\u001B[0m\u001B[1;33m(\u001B[0m\u001B[0mself\u001B[0m\u001B[1;33m,\u001B[0m \u001B[0mX\u001B[0m\u001B[1;33m,\u001B[0m \u001B[0my\u001B[0m\u001B[1;33m)\u001B[0m\u001B[1;33m:\u001B[0m\u001B[1;33m\u001B[0m\u001B[1;33m\u001B[0m\u001B[0m\n\u001B[1;32m--> 480\u001B[1;33m         \u001B[1;32mreturn\u001B[0m \u001B[0mself\u001B[0m\u001B[1;33m.\u001B[0m\u001B[0m_validate_data\u001B[0m\u001B[1;33m(\u001B[0m\u001B[0mX\u001B[0m\u001B[1;33m,\u001B[0m \u001B[0my\u001B[0m\u001B[1;33m,\u001B[0m \u001B[0maccept_sparse\u001B[0m\u001B[1;33m=\u001B[0m\u001B[1;34m'csr'\u001B[0m\u001B[1;33m)\u001B[0m\u001B[1;33m\u001B[0m\u001B[1;33m\u001B[0m\u001B[0m\n\u001B[0m\u001B[0;32m    481\u001B[0m \u001B[1;33m\u001B[0m\u001B[0m\n\u001B[0;32m    482\u001B[0m     \u001B[1;32mdef\u001B[0m \u001B[0m_update_class_log_prior\u001B[0m\u001B[1;33m(\u001B[0m\u001B[0mself\u001B[0m\u001B[1;33m,\u001B[0m \u001B[0mclass_prior\u001B[0m\u001B[1;33m=\u001B[0m\u001B[1;32mNone\u001B[0m\u001B[1;33m)\u001B[0m\u001B[1;33m:\u001B[0m\u001B[1;33m\u001B[0m\u001B[1;33m\u001B[0m\u001B[0m\n",
      "\u001B[1;32mc:\\users\\nonie\\documents\\wellcome\\nutrition-labels\\venv\\lib\\site-packages\\sklearn\\base.py\u001B[0m in \u001B[0;36m_validate_data\u001B[1;34m(self, X, y, reset, validate_separately, **check_params)\u001B[0m\n\u001B[0;32m    430\u001B[0m                 \u001B[0my\u001B[0m \u001B[1;33m=\u001B[0m \u001B[0mcheck_array\u001B[0m\u001B[1;33m(\u001B[0m\u001B[0my\u001B[0m\u001B[1;33m,\u001B[0m \u001B[1;33m**\u001B[0m\u001B[0mcheck_y_params\u001B[0m\u001B[1;33m)\u001B[0m\u001B[1;33m\u001B[0m\u001B[1;33m\u001B[0m\u001B[0m\n\u001B[0;32m    431\u001B[0m             \u001B[1;32melse\u001B[0m\u001B[1;33m:\u001B[0m\u001B[1;33m\u001B[0m\u001B[1;33m\u001B[0m\u001B[0m\n\u001B[1;32m--> 432\u001B[1;33m                 \u001B[0mX\u001B[0m\u001B[1;33m,\u001B[0m \u001B[0my\u001B[0m \u001B[1;33m=\u001B[0m \u001B[0mcheck_X_y\u001B[0m\u001B[1;33m(\u001B[0m\u001B[0mX\u001B[0m\u001B[1;33m,\u001B[0m \u001B[0my\u001B[0m\u001B[1;33m,\u001B[0m \u001B[1;33m**\u001B[0m\u001B[0mcheck_params\u001B[0m\u001B[1;33m)\u001B[0m\u001B[1;33m\u001B[0m\u001B[1;33m\u001B[0m\u001B[0m\n\u001B[0m\u001B[0;32m    433\u001B[0m             \u001B[0mout\u001B[0m \u001B[1;33m=\u001B[0m \u001B[0mX\u001B[0m\u001B[1;33m,\u001B[0m \u001B[0my\u001B[0m\u001B[1;33m\u001B[0m\u001B[1;33m\u001B[0m\u001B[0m\n\u001B[0;32m    434\u001B[0m \u001B[1;33m\u001B[0m\u001B[0m\n",
      "\u001B[1;32mc:\\users\\nonie\\documents\\wellcome\\nutrition-labels\\venv\\lib\\site-packages\\sklearn\\utils\\validation.py\u001B[0m in \u001B[0;36minner_f\u001B[1;34m(*args, **kwargs)\u001B[0m\n\u001B[0;32m     71\u001B[0m                           FutureWarning)\n\u001B[0;32m     72\u001B[0m         \u001B[0mkwargs\u001B[0m\u001B[1;33m.\u001B[0m\u001B[0mupdate\u001B[0m\u001B[1;33m(\u001B[0m\u001B[1;33m{\u001B[0m\u001B[0mk\u001B[0m\u001B[1;33m:\u001B[0m \u001B[0marg\u001B[0m \u001B[1;32mfor\u001B[0m \u001B[0mk\u001B[0m\u001B[1;33m,\u001B[0m \u001B[0marg\u001B[0m \u001B[1;32min\u001B[0m \u001B[0mzip\u001B[0m\u001B[1;33m(\u001B[0m\u001B[0msig\u001B[0m\u001B[1;33m.\u001B[0m\u001B[0mparameters\u001B[0m\u001B[1;33m,\u001B[0m \u001B[0margs\u001B[0m\u001B[1;33m)\u001B[0m\u001B[1;33m}\u001B[0m\u001B[1;33m)\u001B[0m\u001B[1;33m\u001B[0m\u001B[1;33m\u001B[0m\u001B[0m\n\u001B[1;32m---> 73\u001B[1;33m         \u001B[1;32mreturn\u001B[0m \u001B[0mf\u001B[0m\u001B[1;33m(\u001B[0m\u001B[1;33m**\u001B[0m\u001B[0mkwargs\u001B[0m\u001B[1;33m)\u001B[0m\u001B[1;33m\u001B[0m\u001B[1;33m\u001B[0m\u001B[0m\n\u001B[0m\u001B[0;32m     74\u001B[0m     \u001B[1;32mreturn\u001B[0m \u001B[0minner_f\u001B[0m\u001B[1;33m\u001B[0m\u001B[1;33m\u001B[0m\u001B[0m\n\u001B[0;32m     75\u001B[0m \u001B[1;33m\u001B[0m\u001B[0m\n",
      "\u001B[1;32mc:\\users\\nonie\\documents\\wellcome\\nutrition-labels\\venv\\lib\\site-packages\\sklearn\\utils\\validation.py\u001B[0m in \u001B[0;36mcheck_X_y\u001B[1;34m(X, y, accept_sparse, accept_large_sparse, dtype, order, copy, force_all_finite, ensure_2d, allow_nd, multi_output, ensure_min_samples, ensure_min_features, y_numeric, estimator)\u001B[0m\n\u001B[0;32m    801\u001B[0m                     \u001B[0mensure_min_samples\u001B[0m\u001B[1;33m=\u001B[0m\u001B[0mensure_min_samples\u001B[0m\u001B[1;33m,\u001B[0m\u001B[1;33m\u001B[0m\u001B[1;33m\u001B[0m\u001B[0m\n\u001B[0;32m    802\u001B[0m                     \u001B[0mensure_min_features\u001B[0m\u001B[1;33m=\u001B[0m\u001B[0mensure_min_features\u001B[0m\u001B[1;33m,\u001B[0m\u001B[1;33m\u001B[0m\u001B[1;33m\u001B[0m\u001B[0m\n\u001B[1;32m--> 803\u001B[1;33m                     estimator=estimator)\n\u001B[0m\u001B[0;32m    804\u001B[0m     \u001B[1;32mif\u001B[0m \u001B[0mmulti_output\u001B[0m\u001B[1;33m:\u001B[0m\u001B[1;33m\u001B[0m\u001B[1;33m\u001B[0m\u001B[0m\n\u001B[0;32m    805\u001B[0m         y = check_array(y, accept_sparse='csr', force_all_finite=True,\n",
      "\u001B[1;32mc:\\users\\nonie\\documents\\wellcome\\nutrition-labels\\venv\\lib\\site-packages\\sklearn\\utils\\validation.py\u001B[0m in \u001B[0;36minner_f\u001B[1;34m(*args, **kwargs)\u001B[0m\n\u001B[0;32m     71\u001B[0m                           FutureWarning)\n\u001B[0;32m     72\u001B[0m         \u001B[0mkwargs\u001B[0m\u001B[1;33m.\u001B[0m\u001B[0mupdate\u001B[0m\u001B[1;33m(\u001B[0m\u001B[1;33m{\u001B[0m\u001B[0mk\u001B[0m\u001B[1;33m:\u001B[0m \u001B[0marg\u001B[0m \u001B[1;32mfor\u001B[0m \u001B[0mk\u001B[0m\u001B[1;33m,\u001B[0m \u001B[0marg\u001B[0m \u001B[1;32min\u001B[0m \u001B[0mzip\u001B[0m\u001B[1;33m(\u001B[0m\u001B[0msig\u001B[0m\u001B[1;33m.\u001B[0m\u001B[0mparameters\u001B[0m\u001B[1;33m,\u001B[0m \u001B[0margs\u001B[0m\u001B[1;33m)\u001B[0m\u001B[1;33m}\u001B[0m\u001B[1;33m)\u001B[0m\u001B[1;33m\u001B[0m\u001B[1;33m\u001B[0m\u001B[0m\n\u001B[1;32m---> 73\u001B[1;33m         \u001B[1;32mreturn\u001B[0m \u001B[0mf\u001B[0m\u001B[1;33m(\u001B[0m\u001B[1;33m**\u001B[0m\u001B[0mkwargs\u001B[0m\u001B[1;33m)\u001B[0m\u001B[1;33m\u001B[0m\u001B[1;33m\u001B[0m\u001B[0m\n\u001B[0m\u001B[0;32m     74\u001B[0m     \u001B[1;32mreturn\u001B[0m \u001B[0minner_f\u001B[0m\u001B[1;33m\u001B[0m\u001B[1;33m\u001B[0m\u001B[0m\n\u001B[0;32m     75\u001B[0m \u001B[1;33m\u001B[0m\u001B[0m\n",
      "\u001B[1;32mc:\\users\\nonie\\documents\\wellcome\\nutrition-labels\\venv\\lib\\site-packages\\sklearn\\utils\\validation.py\u001B[0m in \u001B[0;36mcheck_array\u001B[1;34m(array, accept_sparse, accept_large_sparse, dtype, order, copy, force_all_finite, ensure_2d, allow_nd, ensure_min_samples, ensure_min_features, estimator)\u001B[0m\n\u001B[0;32m    622\u001B[0m                     \u001B[1;34m\"Reshape your data either using array.reshape(-1, 1) if \"\u001B[0m\u001B[1;33m\u001B[0m\u001B[1;33m\u001B[0m\u001B[0m\n\u001B[0;32m    623\u001B[0m                     \u001B[1;34m\"your data has a single feature or array.reshape(1, -1) \"\u001B[0m\u001B[1;33m\u001B[0m\u001B[1;33m\u001B[0m\u001B[0m\n\u001B[1;32m--> 624\u001B[1;33m                     \"if it contains a single sample.\".format(array))\n\u001B[0m\u001B[0;32m    625\u001B[0m \u001B[1;33m\u001B[0m\u001B[0m\n\u001B[0;32m    626\u001B[0m         \u001B[1;31m# in the future np.flexible dtypes will be handled like object dtypes\u001B[0m\u001B[1;33m\u001B[0m\u001B[1;33m\u001B[0m\u001B[1;33m\u001B[0m\u001B[0m\n",
      "\u001B[1;31mValueError\u001B[0m: Expected 2D array, got 1D array instead:\narray=[<1x134424 sparse matrix of type '<class 'numpy.int64'>'\n\twith 288 stored elements in Compressed Sparse Row format>\n <1x134424 sparse matrix of type '<class 'numpy.int64'>'\n\twith 309 stored elements in Compressed Sparse Row format>\n <1x134424 sparse matrix of type '<class 'numpy.int64'>'\n\twith 324 stored elements in Compressed Sparse Row format>\n <1x134424 sparse matrix of type '<class 'numpy.int64'>'\n\twith 258 stored elements in Compressed Sparse Row format>\n <1x134424 sparse matrix of type '<class 'numpy.int64'>'\n\twith 328 stored elements in Compressed Sparse Row format>\n <1x134424 sparse matrix of type '<class 'numpy.int64'>'\n\twith 304 stored elements in Compressed Sparse Row format>\n <1x134424 sparse matrix of type '<class 'numpy.int64'>'\n\twith 304 stored elements in Compressed Sparse Row format>\n <1x134424 sparse matrix of type '<class 'numpy.int64'>'\n\twith 286 stored elements in Compressed Sparse Row format>\n <1x134424 sparse matrix of type '<class 'numpy.int64'>'\n\twith 328 stored elements in Compressed Sparse Row format>\n <1x134424 sparse matrix of type '<class 'numpy.int64'>'\n\twith 429 stored elements in Compressed Sparse Row format>\n <1x134424 sparse matrix of type '<class 'numpy.int64'>'\n\twith 304 stored elements in Compressed Sparse Row format>\n <1x134424 sparse matrix of type '<class 'numpy.int64'>'\n\twith 310 stored elements in Compressed Sparse Row format>\n <1x134424 sparse matrix of type '<class 'numpy.int64'>'\n\twith 307 stored elements in Compressed Sparse Row format>\n <1x134424 sparse matrix of type '<class 'numpy.int64'>'\n\twith 323 stored elements in Compressed Sparse Row format>\n <1x134424 sparse matrix of type '<class 'numpy.int64'>'\n\twith 315 stored elements in Compressed Sparse Row format>\n <1x134424 sparse matrix of type '<class 'numpy.int64'>'\n\twith 3 stored elements in Compressed Sparse Row format>\n <1x134424 sparse matrix of type '<class 'numpy.int64'>'\n\twith 304 stored elements in Compressed Sparse Row format>\n <1x134424 sparse matrix of type '<class 'numpy.int64'>'\n\twith 567 stored elements in Compressed Sparse Row format>\n <1x134424 sparse matrix of type '<class 'numpy.int64'>'\n\twith 304 stored elements in Compressed Sparse Row format>\n <1x134424 sparse matrix of type '<class 'numpy.int64'>'\n\twith 321 stored elements in Compressed Sparse Row format>\n <1x134424 sparse matrix of type '<class 'numpy.int64'>'\n\twith 357 stored elements in Compressed Sparse Row format>\n <1x134424 sparse matrix of type '<class 'numpy.int64'>'\n\twith 376 stored elements in Compressed Sparse Row format>\n <1x134424 sparse matrix of type '<class 'numpy.int64'>'\n\twith 77 stored elements in Compressed Sparse Row format>\n <1x134424 sparse matrix of type '<class 'numpy.int64'>'\n\twith 313 stored elements in Compressed Sparse Row format>\n <1x134424 sparse matrix of type '<class 'numpy.int64'>'\n\twith 304 stored elements in Compressed Sparse Row format>\n <1x134424 sparse matrix of type '<class 'numpy.int64'>'\n\twith 3 stored elements in Compressed Sparse Row format>\n <1x134424 sparse matrix of type '<class 'numpy.int64'>'\n\twith 322 stored elements in Compressed Sparse Row format>\n <1x134424 sparse matrix of type '<class 'numpy.int64'>'\n\twith 3 stored elements in Compressed Sparse Row format>\n <1x134424 sparse matrix of type '<class 'numpy.int64'>'\n\twith 436 stored elements in Compressed Sparse Row format>\n <1x134424 sparse matrix of type '<class 'numpy.int64'>'\n\twith 300 stored elements in Compressed Sparse Row format>\n <1x134424 sparse matrix of type '<class 'numpy.int64'>'\n\twith 378 stored elements in Compressed Sparse Row format>\n <1x134424 sparse matrix of type '<class 'numpy.int64'>'\n\twith 270 stored elements in Compressed Sparse Row format>\n <1x134424 sparse matrix of type '<class 'numpy.int64'>'\n\twith 316 stored elements in Compressed Sparse Row format>\n <1x134424 sparse matrix of type '<class 'numpy.int64'>'\n\twith 295 stored elements in Compressed Sparse Row format>\n <1x134424 sparse matrix of type '<class 'numpy.int64'>'\n\twith 314 stored elements in Compressed Sparse Row format>\n <1x134424 sparse matrix of type '<class 'numpy.int64'>'\n\twith 305 stored elements in Compressed Sparse Row format>\n <1x134424 sparse matrix of type '<class 'numpy.int64'>'\n\twith 293 stored elements in Compressed Sparse Row format>\n <1x134424 sparse matrix of type '<class 'numpy.int64'>'\n\twith 329 stored elements in Compressed Sparse Row format>\n <1x134424 sparse matrix of type '<class 'numpy.int64'>'\n\twith 294 stored elements in Compressed Sparse Row format>\n <1x134424 sparse matrix of type '<class 'numpy.int64'>'\n\twith 359 stored elements in Compressed Sparse Row format>\n <1x134424 sparse matrix of type '<class 'numpy.int64'>'\n\twith 321 stored elements in Compressed Sparse Row format>\n <1x134424 sparse matrix of type '<class 'numpy.int64'>'\n\twith 432 stored elements in Compressed Sparse Row format>\n <1x134424 sparse matrix of type '<class 'numpy.int64'>'\n\twith 402 stored elements in Compressed Sparse Row format>\n <1x134424 sparse matrix of type '<class 'numpy.int64'>'\n\twith 279 stored elements in Compressed Sparse Row format>\n <1x134424 sparse matrix of type '<class 'numpy.int64'>'\n\twith 409 stored elements in Compressed Sparse Row format>\n <1x134424 sparse matrix of type '<class 'numpy.int64'>'\n\twith 332 stored elements in Compressed Sparse Row format>\n <1x134424 sparse matrix of type '<class 'numpy.int64'>'\n\twith 337 stored elements in Compressed Sparse Row format>\n <1x134424 sparse matrix of type '<class 'numpy.int64'>'\n\twith 340 stored elements in Compressed Sparse Row format>\n <1x134424 sparse matrix of type '<class 'numpy.int64'>'\n\twith 304 stored elements in Compressed Sparse Row format>\n <1x134424 sparse matrix of type '<class 'numpy.int64'>'\n\twith 316 stored elements in Compressed Sparse Row format>\n <1x134424 sparse matrix of type '<class 'numpy.int64'>'\n\twith 348 stored elements in Compressed Sparse Row format>\n <1x134424 sparse matrix of type '<class 'numpy.int64'>'\n\twith 312 stored elements in Compressed Sparse Row format>\n <1x134424 sparse matrix of type '<class 'numpy.int64'>'\n\twith 310 stored elements in Compressed Sparse Row format>\n <1x134424 sparse matrix of type '<class 'numpy.int64'>'\n\twith 381 stored elements in Compressed Sparse Row format>\n <1x134424 sparse matrix of type '<class 'numpy.int64'>'\n\twith 338 stored elements in Compressed Sparse Row format>\n <1x134424 sparse matrix of type '<class 'numpy.int64'>'\n\twith 42 stored elements in Compressed Sparse Row format>\n <1x134424 sparse matrix of type '<class 'numpy.int64'>'\n\twith 3 stored elements in Compressed Sparse Row format>\n <1x134424 sparse matrix of type '<class 'numpy.int64'>'\n\twith 308 stored elements in Compressed Sparse Row format>\n <1x134424 sparse matrix of type '<class 'numpy.int64'>'\n\twith 42 stored elements in Compressed Sparse Row format>\n <1x134424 sparse matrix of type '<class 'numpy.int64'>'\n\twith 326 stored elements in Compressed Sparse Row format>\n <1x134424 sparse matrix of type '<class 'numpy.int64'>'\n\twith 338 stored elements in Compressed Sparse Row format>\n <1x134424 sparse matrix of type '<class 'numpy.int64'>'\n\twith 221 stored elements in Compressed Sparse Row format>\n <1x134424 sparse matrix of type '<class 'numpy.int64'>'\n\twith 363 stored elements in Compressed Sparse Row format>\n <1x134424 sparse matrix of type '<class 'numpy.int64'>'\n\twith 737 stored elements in Compressed Sparse Row format>\n <1x134424 sparse matrix of type '<class 'numpy.int64'>'\n\twith 310 stored elements in Compressed Sparse Row format>\n <1x134424 sparse matrix of type '<class 'numpy.int64'>'\n\twith 315 stored elements in Compressed Sparse Row format>\n <1x134424 sparse matrix of type '<class 'numpy.int64'>'\n\twith 307 stored elements in Compressed Sparse Row format>\n <1x134424 sparse matrix of type '<class 'numpy.int64'>'\n\twith 358 stored elements in Compressed Sparse Row format>\n <1x134424 sparse matrix of type '<class 'numpy.int64'>'\n\twith 296 stored elements in Compressed Sparse Row format>\n <1x134424 sparse matrix of type '<class 'numpy.int64'>'\n\twith 315 stored elements in Compressed Sparse Row format>\n <1x134424 sparse matrix of type '<class 'numpy.int64'>'\n\twith 310 stored elements in Compressed Sparse Row format>\n <1x134424 sparse matrix of type '<class 'numpy.int64'>'\n\twith 286 stored elements in Compressed Sparse Row format>\n <1x134424 sparse matrix of type '<class 'numpy.int64'>'\n\twith 309 stored elements in Compressed Sparse Row format>\n <1x134424 sparse matrix of type '<class 'numpy.int64'>'\n\twith 432 stored elements in Compressed Sparse Row format>\n <1x134424 sparse matrix of type '<class 'numpy.int64'>'\n\twith 140 stored elements in Compressed Sparse Row format>\n <1x134424 sparse matrix of type '<class 'numpy.int64'>'\n\twith 291 stored elements in Compressed Sparse Row format>\n <1x134424 sparse matrix of type '<class 'numpy.int64'>'\n\twith 277 stored elements in Compressed Sparse Row format>\n <1x134424 sparse matrix of type '<class 'numpy.int64'>'\n\twith 3 stored elements in Compressed Sparse Row format>\n <1x134424 sparse matrix of type '<class 'numpy.int64'>'\n\twith 321 stored elements in Compressed Sparse Row format>\n <1x134424 sparse matrix of type '<class 'numpy.int64'>'\n\twith 286 stored elements in Compressed Sparse Row format>\n <1x134424 sparse matrix of type '<class 'numpy.int64'>'\n\twith 230 stored elements in Compressed Sparse Row format>\n <1x134424 sparse matrix of type '<class 'numpy.int64'>'\n\twith 330 stored elements in Compressed Sparse Row format>\n <1x134424 sparse matrix of type '<class 'numpy.int64'>'\n\twith 165 stored elements in Compressed Sparse Row format>\n <1x134424 sparse matrix of type '<class 'numpy.int64'>'\n\twith 311 stored elements in Compressed Sparse Row format>\n <1x134424 sparse matrix of type '<class 'numpy.int64'>'\n\twith 272 stored elements in Compressed Sparse Row format>\n <1x134424 sparse matrix of type '<class 'numpy.int64'>'\n\twith 304 stored elements in Compressed Sparse Row format>\n <1x134424 sparse matrix of type '<class 'numpy.int64'>'\n\twith 320 stored elements in Compressed Sparse Row format>\n <1x134424 sparse matrix of type '<class 'numpy.int64'>'\n\twith 288 stored elements in Compressed Sparse Row format>\n <1x134424 sparse matrix of type '<class 'numpy.int64'>'\n\twith 316 stored elements in Compressed Sparse Row format>\n <1x134424 sparse matrix of type '<class 'numpy.int64'>'\n\twith 307 stored elements in Compressed Sparse Row format>\n <1x134424 sparse matrix of type '<class 'numpy.int64'>'\n\twith 316 stored elements in Compressed Sparse Row format>\n <1x134424 sparse matrix of type '<class 'numpy.int64'>'\n\twith 337 stored elements in Compressed Sparse Row format>\n <1x134424 sparse matrix of type '<class 'numpy.int64'>'\n\twith 362 stored elements in Compressed Sparse Row format>\n <1x134424 sparse matrix of type '<class 'numpy.int64'>'\n\twith 861 stored elements in Compressed Sparse Row format>\n <1x134424 sparse matrix of type '<class 'numpy.int64'>'\n\twith 319 stored elements in Compressed Sparse Row format>\n <1x134424 sparse matrix of type '<class 'numpy.int64'>'\n\twith 315 stored elements in Compressed Sparse Row format>\n <1x134424 sparse matrix of type '<class 'numpy.int64'>'\n\twith 278 stored elements in Compressed Sparse Row format>\n <1x134424 sparse matrix of type '<class 'numpy.int64'>'\n\twith 319 stored elements in Compressed Sparse Row format>\n <1x134424 sparse matrix of type '<class 'numpy.int64'>'\n\twith 3 stored elements in Compressed Sparse Row format>\n <1x134424 sparse matrix of type '<class 'numpy.int64'>'\n\twith 3 stored elements in Compressed Sparse Row format>\n <1x134424 sparse matrix of type '<class 'numpy.int64'>'\n\twith 322 stored elements in Compressed Sparse Row format>\n <1x134424 sparse matrix of type '<class 'numpy.int64'>'\n\twith 3 stored elements in Compressed Sparse Row format>\n <1x134424 sparse matrix of type '<class 'numpy.int64'>'\n\twith 332 stored elements in Compressed Sparse Row format>\n <1x134424 sparse matrix of type '<class 'numpy.int64'>'\n\twith 378 stored elements in Compressed Sparse Row format>\n <1x134424 sparse matrix of type '<class 'numpy.int64'>'\n\twith 304 stored elements in Compressed Sparse Row format>\n <1x134424 sparse matrix of type '<class 'numpy.int64'>'\n\twith 307 stored elements in Compressed Sparse Row format>\n <1x134424 sparse matrix of type '<class 'numpy.int64'>'\n\twith 326 stored elements in Compressed Sparse Row format>\n <1x134424 sparse matrix of type '<class 'numpy.int64'>'\n\twith 332 stored elements in Compressed Sparse Row format>\n <1x134424 sparse matrix of type '<class 'numpy.int64'>'\n\twith 330 stored elements in Compressed Sparse Row format>\n <1x134424 sparse matrix of type '<class 'numpy.int64'>'\n\twith 331 stored elements in Compressed Sparse Row format>\n <1x134424 sparse matrix of type '<class 'numpy.int64'>'\n\twith 221 stored elements in Compressed Sparse Row format>\n <1x134424 sparse matrix of type '<class 'numpy.int64'>'\n\twith 305 stored elements in Compressed Sparse Row format>\n <1x134424 sparse matrix of type '<class 'numpy.int64'>'\n\twith 331 stored elements in Compressed Sparse Row format>\n <1x134424 sparse matrix of type '<class 'numpy.int64'>'\n\twith 291 stored elements in Compressed Sparse Row format>\n <1x134424 sparse matrix of type '<class 'numpy.int64'>'\n\twith 289 stored elements in Compressed Sparse Row format>\n <1x134424 sparse matrix of type '<class 'numpy.int64'>'\n\twith 288 stored elements in Compressed Sparse Row format>\n <1x134424 sparse matrix of type '<class 'numpy.int64'>'\n\twith 306 stored elements in Compressed Sparse Row format>\n <1x134424 sparse matrix of type '<class 'numpy.int64'>'\n\twith 277 stored elements in Compressed Sparse Row format>\n <1x134424 sparse matrix of type '<class 'numpy.int64'>'\n\twith 269 stored elements in Compressed Sparse Row format>\n <1x134424 sparse matrix of type '<class 'numpy.int64'>'\n\twith 265 stored elements in Compressed Sparse Row format>\n <1x134424 sparse matrix of type '<class 'numpy.int64'>'\n\twith 368 stored elements in Compressed Sparse Row format>\n <1x134424 sparse matrix of type '<class 'numpy.int64'>'\n\twith 327 stored elements in Compressed Sparse Row format>\n <1x134424 sparse matrix of type '<class 'numpy.int64'>'\n\twith 268 stored elements in Compressed Sparse Row format>\n <1x134424 sparse matrix of type '<class 'numpy.int64'>'\n\twith 275 stored elements in Compressed Sparse Row format>\n <1x134424 sparse matrix of type '<class 'numpy.int64'>'\n\twith 282 stored elements in Compressed Sparse Row format>\n <1x134424 sparse matrix of type '<class 'numpy.int64'>'\n\twith 290 stored elements in Compressed Sparse Row format>\n <1x134424 sparse matrix of type '<class 'numpy.int64'>'\n\twith 3 stored elements in Compressed Sparse Row format>\n <1x134424 sparse matrix of type '<class 'numpy.int64'>'\n\twith 444 stored elements in Compressed Sparse Row format>\n <1x134424 sparse matrix of type '<class 'numpy.int64'>'\n\twith 195 stored elements in Compressed Sparse Row format>\n <1x134424 sparse matrix of type '<class 'numpy.int64'>'\n\twith 42 stored elements in Compressed Sparse Row format>\n <1x134424 sparse matrix of type '<class 'numpy.int64'>'\n\twith 187 stored elements in Compressed Sparse Row format>\n <1x134424 sparse matrix of type '<class 'numpy.int64'>'\n\twith 277 stored elements in Compressed Sparse Row format>\n <1x134424 sparse matrix of type '<class 'numpy.int64'>'\n\twith 402 stored elements in Compressed Sparse Row format>\n <1x134424 sparse matrix of type '<class 'numpy.int64'>'\n\twith 308 stored elements in Compressed Sparse Row format>\n <1x134424 sparse matrix of type '<class 'numpy.int64'>'\n\twith 304 stored elements in Compressed Sparse Row format>\n <1x134424 sparse matrix of type '<class 'numpy.int64'>'\n\twith 288 stored elements in Compressed Sparse Row format>\n <1x134424 sparse matrix of type '<class 'numpy.int64'>'\n\twith 276 stored elements in Compressed Sparse Row format>\n <1x134424 sparse matrix of type '<class 'numpy.int64'>'\n\twith 382 stored elements in Compressed Sparse Row format>\n <1x134424 sparse matrix of type '<class 'numpy.int64'>'\n\twith 456 stored elements in Compressed Sparse Row format>\n <1x134424 sparse matrix of type '<class 'numpy.int64'>'\n\twith 316 stored elements in Compressed Sparse Row format>\n <1x134424 sparse matrix of type '<class 'numpy.int64'>'\n\twith 268 stored elements in Compressed Sparse Row format>\n <1x134424 sparse matrix of type '<class 'numpy.int64'>'\n\twith 294 stored elements in Compressed Sparse Row format>\n <1x134424 sparse matrix of type '<class 'numpy.int64'>'\n\twith 281 stored elements in Compressed Sparse Row format>\n <1x134424 sparse matrix of type '<class 'numpy.int64'>'\n\twith 297 stored elements in Compressed Sparse Row format>\n <1x134424 sparse matrix of type '<class 'numpy.int64'>'\n\twith 376 stored elements in Compressed Sparse Row format>\n <1x134424 sparse matrix of type '<class 'numpy.int64'>'\n\twith 302 stored elements in Compressed Sparse Row format>\n <1x134424 sparse matrix of type '<class 'numpy.int64'>'\n\twith 254 stored elements in Compressed Sparse Row format>\n <1x134424 sparse matrix of type '<class 'numpy.int64'>'\n\twith 320 stored elements in Compressed Sparse Row format>\n <1x134424 sparse matrix of type '<class 'numpy.int64'>'\n\twith 321 stored elements in Compressed Sparse Row format>\n <1x134424 sparse matrix of type '<class 'numpy.int64'>'\n\twith 276 stored elements in Compressed Sparse Row format>\n <1x134424 sparse matrix of type '<class 'numpy.int64'>'\n\twith 316 stored elements in Compressed Sparse Row format>\n <1x134424 sparse matrix of type '<class 'numpy.int64'>'\n\twith 335 stored elements in Compressed Sparse Row format>\n <1x134424 sparse matrix of type '<class 'numpy.int64'>'\n\twith 329 stored elements in Compressed Sparse Row format>\n <1x134424 sparse matrix of type '<class 'numpy.int64'>'\n\twith 317 stored elements in Compressed Sparse Row format>\n <1x134424 sparse matrix of type '<class 'numpy.int64'>'\n\twith 332 stored elements in Compressed Sparse Row format>\n <1x134424 sparse matrix of type '<class 'numpy.int64'>'\n\twith 317 stored elements in Compressed Sparse Row format>\n <1x134424 sparse matrix of type '<class 'numpy.int64'>'\n\twith 270 stored elements in Compressed Sparse Row format>\n <1x134424 sparse matrix of type '<class 'numpy.int64'>'\n\twith 304 stored elements in Compressed Sparse Row format>\n <1x134424 sparse matrix of type '<class 'numpy.int64'>'\n\twith 3 stored elements in Compressed Sparse Row format>\n <1x134424 sparse matrix of type '<class 'numpy.int64'>'\n\twith 306 stored elements in Compressed Sparse Row format>\n <1x134424 sparse matrix of type '<class 'numpy.int64'>'\n\twith 280 stored elements in Compressed Sparse Row format>\n <1x134424 sparse matrix of type '<class 'numpy.int64'>'\n\twith 312 stored elements in Compressed Sparse Row format>\n <1x134424 sparse matrix of type '<class 'numpy.int64'>'\n\twith 310 stored elements in Compressed Sparse Row format>\n <1x134424 sparse matrix of type '<class 'numpy.int64'>'\n\twith 3 stored elements in Compressed Sparse Row format>\n <1x134424 sparse matrix of type '<class 'numpy.int64'>'\n\twith 3 stored elements in Compressed Sparse Row format>\n <1x134424 sparse matrix of type '<class 'numpy.int64'>'\n\twith 323 stored elements in Compressed Sparse Row format>\n <1x134424 sparse matrix of type '<class 'numpy.int64'>'\n\twith 315 stored elements in Compressed Sparse Row format>\n <1x134424 sparse matrix of type '<class 'numpy.int64'>'\n\twith 304 stored elements in Compressed Sparse Row format>\n <1x134424 sparse matrix of type '<class 'numpy.int64'>'\n\twith 329 stored elements in Compressed Sparse Row format>\n <1x134424 sparse matrix of type '<class 'numpy.int64'>'\n\twith 338 stored elements in Compressed Sparse Row format>\n <1x134424 sparse matrix of type '<class 'numpy.int64'>'\n\twith 144 stored elements in Compressed Sparse Row format>\n <1x134424 sparse matrix of type '<class 'numpy.int64'>'\n\twith 229 stored elements in Compressed Sparse Row format>\n <1x134424 sparse matrix of type '<class 'numpy.int64'>'\n\twith 465 stored elements in Compressed Sparse Row format>\n <1x134424 sparse matrix of type '<class 'numpy.int64'>'\n\twith 315 stored elements in Compressed Sparse Row format>\n <1x134424 sparse matrix of type '<class 'numpy.int64'>'\n\twith 309 stored elements in Compressed Sparse Row format>\n <1x134424 sparse matrix of type '<class 'numpy.int64'>'\n\twith 257 stored elements in Compressed Sparse Row format>\n <1x134424 sparse matrix of type '<class 'numpy.int64'>'\n\twith 387 stored elements in Compressed Sparse Row format>\n <1x134424 sparse matrix of type '<class 'numpy.int64'>'\n\twith 301 stored elements in Compressed Sparse Row format>\n <1x134424 sparse matrix of type '<class 'numpy.int64'>'\n\twith 312 stored elements in Compressed Sparse Row format>\n <1x134424 sparse matrix of type '<class 'numpy.int64'>'\n\twith 326 stored elements in Compressed Sparse Row format>\n <1x134424 sparse matrix of type '<class 'numpy.int64'>'\n\twith 331 stored elements in Compressed Sparse Row format>\n <1x134424 sparse matrix of type '<class 'numpy.int64'>'\n\twith 320 stored elements in Compressed Sparse Row format>\n <1x134424 sparse matrix of type '<class 'numpy.int64'>'\n\twith 316 stored elements in Compressed Sparse Row format>\n <1x134424 sparse matrix of type '<class 'numpy.int64'>'\n\twith 291 stored elements in Compressed Sparse Row format>\n <1x134424 sparse matrix of type '<class 'numpy.int64'>'\n\twith 321 stored elements in Compressed Sparse Row format>\n <1x134424 sparse matrix of type '<class 'numpy.int64'>'\n\twith 307 stored elements in Compressed Sparse Row format>\n <1x134424 sparse matrix of type '<class 'numpy.int64'>'\n\twith 315 stored elements in Compressed Sparse Row format>\n <1x134424 sparse matrix of type '<class 'numpy.int64'>'\n\twith 329 stored elements in Compressed Sparse Row format>\n <1x134424 sparse matrix of type '<class 'numpy.int64'>'\n\twith 319 stored elements in Compressed Sparse Row format>\n <1x134424 sparse matrix of type '<class 'numpy.int64'>'\n\twith 322 stored elements in Compressed Sparse Row format>\n <1x134424 sparse matrix of type '<class 'numpy.int64'>'\n\twith 329 stored elements in Compressed Sparse Row format>\n <1x134424 sparse matrix of type '<class 'numpy.int64'>'\n\twith 328 stored elements in Compressed Sparse Row format>\n <1x134424 sparse matrix of type '<class 'numpy.int64'>'\n\twith 289 stored elements in Compressed Sparse Row format>\n <1x134424 sparse matrix of type '<class 'numpy.int64'>'\n\twith 319 stored elements in Compressed Sparse Row format>\n <1x134424 sparse matrix of type '<class 'numpy.int64'>'\n\twith 323 stored elements in Compressed Sparse Row format>\n <1x134424 sparse matrix of type '<class 'numpy.int64'>'\n\twith 288 stored elements in Compressed Sparse Row format>\n <1x134424 sparse matrix of type '<class 'numpy.int64'>'\n\twith 281 stored elements in Compressed Sparse Row format>\n <1x134424 sparse matrix of type '<class 'numpy.int64'>'\n\twith 368 stored elements in Compressed Sparse Row format>\n <1x134424 sparse matrix of type '<class 'numpy.int64'>'\n\twith 314 stored elements in Compressed Sparse Row format>\n <1x134424 sparse matrix of type '<class 'numpy.int64'>'\n\twith 220 stored elements in Compressed Sparse Row format>\n <1x134424 sparse matrix of type '<class 'numpy.int64'>'\n\twith 523 stored elements in Compressed Sparse Row format>\n <1x134424 sparse matrix of type '<class 'numpy.int64'>'\n\twith 282 stored elements in Compressed Sparse Row format>\n <1x134424 sparse matrix of type '<class 'numpy.int64'>'\n\twith 329 stored elements in Compressed Sparse Row format>\n <1x134424 sparse matrix of type '<class 'numpy.int64'>'\n\twith 338 stored elements in Compressed Sparse Row format>\n <1x134424 sparse matrix of type '<class 'numpy.int64'>'\n\twith 292 stored elements in Compressed Sparse Row format>\n <1x134424 sparse matrix of type '<class 'numpy.int64'>'\n\twith 323 stored elements in Compressed Sparse Row format>\n <1x134424 sparse matrix of type '<class 'numpy.int64'>'\n\twith 316 stored elements in Compressed Sparse Row format>\n <1x134424 sparse matrix of type '<class 'numpy.int64'>'\n\twith 235 stored elements in Compressed Sparse Row format>\n <1x134424 sparse matrix of type '<class 'numpy.int64'>'\n\twith 354 stored elements in Compressed Sparse Row format>\n <1x134424 sparse matrix of type '<class 'numpy.int64'>'\n\twith 3 stored elements in Compressed Sparse Row format>\n <1x134424 sparse matrix of type '<class 'numpy.int64'>'\n\twith 328 stored elements in Compressed Sparse Row format>\n <1x134424 sparse matrix of type '<class 'numpy.int64'>'\n\twith 344 stored elements in Compressed Sparse Row format>\n <1x134424 sparse matrix of type '<class 'numpy.int64'>'\n\twith 333 stored elements in Compressed Sparse Row format>\n <1x134424 sparse matrix of type '<class 'numpy.int64'>'\n\twith 560 stored elements in Compressed Sparse Row format>\n <1x134424 sparse matrix of type '<class 'numpy.int64'>'\n\twith 286 stored elements in Compressed Sparse Row format>\n <1x134424 sparse matrix of type '<class 'numpy.int64'>'\n\twith 224 stored elements in Compressed Sparse Row format>\n <1x134424 sparse matrix of type '<class 'numpy.int64'>'\n\twith 42 stored elements in Compressed Sparse Row format>\n <1x134424 sparse matrix of type '<class 'numpy.int64'>'\n\twith 316 stored elements in Compressed Sparse Row format>\n <1x134424 sparse matrix of type '<class 'numpy.int64'>'\n\twith 272 stored elements in Compressed Sparse Row format>\n <1x134424 sparse matrix of type '<class 'numpy.int64'>'\n\twith 326 stored elements in Compressed Sparse Row format>\n <1x134424 sparse matrix of type '<class 'numpy.int64'>'\n\twith 313 stored elements in Compressed Sparse Row format>\n <1x134424 sparse matrix of type '<class 'numpy.int64'>'\n\twith 332 stored elements in Compressed Sparse Row format>\n <1x134424 sparse matrix of type '<class 'numpy.int64'>'\n\twith 247 stored elements in Compressed Sparse Row format>\n <1x134424 sparse matrix of type '<class 'numpy.int64'>'\n\twith 225 stored elements in Compressed Sparse Row format>\n <1x134424 sparse matrix of type '<class 'numpy.int64'>'\n\twith 1224 stored elements in Compressed Sparse Row format>\n <1x134424 sparse matrix of type '<class 'numpy.int64'>'\n\twith 369 stored elements in Compressed Sparse Row format>\n <1x134424 sparse matrix of type '<class 'numpy.int64'>'\n\twith 311 stored elements in Compressed Sparse Row format>\n <1x134424 sparse matrix of type '<class 'numpy.int64'>'\n\twith 304 stored elements in Compressed Sparse Row format>\n <1x134424 sparse matrix of type '<class 'numpy.int64'>'\n\twith 313 stored elements in Compressed Sparse Row format>\n <1x134424 sparse matrix of type '<class 'numpy.int64'>'\n\twith 294 stored elements in Compressed Sparse Row format>\n <1x134424 sparse matrix of type '<class 'numpy.int64'>'\n\twith 304 stored elements in Compressed Sparse Row format>\n <1x134424 sparse matrix of type '<class 'numpy.int64'>'\n\twith 325 stored elements in Compressed Sparse Row format>\n <1x134424 sparse matrix of type '<class 'numpy.int64'>'\n\twith 269 stored elements in Compressed Sparse Row format>\n <1x134424 sparse matrix of type '<class 'numpy.int64'>'\n\twith 344 stored elements in Compressed Sparse Row format>\n <1x134424 sparse matrix of type '<class 'numpy.int64'>'\n\twith 407 stored elements in Compressed Sparse Row format>\n <1x134424 sparse matrix of type '<class 'numpy.int64'>'\n\twith 322 stored elements in Compressed Sparse Row format>\n <1x134424 sparse matrix of type '<class 'numpy.int64'>'\n\twith 447 stored elements in Compressed Sparse Row format>\n <1x134424 sparse matrix of type '<class 'numpy.int64'>'\n\twith 30 stored elements in Compressed Sparse Row format>\n <1x134424 sparse matrix of type '<class 'numpy.int64'>'\n\twith 310 stored elements in Compressed Sparse Row format>\n <1x134424 sparse matrix of type '<class 'numpy.int64'>'\n\twith 344 stored elements in Compressed Sparse Row format>\n <1x134424 sparse matrix of type '<class 'numpy.int64'>'\n\twith 326 stored elements in Compressed Sparse Row format>\n <1x134424 sparse matrix of type '<class 'numpy.int64'>'\n\twith 609 stored elements in Compressed Sparse Row format>\n <1x134424 sparse matrix of type '<class 'numpy.int64'>'\n\twith 289 stored elements in Compressed Sparse Row format>\n <1x134424 sparse matrix of type '<class 'numpy.int64'>'\n\twith 334 stored elements in Compressed Sparse Row format>\n <1x134424 sparse matrix of type '<class 'numpy.int64'>'\n\twith 328 stored elements in Compressed Sparse Row format>\n <1x134424 sparse matrix of type '<class 'numpy.int64'>'\n\twith 377 stored elements in Compressed Sparse Row format>\n <1x134424 sparse matrix of type '<class 'numpy.int64'>'\n\twith 258 stored elements in Compressed Sparse Row format>\n <1x134424 sparse matrix of type '<class 'numpy.int64'>'\n\twith 293 stored elements in Compressed Sparse Row format>\n <1x134424 sparse matrix of type '<class 'numpy.int64'>'\n\twith 311 stored elements in Compressed Sparse Row format>\n <1x134424 sparse matrix of type '<class 'numpy.int64'>'\n\twith 295 stored elements in Compressed Sparse Row format>\n <1x134424 sparse matrix of type '<class 'numpy.int64'>'\n\twith 752 stored elements in Compressed Sparse Row format>\n <1x134424 sparse matrix of type '<class 'numpy.int64'>'\n\twith 303 stored elements in Compressed Sparse Row format>\n <1x134424 sparse matrix of type '<class 'numpy.int64'>'\n\twith 304 stored elements in Compressed Sparse Row format>\n <1x134424 sparse matrix of type '<class 'numpy.int64'>'\n\twith 296 stored elements in Compressed Sparse Row format>\n <1x134424 sparse matrix of type '<class 'numpy.int64'>'\n\twith 324 stored elements in Compressed Sparse Row format>\n <1x134424 sparse matrix of type '<class 'numpy.int64'>'\n\twith 407 stored elements in Compressed Sparse Row format>\n <1x134424 sparse matrix of type '<class 'numpy.int64'>'\n\twith 304 stored elements in Compressed Sparse Row format>\n <1x134424 sparse matrix of type '<class 'numpy.int64'>'\n\twith 306 stored elements in Compressed Sparse Row format>\n <1x134424 sparse matrix of type '<class 'numpy.int64'>'\n\twith 282 stored elements in Compressed Sparse Row format>\n <1x134424 sparse matrix of type '<class 'numpy.int64'>'\n\twith 618 stored elements in Compressed Sparse Row format>\n <1x134424 sparse matrix of type '<class 'numpy.int64'>'\n\twith 323 stored elements in Compressed Sparse Row format>\n <1x134424 sparse matrix of type '<class 'numpy.int64'>'\n\twith 113 stored elements in Compressed Sparse Row format>].\nReshape your data either using array.reshape(-1, 1) if your data has a single feature or array.reshape(1, -1) if it contains a single sample."
     ]
    }
   ],
   "source": [
    "count_experiments_results = run_experiment(\n",
    "    arange(0.2, 2,0.075), num_repeats=10, vectorizer_type='count'\n",
    ")"
   ]
  },
  {
   "cell_type": "code",
   "execution_count": null,
   "metadata": {},
   "outputs": [],
   "source": [
    "experiments_results_df = pd.DataFrame(count_experiments_results)\n",
    "plot_results(experiments_results_df)"
   ]
  },
  {
   "cell_type": "code",
   "execution_count": null,
   "metadata": {},
   "outputs": [],
   "source": [
    "tfidf_experiments_results = run_experiment(\n",
    "    arange(0.2, 2,0.075), num_repeats=10, vectorizer_type='tfidf'\n",
    ")"
   ]
  },
  {
   "cell_type": "code",
   "execution_count": null,
   "metadata": {
    "pycharm": {
     "name": "#%%\n"
    }
   },
   "outputs": [],
   "source": [
    "experiments_results_df = pd.DataFrame(tfidf_experiments_results)\n",
    "plot_results(experiments_results_df)"
   ]
  },
  {
   "cell_type": "code",
   "execution_count": null,
   "metadata": {},
   "outputs": [],
   "source": [
    "print(len(data.loc[data['Relevance code'] == 1]))\n",
    "print(len(data.loc[data['Relevance code'] == 0]))"
   ]
  },
  {
   "cell_type": "markdown",
   "metadata": {
    "pycharm": {
     "name": "#%% md\n"
    }
   },
   "source": [
    "## Explore all the results of those with good parameters"
   ]
  },
  {
   "cell_type": "code",
   "execution_count": null,
   "metadata": {},
   "outputs": [],
   "source": [
    "def test_setting(data, vectorizer_type, n, model_type = 'naive_bayes'):\n",
    "    i = 4\n",
    "    grant_tagger = GrantTagger(\n",
    "                ngram_range=(1,2),\n",
    "                test_size=0.25,\n",
    "                vectorizer_type = vectorizer_type,\n",
    "                model_type = model_type\n",
    "            )\n",
    "    X_vect,y = grant_tagger.transform(data)\n",
    "    X_train, X_test, y_train, y_test = grant_tagger.split_data(\n",
    "                X_vect,\n",
    "                y,\n",
    "                sample_not_relevant = n,\n",
    "                irrelevant_sample_seed = i,\n",
    "                split_seed=i\n",
    "                )\n",
    "    grant_tagger.fit(X_train, y_train)\n",
    "    results_train = grant_tagger.evaluate(X_train, y_train, average='weighted')\n",
    "    results_test = grant_tagger.evaluate(X_test, y_test, average='weighted')"
   ]
  },
  {
   "cell_type": "code",
   "execution_count": null,
   "metadata": {},
   "outputs": [],
   "source": [
    "test_setting(data, 'tfidf', 40)"
   ]
  },
  {
   "cell_type": "code",
   "execution_count": null,
   "metadata": {
    "scrolled": true
   },
   "outputs": [],
   "source": [
    "test_setting(data, 'tfidf', 320)"
   ]
  },
  {
   "cell_type": "code",
   "execution_count": null,
   "metadata": {
    "pycharm": {
     "name": "#%%\n"
    }
   },
   "outputs": [],
   "source": [
    "test_setting(data, 'count', 40)"
   ]
  },
  {
   "cell_type": "code",
   "execution_count": null,
   "metadata": {
    "pycharm": {
     "name": "#%%\n"
    }
   },
   "outputs": [],
   "source": [
    "test_setting(data, 'count', 400)"
   ]
  },
  {
   "cell_type": "markdown",
   "metadata": {
    "pycharm": {
     "name": "#%% md\n"
    }
   },
   "source": [
    "## Testing Bert Vectorizer\n"
   ]
  },
  {
   "cell_type": "markdown",
   "metadata": {
    "pycharm": {
     "name": "#%% md\n"
    }
   },
   "source": [
    "Bert and Naive Bayes model\n"
   ]
  },
  {
   "cell_type": "code",
   "execution_count": null,
   "metadata": {
    "pycharm": {
     "is_executing": true,
     "name": "#%%\n"
    }
   },
   "outputs": [],
   "source": [
    "%%capture\n",
    "bert_bayes_experiments_results = run_experiment(\n",
    "    arange(0.2, 2,0.075), num_repeats=5, vectorizer_type='bert'\n",
    ")\n"
   ]
  },
  {
   "cell_type": "code",
   "execution_count": null,
   "metadata": {
    "pycharm": {
     "is_executing": true,
     "name": "#%%\n"
    }
   },
   "outputs": [],
   "source": [
    "experiments_results_df = pd.DataFrame(bert_bayes_experiments_results)\n",
    "plot_results(experiments_results_df)"
   ]
  },
  {
   "cell_type": "markdown",
   "metadata": {
    "pycharm": {
     "name": "#%% md\n"
    }
   },
   "source": [
    "Bert and SVM model\n"
   ]
  },
  {
   "cell_type": "code",
   "execution_count": null,
   "metadata": {
    "pycharm": {
     "is_executing": true,
     "name": "#%%\n"
    }
   },
   "outputs": [],
   "source": [
    "%%capture\n",
    "bert_svm_experiments_results = run_experiment(\n",
    "    arange(0.2, 2,0.075), num_repeats=5, vectorizer_type='bert', model_type='SVM'\n",
    ")\n"
   ]
  },
  {
   "cell_type": "code",
   "execution_count": null,
   "metadata": {
    "pycharm": {
     "is_executing": true,
     "name": "#%%\n"
    }
   },
   "outputs": [],
   "source": [
    "experiments_results_df = pd.DataFrame(bert_svm_experiments_results)\n",
    "plot_results(experiments_results_df)"
   ]
  },
  {
   "cell_type": "markdown",
   "metadata": {
    "pycharm": {
     "name": "#%% md\n"
    }
   },
   "source": [
    "Bert and Logistic regression model\n"
   ]
  },
  {
   "cell_type": "code",
   "execution_count": null,
   "metadata": {
    "pycharm": {
     "is_executing": true,
     "name": "#%%\n"
    }
   },
   "outputs": [],
   "source": [
    "%%capture\n",
    "bert_logreg_experiments_results = run_experiment(\n",
    "    arange(0.2, 2,0.075), num_repeats=5, vectorizer_type='bert', model_type='log_reg'\n",
    ")\n"
   ]
  },
  {
   "cell_type": "code",
   "execution_count": null,
   "metadata": {
    "pycharm": {
     "name": "#%%\n"
    }
   },
   "outputs": [],
   "source": [
    "experiments_results_df = pd.DataFrame(bert_logreg_experiments_results)\n",
    "plot_results(experiments_results_df)"
   ]
  },
  {
   "cell_type": "markdown",
   "metadata": {},
   "source": [
    "## Exploring Bert Results with good parameters "
   ]
  },
  {
   "cell_type": "code",
   "execution_count": null,
   "metadata": {
    "pycharm": {
     "name": "#%%\n"
    }
   },
   "outputs": [],
   "source": [
    "test_setting(data, 'bert', 40)"
   ]
  },
  {
   "cell_type": "code",
   "execution_count": null,
   "metadata": {
    "pycharm": {
     "name": "#%%\n"
    }
   },
   "outputs": [],
   "source": [
    "test_setting(data, 'bert', 360)"
   ]
  },
  {
   "cell_type": "code",
   "execution_count": null,
   "metadata": {
    "pycharm": {
     "name": "#%%\n"
    }
   },
   "outputs": [],
   "source": [
    "test_setting(data, 'bert', 40,'SVM')"
   ]
  },
  {
   "cell_type": "code",
   "execution_count": null,
   "metadata": {
    "pycharm": {
     "name": "#%%\n"
    }
   },
   "outputs": [],
   "source": [
    "test_setting(data, 'bert', 360,'SVM')"
   ]
  },
  {
   "cell_type": "markdown",
   "metadata": {},
   "source": [
    "test_setting(data, 'bert', 360,'SVM')"
   ]
  },
  {
   "cell_type": "code",
   "execution_count": null,
   "metadata": {
    "pycharm": {
     "is_executing": true,
     "name": "#%%\n"
    }
   },
   "outputs": [],
   "source": [
    "test_setting(data, 'bert', 40)"
   ]
  },
  {
   "cell_type": "markdown",
   "metadata": {},
   "source": [
    "## Exploring Bert Results with good parameters "
   ]
  },
  {
   "cell_type": "code",
   "execution_count": null,
   "metadata": {
    "pycharm": {
     "name": "#%%\n"
    }
   },
   "outputs": [],
   "source": [
    "test_setting(data, 'bert', 40)"
   ]
  },
  {
   "cell_type": "code",
   "execution_count": null,
   "metadata": {
    "pycharm": {
     "name": "#%%\n"
    }
   },
   "outputs": [],
   "source": [
    "test_setting(data, 'bert', 360)"
   ]
  },
  {
   "cell_type": "code",
   "execution_count": null,
   "metadata": {
    "pycharm": {
     "name": "#%%\n"
    }
   },
   "outputs": [],
   "source": [
    "test_setting(data, 'bert', 40,'SVM')"
   ]
  },
  {
   "cell_type": "code",
   "execution_count": null,
   "metadata": {
    "pycharm": {
     "name": "#%%\n"
    }
   },
   "outputs": [],
   "source": [
    "test_setting(data, 'bert', 360,'SVM')"
   ]
  },
  {
   "cell_type": "markdown",
   "metadata": {},
   "source": [
    "test_setting(data, 'bert', 360,'SVM')"
   ]
  },
  {
   "cell_type": "code",
   "execution_count": null,
   "metadata": {},
   "outputs": [],
   "source": [
    "test_setting(data, 'bert', 40)"
   ]
  },
  {
   "cell_type": "code",
   "execution_count": null,
   "metadata": {},
   "outputs": [],
   "source": [
    "test_setting(data, 'bert', 360)"
   ]
  },
  {
   "cell_type": "code",
   "execution_count": null,
   "metadata": {},
   "outputs": [],
   "source": [
    "test_setting(data, 'bert', 40,'SVM')"
   ]
  },
  {
   "cell_type": "code",
   "execution_count": null,
   "metadata": {},
   "outputs": [],
   "source": [
    "test_setting(data, 'bert', 360,'SVM')"
   ]
  },
  {
   "cell_type": "code",
   "execution_count": null,
   "metadata": {},
   "outputs": [],
   "source": []
  }
 ],
 "metadata": {
  "kernelspec": {
   "display_name": "Python 3",
   "language": "python",
   "name": "python3"
  },
  "language_info": {
   "codemirror_mode": {
    "name": "ipython",
    "version": 3
   },
   "file_extension": ".py",
   "mimetype": "text/x-python",
   "name": "python",
   "nbconvert_exporter": "python",
   "pygments_lexer": "ipython3",
   "version": "3.7.7"
  }
 },
 "nbformat": 4,
 "nbformat_minor": 4
}