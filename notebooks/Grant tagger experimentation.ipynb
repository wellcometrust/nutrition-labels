{
 "cells": [
  {
   "cell_type": "code",
   "execution_count": 1,
   "metadata": {},
   "outputs": [],
   "source": [
    "import pandas as pd\n",
    "import matplotlib.pyplot as plt\n",
    "import os\n",
    "from numpy import arange"
   ]
  },
  {
   "cell_type": "code",
   "execution_count": 2,
   "metadata": {},
   "outputs": [],
   "source": [
    "os.chdir('../')"
   ]
  },
  {
   "cell_type": "code",
   "execution_count": 3,
   "metadata": {
    "pycharm": {
     "name": "#%%\n"
    }
   },
   "outputs": [],
   "source": [
    "%%capture\n",
    "from nutrition_labels.grant_tagger import GrantTagger"
   ]
  },
  {
   "cell_type": "code",
   "execution_count": 4,
   "metadata": {},
   "outputs": [],
   "source": [
    "data = pd.read_csv('data/processed/training_data.csv')"
   ]
  },
  {
   "cell_type": "code",
   "execution_count": 5,
   "metadata": {},
   "outputs": [
    {
     "data": {
      "text/plain": [
       "(array([  6.,   2.,   2.,   9.,  12.,  22.,  30.,  65., 182., 438., 161.,\n",
       "         52.,  35.,  18.,  14.,   2.,   7.,   2.,   6.,   8.,   2.,   0.,\n",
       "          2.,   5.,   3.,   2.,   3.,   0.,   3.,   2.,   0.,   0.,   0.,\n",
       "          0.,   0.,   0.,   0.,   0.,   0.,   0.,   0.,   0.,   0.,   0.,\n",
       "          0.,   0.,   0.,   1.,   0.,   1.]),\n",
       " array([ 102.  ,  234.62,  367.24,  499.86,  632.48,  765.1 ,  897.72,\n",
       "        1030.34, 1162.96, 1295.58, 1428.2 , 1560.82, 1693.44, 1826.06,\n",
       "        1958.68, 2091.3 , 2223.92, 2356.54, 2489.16, 2621.78, 2754.4 ,\n",
       "        2887.02, 3019.64, 3152.26, 3284.88, 3417.5 , 3550.12, 3682.74,\n",
       "        3815.36, 3947.98, 4080.6 , 4213.22, 4345.84, 4478.46, 4611.08,\n",
       "        4743.7 , 4876.32, 5008.94, 5141.56, 5274.18, 5406.8 , 5539.42,\n",
       "        5672.04, 5804.66, 5937.28, 6069.9 , 6202.52, 6335.14, 6467.76,\n",
       "        6600.38, 6733.  ]),\n",
       " <BarContainer object of 50 artists>)"
      ]
     },
     "execution_count": 5,
     "metadata": {},
     "output_type": "execute_result"
    },
    {
     "data": {
      "image/png": "[encoded data removed]",
      "text/plain": [
       "<Figure size 432x288 with 1 Axes>"
      ]
     },
     "metadata": {
      "needs_background": "light"
     },
     "output_type": "display_data"
    }
   ],
   "source": [
    "plt.hist(data['Description'].apply(len), bins=50)"
   ]
  },
  {
   "cell_type": "code",
   "execution_count": 6,
   "metadata": {},
   "outputs": [
    {
     "data": {
      "text/plain": [
       "10"
      ]
     },
     "execution_count": 6,
     "metadata": {},
     "output_type": "execute_result"
    }
   ],
   "source": [
    "len([d for d in data['Description'] if len(d)<500])"
   ]
  },
  {
   "cell_type": "code",
   "execution_count": 7,
   "metadata": {},
   "outputs": [],
   "source": [
    "def run_experiment(sample_not_relevant_range, num_repeats, vectorizer_type,model_type = 'naive_bayes',bert_type = 'bert'):\n",
    "    experiments_results = []\n",
    "    grant_tagger = GrantTagger(\n",
    "                ngram_range=(1,2),\n",
    "                test_size=0.25,\n",
    "                vectorizer_type = vectorizer_type,\n",
    "                model_type = model_type,\n",
    "                bert_type = bert_type\n",
    "            )\n",
    "    X_vect,y = grant_tagger.transform(data)\n",
    "    for n in sample_not_relevant_range:\n",
    "        average_results_train = None\n",
    "        average_results_test = None\n",
    "        for i in range(0, num_repeats):\n",
    "            # Take the average of 5 runs\n",
    "\n",
    "            X_train, X_test, y_train, y_test = grant_tagger.split_data(\n",
    "                X_vect,\n",
    "                y,\n",
    "                sample_not_relevant = n,\n",
    "                irrelevant_sample_seed = i,\n",
    "                split_seed=i\n",
    "                )\n",
    "            grant_tagger.fit(X_train, y_train)\n",
    "            results_train = grant_tagger.evaluate(X_train, y_train, print_results=False, average='weighted')\n",
    "            results_test = grant_tagger.evaluate(X_test, y_test, print_results=False, average='weighted')\n",
    "            if average_results_train: # will be the same for test too\n",
    "                for key in average_results_train.keys(): # will be the same for test too\n",
    "                    average_results_train[key] += results_train[key]\n",
    "                    average_results_test[key] += results_test[key]\n",
    "            else:\n",
    "                average_results_train = results_train\n",
    "                average_results_test = results_test\n",
    "        average_results_train = {key: value/num_repeats for key, value in average_results_train.items()}\n",
    "        average_results_test = {key: value/num_repeats for key, value in average_results_test.items()}\n",
    "        results_dict = {'sample_not_relevant': n}\n",
    "        for key, value in average_results_train.items():\n",
    "            results_dict[key+'_train'] = value\n",
    "        for key, value in average_results_test.items():\n",
    "            results_dict[key+'_test'] = value\n",
    "        experiments_results.append(results_dict)\n",
    "        \n",
    "    return experiments_results"
   ]
  },
  {
   "cell_type": "code",
   "execution_count": 8,
   "metadata": {
    "pycharm": {
     "name": "#%%\n"
    }
   },
   "outputs": [],
   "source": [
    "def plot_results(experiments_results_df):\n",
    "    fig, (ax1,ax2,ax3,ax4) = plt.subplots(nrows=1, ncols=4, figsize=(15, 4))\n",
    "    experiments_results_df.plot(kind='line', x='sample_not_relevant', y='accuracy_train',ax=ax1, marker='.')\n",
    "    experiments_results_df.plot(kind='line', x='sample_not_relevant', y='accuracy_test', color='red', ax=ax1, marker='.')\n",
    "    experiments_results_df.plot(kind='line', x='sample_not_relevant', y='f1_train',ax=ax2, marker='.')\n",
    "    experiments_results_df.plot(kind='line', x='sample_not_relevant', y='f1_test', color='red', ax=ax2, marker='.')\n",
    "    experiments_results_df.plot(kind='line', x='sample_not_relevant', y='precision_score_train',ax=ax3, marker='.')\n",
    "    experiments_results_df.plot(kind='line', x='sample_not_relevant', y='precision_score_test', color='red', ax=ax3, marker='.')\n",
    "    experiments_results_df.plot(kind='line', x='sample_not_relevant', y='recall_score_train',ax=ax4, marker='.')\n",
    "    experiments_results_df.plot(kind='line', x='sample_not_relevant', y='recall_score_test', color='red', ax=ax4, marker='.')\n",
    "    # fig.savefig(f'sample_not_relevant_{num_repeats}reps_{vectorizer_type}.png')\n",
    "    # plt.close(fig)\n",
    "    plt.show()"
   ]
  },
  {
   "cell_type": "code",
   "execution_count": 9,
   "metadata": {
    "scrolled": false
   },
   "outputs": [
    {
     "ename": "TypeError",
     "evalue": "split_data() got an unexpected keyword argument 'sample_not_relevant'",
     "output_type": "error",
     "traceback": [
      "\u001B[1;31m---------------------------------------------------------------------------\u001B[0m",
      "\u001B[1;31mTypeError\u001B[0m                                 Traceback (most recent call last)",
      "\u001B[1;32m<ipython-input-9-c6a79bab67bf>\u001B[0m in \u001B[0;36m<module>\u001B[1;34m\u001B[0m\n\u001B[0;32m      1\u001B[0m count_experiments_results = run_experiment(\n\u001B[1;32m----> 2\u001B[1;33m     \u001B[0marange\u001B[0m\u001B[1;33m(\u001B[0m\u001B[1;36m0.2\u001B[0m\u001B[1;33m,\u001B[0m \u001B[1;36m2\u001B[0m\u001B[1;33m,\u001B[0m\u001B[1;36m0.075\u001B[0m\u001B[1;33m)\u001B[0m\u001B[1;33m,\u001B[0m \u001B[0mnum_repeats\u001B[0m\u001B[1;33m=\u001B[0m\u001B[1;36m10\u001B[0m\u001B[1;33m,\u001B[0m \u001B[0mvectorizer_type\u001B[0m\u001B[1;33m=\u001B[0m\u001B[1;34m'count'\u001B[0m\u001B[1;33m\u001B[0m\u001B[1;33m\u001B[0m\u001B[0m\n\u001B[0m\u001B[0;32m      3\u001B[0m )\n",
      "\u001B[1;32m<ipython-input-7-5853080e7fd4>\u001B[0m in \u001B[0;36mrun_experiment\u001B[1;34m(sample_not_relevant_range, num_repeats, vectorizer_type, model_type, bert_type)\u001B[0m\n\u001B[0;32m     20\u001B[0m                 \u001B[0msample_not_relevant\u001B[0m \u001B[1;33m=\u001B[0m \u001B[0mn\u001B[0m\u001B[1;33m,\u001B[0m\u001B[1;33m\u001B[0m\u001B[1;33m\u001B[0m\u001B[0m\n\u001B[0;32m     21\u001B[0m                 \u001B[0mirrelevant_sample_seed\u001B[0m \u001B[1;33m=\u001B[0m \u001B[0mi\u001B[0m\u001B[1;33m,\u001B[0m\u001B[1;33m\u001B[0m\u001B[1;33m\u001B[0m\u001B[0m\n\u001B[1;32m---> 22\u001B[1;33m                 \u001B[0msplit_seed\u001B[0m\u001B[1;33m=\u001B[0m\u001B[0mi\u001B[0m\u001B[1;33m\u001B[0m\u001B[1;33m\u001B[0m\u001B[0m\n\u001B[0m\u001B[0;32m     23\u001B[0m                 )\n\u001B[0;32m     24\u001B[0m             \u001B[0mgrant_tagger\u001B[0m\u001B[1;33m.\u001B[0m\u001B[0mfit\u001B[0m\u001B[1;33m(\u001B[0m\u001B[0mX_train\u001B[0m\u001B[1;33m,\u001B[0m \u001B[0my_train\u001B[0m\u001B[1;33m)\u001B[0m\u001B[1;33m\u001B[0m\u001B[1;33m\u001B[0m\u001B[0m\n",
      "\u001B[1;31mTypeError\u001B[0m: split_data() got an unexpected keyword argument 'sample_not_relevant'"
     ]
    }
   ],
   "source": [
    "count_experiments_results = run_experiment(\n",
    "    arange(0.2, 2,0.075), num_repeats=10, vectorizer_type='count'\n",
    ")"
   ]
  },
  {
   "cell_type": "code",
   "execution_count": null,
   "metadata": {},
   "outputs": [],
   "source": [
    "experiments_results_df = pd.DataFrame(count_experiments_results)\n",
    "plot_results(experiments_results_df)"
   ]
  },
  {
   "cell_type": "code",
   "execution_count": null,
   "metadata": {},
   "outputs": [],
   "source": [
    "tfidf_experiments_results = run_experiment(\n",
    "    arange(0.2, 2,0.075), num_repeats=10, vectorizer_type='tfidf'\n",
    ")"
   ]
  },
  {
   "cell_type": "code",
   "execution_count": null,
   "metadata": {
    "pycharm": {
     "name": "#%%\n"
    }
   },
   "outputs": [],
   "source": [
    "experiments_results_df = pd.DataFrame(tfidf_experiments_results)\n",
    "plot_results(experiments_results_df)"
   ]
  },
  {
   "cell_type": "code",
   "execution_count": null,
   "metadata": {},
   "outputs": [],
   "source": [
    "print(len(data.loc[data['Relevance code'] == 1]))\n",
    "print(len(data.loc[data['Relevance code'] == 0]))"
   ]
  },
  {
   "cell_type": "markdown",
   "metadata": {
    "pycharm": {
     "name": "#%% md\n"
    }
   },
   "source": [
    "## Explore all the results of those with good parameters"
   ]
  },
  {
   "cell_type": "code",
   "execution_count": null,
   "metadata": {},
   "outputs": [],
   "source": [
    "def test_setting(data, vectorizer_type, n, model_type = 'naive_bayes',bert_type = 'bert'):\n",
    "    i = 4\n",
    "    grant_tagger = GrantTagger(\n",
    "                ngram_range=(1,2),\n",
    "                test_size=0.25,\n",
    "                vectorizer_type = vectorizer_type,\n",
    "                model_type = model_type,\n",
    "                bert_type = bert_type\n",
    "            )\n",
    "    X_vect,y = grant_tagger.transform(data)\n",
    "    X_train, X_test, y_train, y_test = grant_tagger.split_data(\n",
    "                X_vect,\n",
    "                y,\n",
    "                sample_not_relevant = n,\n",
    "                irrelevant_sample_seed = i,\n",
    "                split_seed=i\n",
    "                )\n",
    "    grant_tagger.fit(X_train, y_train)\n",
    "    results_train = grant_tagger.evaluate(X_train, y_train, average='weighted')\n",
    "    results_test = grant_tagger.evaluate(X_test, y_test, average='weighted')"
   ]
  },
  {
   "cell_type": "code",
   "execution_count": null,
   "metadata": {},
   "outputs": [],
   "source": [
    "test_setting(data, 'tfidf', 0.2)"
   ]
  },
  {
   "cell_type": "code",
   "execution_count": null,
   "metadata": {
    "scrolled": true
   },
   "outputs": [],
   "source": [
    "test_setting(data, 'tfidf', 1.1)"
   ]
  },
  {
   "cell_type": "code",
   "execution_count": null,
   "metadata": {
    "pycharm": {
     "name": "#%%\n"
    }
   },
   "outputs": [],
   "source": [
    "test_setting(data, 'count', 0.2)"
   ]
  },
  {
   "cell_type": "code",
   "execution_count": null,
   "metadata": {
    "pycharm": {
     "name": "#%%\n"
    }
   },
   "outputs": [],
   "source": [
    "test_setting(data, 'count', 1.625)"
   ]
  },
  {
   "cell_type": "markdown",
   "metadata": {
    "pycharm": {
     "name": "#%% md\n"
    }
   },
   "source": [
    "## Testing Bert Vectorizer\n"
   ]
  },
  {
   "cell_type": "markdown",
   "metadata": {
    "pycharm": {
     "name": "#%% md\n"
    }
   },
   "source": [
    "Bert and Naive Bayes model\n"
   ]
  },
  {
   "cell_type": "code",
   "execution_count": null,
   "metadata": {
    "pycharm": {
     "name": "#%%\n"
    }
   },
   "outputs": [],
   "source": [
    "%%capture\n",
    "bert_bayes_experiments_results = run_experiment(\n",
    "    arange(0.2, 2,0.075), num_repeats=10, vectorizer_type='bert'\n",
    ")\n"
   ]
  },
  {
   "cell_type": "code",
   "execution_count": null,
   "metadata": {
    "pycharm": {
     "name": "#%%\n"
    }
   },
   "outputs": [],
   "source": [
    "experiments_results_df = pd.DataFrame(bert_bayes_experiments_results)\n",
    "plot_results(experiments_results_df)"
   ]
  },
  {
   "cell_type": "markdown",
   "metadata": {
    "pycharm": {
     "name": "#%% md\n"
    }
   },
   "source": [
    "Bert and SVM model\n"
   ]
  },
  {
   "cell_type": "code",
   "execution_count": null,
   "metadata": {
    "pycharm": {
     "name": "#%%\n"
    }
   },
   "outputs": [],
   "source": [
    "%%capture\n",
    "bert_svm_experiments_results = run_experiment(\n",
    "    arange(0.2, 2,0.075), num_repeats=10, vectorizer_type='bert', model_type='SVM'\n",
    ")\n"
   ]
  },
  {
   "cell_type": "code",
   "execution_count": null,
   "metadata": {
    "pycharm": {
     "name": "#%%\n"
    }
   },
   "outputs": [],
   "source": [
    "experiments_results_df = pd.DataFrame(bert_svm_experiments_results)\n",
    "plot_results(experiments_results_df)"
   ]
  },
  {
   "cell_type": "markdown",
   "metadata": {
    "pycharm": {
     "name": "#%% md\n"
    }
   },
   "source": [
    "Bert and Logistic regression model\n"
   ]
  },
  {
   "cell_type": "code",
   "execution_count": null,
   "metadata": {
    "pycharm": {
     "name": "#%%\n"
    }
   },
   "outputs": [],
   "source": [
    "%%capture\n",
    "bert_logreg_experiments_results = run_experiment(\n",
    "    arange(0.2, 2,0.075), num_repeats=10, vectorizer_type='bert', model_type='log_reg'\n",
    ")\n"
   ]
  },
  {
   "cell_type": "code",
   "execution_count": null,
   "metadata": {
    "pycharm": {
     "name": "#%%\n"
    }
   },
   "outputs": [],
   "source": [
    "experiments_results_df = pd.DataFrame(bert_logreg_experiments_results)\n",
    "plot_results(experiments_results_df)"
   ]
  },
  {
   "cell_type": "markdown",
   "metadata": {},
   "source": [
    "## Exploring Bert Results with good parameters "
   ]
  },
  {
   "cell_type": "code",
   "execution_count": null,
   "metadata": {
    "pycharm": {
     "name": "#%%\n"
    }
   },
   "outputs": [],
   "source": [
    "test_setting(data, 'bert', 0.2)"
   ]
  },
  {
   "cell_type": "code",
   "execution_count": null,
   "metadata": {
    "pycharm": {
     "name": "#%%\n"
    }
   },
   "outputs": [],
   "source": [
    "test_setting(data, 'bert', 1.775)"
   ]
  },
  {
   "cell_type": "code",
   "execution_count": null,
   "metadata": {
    "pycharm": {
     "name": "#%%\n"
    }
   },
   "outputs": [],
   "source": [
    "test_setting(data, 'bert', 0.5,'SVM')"
   ]
  },
  {
   "cell_type": "code",
   "execution_count": null,
   "metadata": {
    "pycharm": {
     "name": "#%%\n"
    }
   },
   "outputs": [],
   "source": [
    "test_setting(data, 'bert', 1.625,'SVM')"
   ]
  },
  {
   "cell_type": "markdown",
   "metadata": {
    "pycharm": {
     "name": "#%% md\n"
    }
   },
   "source": [
    "## Testing Scibert Vectorizer\n"
   ]
  },
  {
   "cell_type": "markdown",
   "metadata": {},
   "source": [
    "Scibert and Naive Bayes model\n"
   ]
  },
  {
   "cell_type": "code",
   "execution_count": null,
   "metadata": {
    "pycharm": {
     "name": "#%%\n"
    }
   },
   "outputs": [],
   "source": [
    "%%capture\n",
    "scibert_bayes_experiments_results = run_experiment(\n",
    "    arange(0.2, 2,0.075), num_repeats=10, vectorizer_type='bert', bert_type= 'scibert'\n",
    ")\n"
   ]
  },
  {
   "cell_type": "code",
   "execution_count": null,
   "metadata": {
    "pycharm": {
     "name": "#%%\n"
    }
   },
   "outputs": [],
   "source": [
    "experiments_results_df = pd.DataFrame(scibert_bayes_experiments_results)\n",
    "plot_results(experiments_results_df)"
   ]
  },
  {
   "cell_type": "markdown",
   "metadata": {},
   "source": [
    "Scibert and SVM model\n"
   ]
  },
  {
   "cell_type": "code",
   "execution_count": null,
   "metadata": {
    "pycharm": {
     "name": "#%%\n"
    }
   },
   "outputs": [],
   "source": [
    "%%capture\n",
    "scibert_svm_experiments_results = run_experiment(\n",
    "    arange(0.2, 2,0.075), num_repeats=10, vectorizer_type='bert', model_type='SVM', bert_type= 'scibert'\n",
    ")\n"
   ]
  },
  {
   "cell_type": "code",
   "execution_count": null,
   "metadata": {
    "pycharm": {
     "name": "#%%\n"
    }
   },
   "outputs": [],
   "source": [
    "experiments_results_df = pd.DataFrame(scibert_svm_experiments_results)\n",
    "plot_results(experiments_results_df)"
   ]
  },
  {
   "cell_type": "markdown",
   "metadata": {},
   "source": [
    "Scibert and Logistic regression model\n"
   ]
  },
  {
   "cell_type": "code",
   "execution_count": null,
   "metadata": {
    "pycharm": {
     "name": "#%%\n"
    }
   },
   "outputs": [],
   "source": [
    "%%capture\n",
    "scibert_logreg_experiments_results = run_experiment(\n",
    "    arange(0.2, 2,0.075), num_repeats=10, vectorizer_type='bert', model_type='log_reg', bert_type= 'scibert'\n",
    ")\n"
   ]
  },
  {
   "cell_type": "code",
   "execution_count": null,
   "metadata": {
    "pycharm": {
     "name": "#%%\n"
    }
   },
   "outputs": [],
   "source": [
    "experiments_results_df = pd.DataFrame(scibert_logreg_experiments_results)\n",
    "plot_results(experiments_results_df)"
   ]
  },
  {
   "cell_type": "markdown",
   "metadata": {},
   "source": [
    "## Exploring Scibert Results with good parameters"
   ]
  },
  {
   "cell_type": "markdown",
   "metadata": {},
   "source": [
    "Scibert and Naive Bayes"
   ]
  },
  {
   "cell_type": "code",
   "execution_count": null,
   "metadata": {
    "pycharm": {
     "name": "#%%\n"
    }
   },
   "outputs": [],
   "source": [
    "test_setting(data, 'bert', 1.625, bert_type = 'scibert')"
   ]
  },
  {
   "cell_type": "markdown",
   "metadata": {},
   "source": [
    "Scibert and SVM"
   ]
  },
  {
   "cell_type": "code",
   "execution_count": null,
   "metadata": {
    "pycharm": {
     "name": "#%%\n"
    }
   },
   "outputs": [],
   "source": [
    "test_setting(data, 'bert', 0.2, 'SVM',bert_type = 'scibert')"
   ]
  },
  {
   "cell_type": "code",
   "execution_count": null,
   "metadata": {
    "pycharm": {
     "name": "#%%\n"
    }
   },
   "outputs": [],
   "source": [
    "test_setting(data, 'bert', 1.175,'SVM', bert_type = 'scibert')"
   ]
  },
  {
   "cell_type": "markdown",
   "metadata": {},
   "source": [
    "Scibert and log reg"
   ]
  },
  {
   "cell_type": "code",
   "execution_count": null,
   "metadata": {
    "pycharm": {
     "name": "#%%\n"
    }
   },
   "outputs": [],
   "source": [
    "test_setting(data, 'bert', 0.275,'log_reg', bert_type = 'scibert')"
   ]
  },
  {
   "cell_type": "code",
   "execution_count": null,
   "metadata": {
    "pycharm": {
     "name": "#%%\n"
    }
   },
   "outputs": [],
   "source": [
    "test_setting(data, 'bert', 1.7,'log_reg', bert_type = 'scibert')"
   ]
  },
  {
   "cell_type": "markdown",
   "metadata": {},
   "source": [
    "test_setting(data, 'bert', 1.7,'log_reg', bert_type = 'scibert')"
   ]
  },
  {
   "cell_type": "markdown",
   "metadata": {},
   "source": [
    "Scibert and Naive Bayes"
   ]
  },
  {
   "cell_type": "code",
   "execution_count": null,
   "metadata": {},
   "outputs": [],
   "source": [
    "test_setting(data, 'bert', 1.625, bert_type = 'scibert')"
   ]
  },
  {
   "cell_type": "markdown",
   "metadata": {},
   "source": [
    "Scibert and SVM"
   ]
  },
  {
   "cell_type": "code",
   "execution_count": null,
   "metadata": {},
   "outputs": [],
   "source": [
    "test_setting(data, 'bert', 0.2, 'SVM',bert_type = 'scibert')"
   ]
  },
  {
   "cell_type": "code",
   "execution_count": null,
   "metadata": {},
   "outputs": [],
   "source": [
    "test_setting(data, 'bert', 1.175,'SVM', bert_type = 'scibert')"
   ]
  },
  {
   "cell_type": "markdown",
   "metadata": {},
   "source": [
    "Scibert and log reg"
   ]
  },
  {
   "cell_type": "code",
   "execution_count": null,
   "metadata": {},
   "outputs": [],
   "source": [
    "test_setting(data, 'bert', 0.275,'log_reg', bert_type = 'scibert')"
   ]
  },
  {
   "cell_type": "code",
   "execution_count": null,
   "metadata": {},
   "outputs": [],
   "source": [
    "test_setting(data, 'bert', 1.7,'log_reg', bert_type = 'scibert')"
   ]
  }
 ],
 "metadata": {
  "kernelspec": {
   "display_name": "Python 3",
   "language": "python",
   "name": "python3"
  },
  "language_info": {
   "codemirror_mode": {
    "name": "ipython",
    "version": 3
   },
   "file_extension": ".py",
   "mimetype": "text/x-python",
   "name": "python",
   "nbconvert_exporter": "python",
   "pygments_lexer": "ipython3",
   "version": "3.7.7"
  }
 },
 "nbformat": 4,
 "nbformat_minor": 4
}