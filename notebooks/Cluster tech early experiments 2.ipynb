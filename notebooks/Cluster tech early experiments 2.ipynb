{
 "cells": [
  {
   "cell_type": "code",
   "execution_count": 100,
   "metadata": {
    "pycharm": {
     "is_executing": true
    }
   },
   "outputs": [],
   "source": [
    "import pandas as pd\n",
    "from sklearn.decomposition import PCA\n",
    "from sklearn.cluster import DBSCAN, AffinityPropagation\n",
    "from sklearn.feature_extraction.text import CountVectorizer, TfidfVectorizer\n",
    "from sklearn.neighbors import NearestNeighbors\n",
    "from wellcomeml.ml.bert_vectorizer import BertVectorizer\n",
    "import umap\n",
    "from sklearn.manifold import TSNE\n",
    "import os\n",
    "import matplotlib.pyplot as plt\n",
    "import matplotlib.colors as mcolors\n",
    "import numpy as np"
   ]
  },
  {
   "cell_type": "code",
   "execution_count": 3,
   "metadata": {
    "pycharm": {
     "name": "#%%\n"
    }
   },
   "outputs": [
    {
     "name": "stderr",
     "output_type": "stream",
     "text": [
      "2020-09-10 17:07:30 transformers.file_utils INFO: PyTorch version 1.5.1+cpu available.\n",
      "2020-09-10 17:07:30 transformers.modeling_xlnet INFO: Better speed can be achieved with apex installed from https://www.github.com/nvidia/apex .\n",
      "2020-09-10 17:07:30 wellcomeml.logger WARNING: Using WellcomeML without extras (transformers & torch).\n"
     ]
    }
   ],
   "source": [
    "os.chdir('../')\n",
    "data = pd.read_csv('data/processed/tool_grants.csv')"
   ]
  },
  {
   "cell_type": "code",
   "execution_count": 6,
   "metadata": {},
   "outputs": [
    {
     "data": {
      "text/html": [
       "<div>\n",
       "<style scoped>\n",
       "    .dataframe tbody tr th:only-of-type {\n",
       "        vertical-align: middle;\n",
       "    }\n",
       "\n",
       "    .dataframe tbody tr th {\n",
       "        vertical-align: top;\n",
       "    }\n",
       "\n",
       "    .dataframe thead th {\n",
       "        text-align: right;\n",
       "    }\n",
       "</style>\n",
       "<table border=\"1\" class=\"dataframe\">\n",
       "  <thead>\n",
       "    <tr style=\"text-align: right;\">\n",
       "      <th></th>\n",
       "      <th>Financial Year</th>\n",
       "      <th>Internal ID</th>\n",
       "      <th>Applicant Surname</th>\n",
       "      <th>Lead Applicant</th>\n",
       "      <th>Other Applicant(s)</th>\n",
       "      <th>Sponsor(s)</th>\n",
       "      <th>Grant Programme:Title</th>\n",
       "      <th>Recipient Org:Name</th>\n",
       "      <th>Region</th>\n",
       "      <th>Recipient Org:Country</th>\n",
       "      <th>...</th>\n",
       "      <th>Planned Dates:Start Date</th>\n",
       "      <th>Planned Dates:End Date</th>\n",
       "      <th>Currency</th>\n",
       "      <th>Amount Awarded</th>\n",
       "      <th>Award Date</th>\n",
       "      <th>Approval Committee</th>\n",
       "      <th>Identifier</th>\n",
       "      <th>Recipient Org:Identifier</th>\n",
       "      <th>Funding Org:Name</th>\n",
       "      <th>Funding Org:Identifier</th>\n",
       "    </tr>\n",
       "  </thead>\n",
       "  <tbody>\n",
       "    <tr>\n",
       "      <th>0</th>\n",
       "      <td>2018/19</td>\n",
       "      <td>219647/Z/19/Z</td>\n",
       "      <td>Lucas</td>\n",
       "      <td>Miss Alison Lucas</td>\n",
       "      <td>NaN</td>\n",
       "      <td>NaN</td>\n",
       "      <td>Discretionary Award - OPOH</td>\n",
       "      <td>Clean Air Fund</td>\n",
       "      <td>Greater London</td>\n",
       "      <td>United Kingdom</td>\n",
       "      <td>...</td>\n",
       "      <td>2019-09-24</td>\n",
       "      <td>2019-10-24</td>\n",
       "      <td>GBP</td>\n",
       "      <td>30,000</td>\n",
       "      <td>2019-09-30</td>\n",
       "      <td>Internal Decision Panel</td>\n",
       "      <td>360G-Wellcome-219647_Z_19_Z</td>\n",
       "      <td>360G-Wellcome-ORG:Clean-Air-Fund</td>\n",
       "      <td>The Wellcome Trust</td>\n",
       "      <td>GB-CHC-210183</td>\n",
       "    </tr>\n",
       "    <tr>\n",
       "      <th>1</th>\n",
       "      <td>2018/19</td>\n",
       "      <td>219634/A/19/Z</td>\n",
       "      <td>King</td>\n",
       "      <td>Mr Edward King</td>\n",
       "      <td>NaN</td>\n",
       "      <td>NaN</td>\n",
       "      <td>DFID-Wellcome Epidemic Preparedness Grant</td>\n",
       "      <td>UNICEF UK</td>\n",
       "      <td>Greater London</td>\n",
       "      <td>United Kingdom</td>\n",
       "      <td>...</td>\n",
       "      <td>2019-10-01</td>\n",
       "      <td>2020-09-30</td>\n",
       "      <td>GBP</td>\n",
       "      <td>56,063</td>\n",
       "      <td>2019-09-30</td>\n",
       "      <td>Internal Decision Panel</td>\n",
       "      <td>360G-Wellcome-219634_A_19_Z</td>\n",
       "      <td>360G-Wellcome-ORG:UNICEF-UK</td>\n",
       "      <td>The Wellcome Trust</td>\n",
       "      <td>GB-CHC-210183</td>\n",
       "    </tr>\n",
       "    <tr>\n",
       "      <th>2</th>\n",
       "      <td>2018/19</td>\n",
       "      <td>219603/Z/19/Z</td>\n",
       "      <td>Collins</td>\n",
       "      <td>Prof Sir Rory Collins</td>\n",
       "      <td>NaN</td>\n",
       "      <td>NaN</td>\n",
       "      <td>Strategic Support: Science</td>\n",
       "      <td>UK Biobank Ltd</td>\n",
       "      <td>North West</td>\n",
       "      <td>United Kingdom</td>\n",
       "      <td>...</td>\n",
       "      <td>2019-10-01</td>\n",
       "      <td>2024-12-31</td>\n",
       "      <td>GBP</td>\n",
       "      <td>20,000,000</td>\n",
       "      <td>2019-09-30</td>\n",
       "      <td>Internal Decision Panel</td>\n",
       "      <td>360G-Wellcome-219603_Z_19_Z</td>\n",
       "      <td>360G-Wellcome-ORG:UK-Biobank-Ltd</td>\n",
       "      <td>The Wellcome Trust</td>\n",
       "      <td>GB-CHC-210183</td>\n",
       "    </tr>\n",
       "    <tr>\n",
       "      <th>3</th>\n",
       "      <td>2018/19</td>\n",
       "      <td>219574/Z/19/Z</td>\n",
       "      <td>Jackson</td>\n",
       "      <td>Prof Malcolm Jackson</td>\n",
       "      <td>NaN</td>\n",
       "      <td>NaN</td>\n",
       "      <td>Innovations Translational Partnership Award</td>\n",
       "      <td>University of Liverpool</td>\n",
       "      <td>North West</td>\n",
       "      <td>United Kingdom</td>\n",
       "      <td>...</td>\n",
       "      <td>2020-04-01</td>\n",
       "      <td>2022-03-31</td>\n",
       "      <td>GBP</td>\n",
       "      <td>600,000</td>\n",
       "      <td>2019-09-30</td>\n",
       "      <td>Internal Decision Panel</td>\n",
       "      <td>360G-Wellcome-219574_Z_19_Z</td>\n",
       "      <td>360G-Wellcome-ORG:University-of-Liverpool</td>\n",
       "      <td>The Wellcome Trust</td>\n",
       "      <td>GB-CHC-210183</td>\n",
       "    </tr>\n",
       "    <tr>\n",
       "      <th>4</th>\n",
       "      <td>2018/19</td>\n",
       "      <td>219429/Z/19/Z</td>\n",
       "      <td>Thomas</td>\n",
       "      <td>Prof Pam Thomas</td>\n",
       "      <td>NaN</td>\n",
       "      <td>NaN</td>\n",
       "      <td>Innovations Translational Partnership Award</td>\n",
       "      <td>University of Warwick</td>\n",
       "      <td>West Midlands</td>\n",
       "      <td>United Kingdom</td>\n",
       "      <td>...</td>\n",
       "      <td>2020-04-01</td>\n",
       "      <td>2022-03-31</td>\n",
       "      <td>GBP</td>\n",
       "      <td>600,000</td>\n",
       "      <td>2019-09-30</td>\n",
       "      <td>Internal Decision Panel</td>\n",
       "      <td>360G-Wellcome-219429_Z_19_Z</td>\n",
       "      <td>360G-Wellcome-ORG:University-of-Warwick</td>\n",
       "      <td>The Wellcome Trust</td>\n",
       "      <td>GB-CHC-210183</td>\n",
       "    </tr>\n",
       "    <tr>\n",
       "      <th>...</th>\n",
       "      <td>...</td>\n",
       "      <td>...</td>\n",
       "      <td>...</td>\n",
       "      <td>...</td>\n",
       "      <td>...</td>\n",
       "      <td>...</td>\n",
       "      <td>...</td>\n",
       "      <td>...</td>\n",
       "      <td>...</td>\n",
       "      <td>...</td>\n",
       "      <td>...</td>\n",
       "      <td>...</td>\n",
       "      <td>...</td>\n",
       "      <td>...</td>\n",
       "      <td>...</td>\n",
       "      <td>...</td>\n",
       "      <td>...</td>\n",
       "      <td>...</td>\n",
       "      <td>...</td>\n",
       "      <td>...</td>\n",
       "      <td>...</td>\n",
       "    </tr>\n",
       "    <tr>\n",
       "      <th>2174</th>\n",
       "      <td>2005/06</td>\n",
       "      <td>064890/Z/01/B</td>\n",
       "      <td>Cardon</td>\n",
       "      <td>Prof Lon Cardon</td>\n",
       "      <td>NaN</td>\n",
       "      <td>NaN</td>\n",
       "      <td>Principal Research Fellowship Programme</td>\n",
       "      <td>University of Oxford</td>\n",
       "      <td>South East</td>\n",
       "      <td>United Kingdom</td>\n",
       "      <td>...</td>\n",
       "      <td>2006-10-01</td>\n",
       "      <td>2011-09-30</td>\n",
       "      <td>GBP</td>\n",
       "      <td>1,356,170</td>\n",
       "      <td>2006-02-21</td>\n",
       "      <td>Molecules, Genes and Cells Funding Committee</td>\n",
       "      <td>360G-Wellcome-064890_Z_01_B</td>\n",
       "      <td>360G-Wellcome-ORG:University-of-Oxford</td>\n",
       "      <td>The Wellcome Trust</td>\n",
       "      <td>GB-CHC-210183</td>\n",
       "    </tr>\n",
       "    <tr>\n",
       "      <th>2175</th>\n",
       "      <td>2005/06</td>\n",
       "      <td>064405/Z/01/A</td>\n",
       "      <td>Murshudov</td>\n",
       "      <td>Dr Garib Murshudov</td>\n",
       "      <td>NaN</td>\n",
       "      <td>Prof Keith Wilson</td>\n",
       "      <td>Senior Research Fellowship Basic</td>\n",
       "      <td>University of York</td>\n",
       "      <td>Yorkshire and the Humber</td>\n",
       "      <td>United Kingdom</td>\n",
       "      <td>...</td>\n",
       "      <td>2006-11-01</td>\n",
       "      <td>2008-05-31</td>\n",
       "      <td>GBP</td>\n",
       "      <td>188,746</td>\n",
       "      <td>2006-06-29</td>\n",
       "      <td>Basic Science Interview Committee</td>\n",
       "      <td>360G-Wellcome-064405_Z_01_A</td>\n",
       "      <td>360G-Wellcome-ORG:University-of-York</td>\n",
       "      <td>The Wellcome Trust</td>\n",
       "      <td>GB-CHC-210183</td>\n",
       "    </tr>\n",
       "    <tr>\n",
       "      <th>2176</th>\n",
       "      <td>2005/06</td>\n",
       "      <td>063729/Z/01/A</td>\n",
       "      <td>Webb</td>\n",
       "      <td>Prof David Webb</td>\n",
       "      <td>NaN</td>\n",
       "      <td>NaN</td>\n",
       "      <td>Project funding: Inactive scheme</td>\n",
       "      <td>University of Edinburgh</td>\n",
       "      <td>Scotland</td>\n",
       "      <td>United Kingdom</td>\n",
       "      <td>...</td>\n",
       "      <td>2006-07-01</td>\n",
       "      <td>2006-12-31</td>\n",
       "      <td>GBP</td>\n",
       "      <td>58,750</td>\n",
       "      <td>2006-07-19</td>\n",
       "      <td>Technology Transfer Challenge Committee</td>\n",
       "      <td>360G-Wellcome-063729_Z_01_A</td>\n",
       "      <td>360G-Wellcome-ORG:University-of-Edinburgh</td>\n",
       "      <td>The Wellcome Trust</td>\n",
       "      <td>GB-CHC-210183</td>\n",
       "    </tr>\n",
       "    <tr>\n",
       "      <th>2177</th>\n",
       "      <td>2005/06</td>\n",
       "      <td>062452/Z/00/A</td>\n",
       "      <td>Garety</td>\n",
       "      <td>Prof Philippa Garety</td>\n",
       "      <td>Prof Graham Dunn, Prof Paul Bebbington, Prof D...</td>\n",
       "      <td>NaN</td>\n",
       "      <td>Programme Grant</td>\n",
       "      <td>King's College London</td>\n",
       "      <td>Greater London</td>\n",
       "      <td>United Kingdom</td>\n",
       "      <td>...</td>\n",
       "      <td>2006-02-01</td>\n",
       "      <td>2006-09-30</td>\n",
       "      <td>GBP</td>\n",
       "      <td>55,000</td>\n",
       "      <td>2006-01-23</td>\n",
       "      <td>Neurosciences And Mental Health</td>\n",
       "      <td>360G-Wellcome-062452_Z_00_A</td>\n",
       "      <td>360G-Wellcome-ORG:Kings-College-London</td>\n",
       "      <td>The Wellcome Trust</td>\n",
       "      <td>GB-CHC-210183</td>\n",
       "    </tr>\n",
       "    <tr>\n",
       "      <th>2178</th>\n",
       "      <td>2005/06</td>\n",
       "      <td>062023/A/00/B</td>\n",
       "      <td>Birney</td>\n",
       "      <td>Prof Ewan Birney</td>\n",
       "      <td>Dr Tim Hubbard, Dr Richard Durbin</td>\n",
       "      <td>NaN</td>\n",
       "      <td>Programme Grant</td>\n",
       "      <td>European Bioinformatics Institute</td>\n",
       "      <td>East of England</td>\n",
       "      <td>United Kingdom</td>\n",
       "      <td>...</td>\n",
       "      <td>2006-10-01</td>\n",
       "      <td>2012-09-30</td>\n",
       "      <td>GBP</td>\n",
       "      <td>4,050,872</td>\n",
       "      <td>2006-04-26</td>\n",
       "      <td>Molecules, Genes and Cells Funding Committee</td>\n",
       "      <td>360G-Wellcome-062023_A_00_B</td>\n",
       "      <td>360G-Wellcome-ORG:European-Bioinformatics-Inst...</td>\n",
       "      <td>The Wellcome Trust</td>\n",
       "      <td>GB-CHC-210183</td>\n",
       "    </tr>\n",
       "  </tbody>\n",
       "</table>\n",
       "<p>2179 rows × 22 columns</p>\n",
       "</div>"
      ],
      "text/plain": [
       "     Financial Year    Internal ID Applicant Surname         Lead Applicant  \\\n",
       "0           2018/19  219647/Z/19/Z             Lucas      Miss Alison Lucas   \n",
       "1           2018/19  219634/A/19/Z              King         Mr Edward King   \n",
       "2           2018/19  219603/Z/19/Z           Collins  Prof Sir Rory Collins   \n",
       "3           2018/19  219574/Z/19/Z           Jackson   Prof Malcolm Jackson   \n",
       "4           2018/19  219429/Z/19/Z            Thomas        Prof Pam Thomas   \n",
       "...             ...            ...               ...                    ...   \n",
       "2174        2005/06  064890/Z/01/B            Cardon        Prof Lon Cardon   \n",
       "2175        2005/06  064405/Z/01/A         Murshudov     Dr Garib Murshudov   \n",
       "2176        2005/06  063729/Z/01/A              Webb        Prof David Webb   \n",
       "2177        2005/06  062452/Z/00/A            Garety   Prof Philippa Garety   \n",
       "2178        2005/06  062023/A/00/B            Birney       Prof Ewan Birney   \n",
       "\n",
       "                                     Other Applicant(s)         Sponsor(s)  \\\n",
       "0                                                   NaN                NaN   \n",
       "1                                                   NaN                NaN   \n",
       "2                                                   NaN                NaN   \n",
       "3                                                   NaN                NaN   \n",
       "4                                                   NaN                NaN   \n",
       "...                                                 ...                ...   \n",
       "2174                                                NaN                NaN   \n",
       "2175                                                NaN  Prof Keith Wilson   \n",
       "2176                                                NaN                NaN   \n",
       "2177  Prof Graham Dunn, Prof Paul Bebbington, Prof D...                NaN   \n",
       "2178                  Dr Tim Hubbard, Dr Richard Durbin                NaN   \n",
       "\n",
       "                            Grant Programme:Title  \\\n",
       "0                      Discretionary Award - OPOH   \n",
       "1       DFID-Wellcome Epidemic Preparedness Grant   \n",
       "2                      Strategic Support: Science   \n",
       "3     Innovations Translational Partnership Award   \n",
       "4     Innovations Translational Partnership Award   \n",
       "...                                           ...   \n",
       "2174      Principal Research Fellowship Programme   \n",
       "2175             Senior Research Fellowship Basic   \n",
       "2176             Project funding: Inactive scheme   \n",
       "2177                              Programme Grant   \n",
       "2178                              Programme Grant   \n",
       "\n",
       "                     Recipient Org:Name                    Region  \\\n",
       "0                        Clean Air Fund            Greater London   \n",
       "1                             UNICEF UK            Greater London   \n",
       "2                        UK Biobank Ltd                North West   \n",
       "3               University of Liverpool                North West   \n",
       "4                 University of Warwick             West Midlands   \n",
       "...                                 ...                       ...   \n",
       "2174               University of Oxford                South East   \n",
       "2175                 University of York  Yorkshire and the Humber   \n",
       "2176            University of Edinburgh                  Scotland   \n",
       "2177              King's College London            Greater London   \n",
       "2178  European Bioinformatics Institute           East of England   \n",
       "\n",
       "     Recipient Org:Country  ... Planned Dates:Start Date  \\\n",
       "0           United Kingdom  ...               2019-09-24   \n",
       "1           United Kingdom  ...               2019-10-01   \n",
       "2           United Kingdom  ...               2019-10-01   \n",
       "3           United Kingdom  ...               2020-04-01   \n",
       "4           United Kingdom  ...               2020-04-01   \n",
       "...                    ...  ...                      ...   \n",
       "2174        United Kingdom  ...               2006-10-01   \n",
       "2175        United Kingdom  ...               2006-11-01   \n",
       "2176        United Kingdom  ...               2006-07-01   \n",
       "2177        United Kingdom  ...               2006-02-01   \n",
       "2178        United Kingdom  ...               2006-10-01   \n",
       "\n",
       "     Planned Dates:End Date Currency Amount Awarded  Award Date  \\\n",
       "0                2019-10-24      GBP         30,000  2019-09-30   \n",
       "1                2020-09-30      GBP         56,063  2019-09-30   \n",
       "2                2024-12-31      GBP     20,000,000  2019-09-30   \n",
       "3                2022-03-31      GBP        600,000  2019-09-30   \n",
       "4                2022-03-31      GBP        600,000  2019-09-30   \n",
       "...                     ...      ...            ...         ...   \n",
       "2174             2011-09-30      GBP      1,356,170  2006-02-21   \n",
       "2175             2008-05-31      GBP        188,746  2006-06-29   \n",
       "2176             2006-12-31      GBP         58,750  2006-07-19   \n",
       "2177             2006-09-30      GBP         55,000  2006-01-23   \n",
       "2178             2012-09-30      GBP      4,050,872  2006-04-26   \n",
       "\n",
       "                                Approval Committee  \\\n",
       "0                          Internal Decision Panel   \n",
       "1                          Internal Decision Panel   \n",
       "2                          Internal Decision Panel   \n",
       "3                          Internal Decision Panel   \n",
       "4                          Internal Decision Panel   \n",
       "...                                            ...   \n",
       "2174  Molecules, Genes and Cells Funding Committee   \n",
       "2175             Basic Science Interview Committee   \n",
       "2176       Technology Transfer Challenge Committee   \n",
       "2177               Neurosciences And Mental Health   \n",
       "2178  Molecules, Genes and Cells Funding Committee   \n",
       "\n",
       "                       Identifier  \\\n",
       "0     360G-Wellcome-219647_Z_19_Z   \n",
       "1     360G-Wellcome-219634_A_19_Z   \n",
       "2     360G-Wellcome-219603_Z_19_Z   \n",
       "3     360G-Wellcome-219574_Z_19_Z   \n",
       "4     360G-Wellcome-219429_Z_19_Z   \n",
       "...                           ...   \n",
       "2174  360G-Wellcome-064890_Z_01_B   \n",
       "2175  360G-Wellcome-064405_Z_01_A   \n",
       "2176  360G-Wellcome-063729_Z_01_A   \n",
       "2177  360G-Wellcome-062452_Z_00_A   \n",
       "2178  360G-Wellcome-062023_A_00_B   \n",
       "\n",
       "                               Recipient Org:Identifier    Funding Org:Name  \\\n",
       "0                      360G-Wellcome-ORG:Clean-Air-Fund  The Wellcome Trust   \n",
       "1                           360G-Wellcome-ORG:UNICEF-UK  The Wellcome Trust   \n",
       "2                      360G-Wellcome-ORG:UK-Biobank-Ltd  The Wellcome Trust   \n",
       "3             360G-Wellcome-ORG:University-of-Liverpool  The Wellcome Trust   \n",
       "4               360G-Wellcome-ORG:University-of-Warwick  The Wellcome Trust   \n",
       "...                                                 ...                 ...   \n",
       "2174             360G-Wellcome-ORG:University-of-Oxford  The Wellcome Trust   \n",
       "2175               360G-Wellcome-ORG:University-of-York  The Wellcome Trust   \n",
       "2176          360G-Wellcome-ORG:University-of-Edinburgh  The Wellcome Trust   \n",
       "2177             360G-Wellcome-ORG:Kings-College-London  The Wellcome Trust   \n",
       "2178  360G-Wellcome-ORG:European-Bioinformatics-Inst...  The Wellcome Trust   \n",
       "\n",
       "     Funding Org:Identifier  \n",
       "0             GB-CHC-210183  \n",
       "1             GB-CHC-210183  \n",
       "2             GB-CHC-210183  \n",
       "3             GB-CHC-210183  \n",
       "4             GB-CHC-210183  \n",
       "...                     ...  \n",
       "2174          GB-CHC-210183  \n",
       "2175          GB-CHC-210183  \n",
       "2176          GB-CHC-210183  \n",
       "2177          GB-CHC-210183  \n",
       "2178          GB-CHC-210183  \n",
       "\n",
       "[2179 rows x 22 columns]"
      ]
     },
     "execution_count": 6,
     "metadata": {},
     "output_type": "execute_result"
    }
   ],
   "source": [
    "data"
   ]
  },
  {
   "cell_type": "code",
   "execution_count": 75,
   "metadata": {},
   "outputs": [],
   "source": [
    "colour_list = [k for k in mcolors.CSS4_COLORS.keys()]\n",
    "colour_list.remove('black')"
   ]
  },
  {
   "cell_type": "code",
   "execution_count": 18,
   "metadata": {
    "pycharm": {
     "name": "#%%\n"
    }
   },
   "outputs": [],
   "source": [
    "def desc_vectorizer(description,ngram_range,vectorizer_type,bert_type):\n",
    "    if vectorizer_type == 'count':\n",
    "        vectorizer = CountVectorizer(\n",
    "            analyzer='word',\n",
    "            token_pattern=r'(?u)\\b\\w+\\b',\n",
    "            ngram_range=ngram_range\n",
    "            )\n",
    "    elif vectorizer_type == 'tfidf':\n",
    "        vectorizer = TfidfVectorizer(\n",
    "            analyzer='word',\n",
    "            token_pattern=r'(?u)\\b\\w+\\b',\n",
    "            ngram_range=ngram_range\n",
    "            )\n",
    "    elif vectorizer_type == 'bert':\n",
    "        vectorizer = BertVectorizer(pretrained=bert_type)\n",
    "    else:\n",
    "        print('Vectorizer type not recognised')\n",
    "    transformed_data = vectorizer.fit_transform(description)\n",
    "\n",
    "    \n",
    "    return transformed_data\n",
    "    "
   ]
  },
  {
   "cell_type": "code",
   "execution_count": null,
   "metadata": {
    "pycharm": {
     "name": "#%%\n"
    }
   },
   "outputs": [],
   "source": [
    "def plot_raw(data):\n",
    "    plt.scatter(data[:,0],data[:,1] )\n",
    "    plt.show()"
   ]
  },
  {
   "cell_type": "code",
   "execution_count": null,
   "metadata": {
    "pycharm": {
     "name": "#%%\n"
    }
   },
   "outputs": [],
   "source": [
    "def plot_cluster(data,cluster_labels, plot_name):\n",
    "    unique_labels = np.unique(cluster_labels)\n",
    "    plt.figure(figsize=(10, 10))\n",
    "    for i in unique_labels: \n",
    "        indx = [idx for idx,n in enumerate(cluster_labels) if n == i]\n",
    "        if i == -1:\n",
    "            colour = 'black'\n",
    "        else:\n",
    "            colour = colour_list[i]\n",
    "        plt.scatter(data[indx,0],data[indx,1], c = colour, alpha = 0.6)\n",
    "    plt.title(plot_name)\n",
    "    plt.xticks(())\n",
    "    plt.yticks(())\n",
    "    plt.show()\n",
    "    "
   ]
  },
  {
   "cell_type": "markdown",
   "metadata": {},
   "source": [
    "## Scibert X PCA X DBSCAN"
   ]
  },
  {
   "cell_type": "code",
   "execution_count": null,
   "metadata": {
    "pycharm": {
     "name": "#%%\n"
    }
   },
   "outputs": [],
   "source": [
    "scibert_desc = desc_vectorizer(data['Description'].to_list(),ngram_range = (1,2),vectorizer_type = 'bert',bert_type = 'scibert')\n"
   ]
  },
  {
   "cell_type": "code",
   "execution_count": null,
   "metadata": {
    "pycharm": {
     "name": "#%%\n"
    }
   },
   "outputs": [],
   "source": [
    "print(scibert_desc)\n",
    "print(len(scibert_desc))\n",
    "print(scibert_desc.shape)"
   ]
  },
  {
   "cell_type": "code",
   "execution_count": null,
   "metadata": {
    "pycharm": {
     "name": "#%%\n"
    }
   },
   "outputs": [],
   "source": [
    "pca = PCA(n_components = 0.9)\n",
    "pca_sci_desc = pca.fit_transform(scibert_desc)\n",
    "print(pca_sci_desc.shape)"
   ]
  },
  {
   "cell_type": "code",
   "execution_count": null,
   "metadata": {
    "pycharm": {
     "name": "#%%\n"
    }
   },
   "outputs": [],
   "source": [
    "plot_raw(pca_sci_desc)"
   ]
  },
  {
   "cell_type": "code",
   "execution_count": null,
   "metadata": {
    "pycharm": {
     "name": "#%%\n"
    }
   },
   "outputs": [],
   "source": [
    "plt.plot(pca.explained_variance_ratio_)\n",
    "plt.show()"
   ]
  },
  {
   "cell_type": "code",
   "execution_count": null,
   "metadata": {
    "pycharm": {
     "name": "#%%\n"
    }
   },
   "outputs": [],
   "source": [
    "neigh = NearestNeighbors(n_neighbors=2)\n",
    "nbrs = neigh.fit(pca_sci_desc)\n",
    "distances, indices = nbrs.kneighbors(pca_sci_desc)\n",
    "distances = np.sort(distances, axis=0)\n",
    "distances = distances[:,1]\n",
    "plt.plot(distances)"
   ]
  },
  {
   "cell_type": "code",
   "execution_count": null,
   "metadata": {
    "pycharm": {
     "name": "#%%\n"
    }
   },
   "outputs": [],
   "source": [
    "db = DBSCAN(eps = 13).fit(pca_sci_desc)"
   ]
  },
  {
   "cell_type": "code",
   "execution_count": null,
   "metadata": {
    "pycharm": {
     "name": "#%%\n"
    }
   },
   "outputs": [],
   "source": [
    "clusters = db.labels_\n",
    "np.unique(clusters)"
   ]
  },
  {
   "cell_type": "code",
   "execution_count": null,
   "metadata": {
    "pycharm": {
     "name": "#%%\n"
    }
   },
   "outputs": [],
   "source": [
    "plot_cluster(pca_sci_desc,clusters,'Scibert PCA DBSCAN')"
   ]
  },
  {
   "cell_type": "code",
   "execution_count": null,
   "metadata": {
    "pycharm": {
     "name": "#%%\n"
    }
   },
   "outputs": [],
   "source": []
  },
  {
   "cell_type": "code",
   "execution_count": 64,
   "metadata": {},
   "outputs": [],
   "source": []
  },
  {
   "cell_type": "code",
   "execution_count": 78,
   "metadata": {},
   "outputs": [],
   "source": [
    "def plot_cluster(data,cluster_labels, plot_name):\n",
    "    unique_labels = np.unique(cluster_labels)\n",
    "    plt.figure(figsize=(10, 10))\n",
    "    for i in unique_labels: \n",
    "        indx = [idx for idx,n in enumerate(cluster_labels) if n == i]\n",
    "        if i == -1:\n",
    "            colour = 'black'\n",
    "        else:\n",
    "            colour = colour_list[i]\n",
    "        plt.scatter(data[indx,0],data[indx,1], c = colour, alpha = 0.6)\n",
    "    plt.title(plot_name)\n",
    "    plt.xticks(())\n",
    "    plt.yticks(())\n",
    "    plt.show()\n",
    "    "
   ]
  },
  {
   "cell_type": "markdown",
   "metadata": {},
   "source": [
    "## Scibert X PCA X DBSCAN"
   ]
  },
  {
   "cell_type": "code",
   "execution_count": 29,
   "metadata": {},
   "outputs": [
    {
     "name": "stderr",
     "output_type": "stream",
     "text": [
      "2020-09-10 17:45:34 wellcomeml.logger INFO: Using C:\\Users\\nonie/.cache/wellcomeml/models\\scibert_scivocab_uncased embedding\n",
      "2020-09-10 17:45:34 transformers.configuration_utils INFO: loading configuration file C:\\Users\\nonie/.cache/wellcomeml/models\\scibert_scivocab_uncased\\config.json\n",
      "2020-09-10 17:45:34 transformers.configuration_utils INFO: Model config {\n",
      "  \"attention_probs_dropout_prob\": 0.1,\n",
      "  \"finetuning_task\": null,\n",
      "  \"hidden_act\": \"gelu\",\n",
      "  \"hidden_dropout_prob\": 0.1,\n",
      "  \"hidden_size\": 768,\n",
      "  \"initializer_range\": 0.02,\n",
      "  \"intermediate_size\": 3072,\n",
      "  \"layer_norm_eps\": 1e-12,\n",
      "  \"max_position_embeddings\": 512,\n",
      "  \"num_attention_heads\": 12,\n",
      "  \"num_hidden_layers\": 12,\n",
      "  \"num_labels\": 2,\n",
      "  \"output_attentions\": false,\n",
      "  \"output_hidden_states\": true,\n",
      "  \"pruned_heads\": {},\n",
      "  \"torchscript\": false,\n",
      "  \"type_vocab_size\": 2,\n",
      "  \"use_bfloat16\": false,\n",
      "  \"vocab_size\": 31090\n",
      "}\n",
      "\n",
      "2020-09-10 17:45:34 transformers.modeling_utils INFO: loading weights file C:\\Users\\nonie/.cache/wellcomeml/models\\scibert_scivocab_uncased\\pytorch_model.bin\n",
      "2020-09-10 17:45:36 transformers.tokenization_utils INFO: Model name 'C:\\Users\\nonie/.cache/wellcomeml/models\\scibert_scivocab_uncased' not found in model shortcut name list (bert-base-uncased, bert-large-uncased, bert-base-cased, bert-large-cased, bert-base-multilingual-uncased, bert-base-multilingual-cased, bert-base-chinese, bert-base-german-cased, bert-large-uncased-whole-word-masking, bert-large-cased-whole-word-masking, bert-large-uncased-whole-word-masking-finetuned-squad, bert-large-cased-whole-word-masking-finetuned-squad, bert-base-cased-finetuned-mrpc). Assuming 'C:\\Users\\nonie/.cache/wellcomeml/models\\scibert_scivocab_uncased' is a path or url to a directory containing tokenizer files.\n",
      "2020-09-10 17:45:36 transformers.tokenization_utils INFO: Didn't find file C:\\Users\\nonie/.cache/wellcomeml/models\\scibert_scivocab_uncased\\added_tokens.json. We won't load it.\n",
      "2020-09-10 17:45:36 transformers.tokenization_utils INFO: Didn't find file C:\\Users\\nonie/.cache/wellcomeml/models\\scibert_scivocab_uncased\\special_tokens_map.json. We won't load it.\n",
      "2020-09-10 17:45:36 transformers.tokenization_utils INFO: Didn't find file C:\\Users\\nonie/.cache/wellcomeml/models\\scibert_scivocab_uncased\\tokenizer_config.json. We won't load it.\n",
      "2020-09-10 17:45:36 transformers.tokenization_utils INFO: loading file C:\\Users\\nonie/.cache/wellcomeml/models\\scibert_scivocab_uncased\\vocab.txt\n",
      "2020-09-10 17:45:36 transformers.tokenization_utils INFO: loading file None\n",
      "2020-09-10 17:45:36 transformers.tokenization_utils INFO: loading file None\n",
      "2020-09-10 17:45:36 transformers.tokenization_utils INFO: loading file None\n"
     ]
    }
   ],
   "source": [
    "scibert_desc = desc_vectorizer(data['Description'].to_list(),ngram_range = (1,2),vectorizer_type = 'bert',bert_type = 'scibert')\n"
   ]
  },
  {
   "cell_type": "code",
   "execution_count": 33,
   "metadata": {},
   "outputs": [
    {
     "name": "stdout",
     "output_type": "stream",
     "text": [
      "[[-0.93512523  0.43466264 -0.08107142 ...  0.24600132  0.19372275\n",
      "  -1.3792396 ]\n",
      " [ 0.90778494  0.4561499   0.79504496 ... -0.14125904  0.48494524\n",
      "  -1.9665728 ]\n",
      " [-0.7495432   0.9859593   0.15579726 ...  0.8236975   0.8994099\n",
      "  -1.6106691 ]\n",
      " ...\n",
      " [ 0.34418055 -0.27567014  0.38957322 ...  0.25209734  1.3446734\n",
      "  -0.836565  ]\n",
      " [ 0.11241753 -0.19050804 -0.41814092 ... -0.9827088   0.8560538\n",
      "  -1.9340403 ]\n",
      " [ 0.31780803 -0.13214643  0.24290435 ...  0.2801269   1.1360469\n",
      "  -0.22758521]]\n",
      "2179\n",
      "(2179, 768)\n"
     ]
    }
   ],
   "source": [
    "print(scibert_desc)\n",
    "print(len(scibert_desc))\n",
    "print(scibert_desc.shape)"
   ]
  },
  {
   "cell_type": "code",
   "execution_count": 42,
   "metadata": {},
   "outputs": [
    {
     "name": "stdout",
     "output_type": "stream",
     "text": [
      "(2179, 42)\n"
     ]
    }
   ],
   "source": [
    "pca = PCA(n_components = 0.9)\n",
    "pca_sci_desc = pca.fit_transform(scibert_desc)\n",
    "print(pca_sci_desc.shape)"
   ]
  },
  {
   "cell_type": "code",
   "execution_count": 73,
   "metadata": {},
   "outputs": [
    {
     "data": {
      "image/png": "[encoded data removed]",
      "text/plain": [
       "<Figure size 432x288 with 1 Axes>"
      ]
     },
     "metadata": {
      "needs_background": "light"
     },
     "output_type": "display_data"
    }
   ],
   "source": [
    "plot_raw(pca_sci_desc)"
   ]
  },
  {
   "cell_type": "code",
   "execution_count": 44,
   "metadata": {},
   "outputs": [
    {
     "data": {
      "image/png": "[encoded data removed]",
      "text/plain": [
       "<Figure size 432x288 with 1 Axes>"
      ]
     },
     "metadata": {
      "needs_background": "light"
     },
     "output_type": "display_data"
    }
   ],
   "source": [
    "plt.plot(pca.explained_variance_ratio_)\n",
    "plt.show()"
   ]
  },
  {
   "cell_type": "code",
   "execution_count": 101,
   "metadata": {},
   "outputs": [
    {
     "data": {
      "text/plain": [
       "[<matplotlib.lines.Line2D at 0x238b2426388>]"
      ]
     },
     "execution_count": 101,
     "metadata": {},
     "output_type": "execute_result"
    },
    {
     "data": {
      "image/png": "[encoded data removed]",
      "text/plain": [
       "<Figure size 432x288 with 1 Axes>"
      ]
     },
     "metadata": {
      "needs_background": "light"
     },
     "output_type": "display_data"
    }
   ],
   "source": [
    "neigh = NearestNeighbors(n_neighbors=2)\n",
    "nbrs = neigh.fit(pca_sci_desc)\n",
    "distances, indices = nbrs.kneighbors(pca_sci_desc)\n",
    "distances = np.sort(distances, axis=0)\n",
    "distances = distances[:,1]\n",
    "plt.plot(distances)"
   ]
  },
  {
   "cell_type": "code",
   "execution_count": 118,
   "metadata": {},
   "outputs": [],
   "source": [
    "db = DBSCAN(eps = 13).fit(pca_sci_desc)"
   ]
  },
  {
   "cell_type": "code",
   "execution_count": 119,
   "metadata": {},
   "outputs": [
    {
     "data": {
      "text/plain": [
       "array([-1,  0,  1,  2,  3,  4,  5], dtype=int64)"
      ]
     },
     "execution_count": 119,
     "metadata": {},
     "output_type": "execute_result"
    }
   ],
   "source": [
    "clusters = db.labels_\n",
    "np.unique(clusters)"
   ]
  },
  {
   "cell_type": "code",
   "execution_count": 120,
   "metadata": {},
   "outputs": [
    {
     "data": {
      "image/png": "[encoded data removed]",
      "text/plain": [
       "<Figure size 720x720 with 1 Axes>"
      ]
     },
     "metadata": {},
     "output_type": "display_data"
    }
   ],
   "source": [
    "plot_cluster(pca_sci_desc,clusters,'Scibert PCA DBSCAN')"
   ]
  },
  {
   "cell_type": "code",
   "execution_count": null,
   "metadata": {},
   "outputs": [],
   "source": []
  }
 ],
 "metadata": {
  "kernelspec": {
   "display_name": "Python 3",
   "language": "python",
   "name": "python3"
  },
  "language_info": {
   "codemirror_mode": {
    "name": "ipython",
    "version": 3
   },
   "file_extension": ".py",
   "mimetype": "text/x-python",
   "name": "python",
   "nbconvert_exporter": "python",
   "pygments_lexer": "ipython3",
   "version": "3.7.9"
  }
 },
 "nbformat": 4,
 "nbformat_minor": 1
}
