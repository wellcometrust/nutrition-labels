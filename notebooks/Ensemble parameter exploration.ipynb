{
 "cells": [
  {
   "cell_type": "markdown",
   "id": "scheduled-technique",
   "metadata": {},
   "source": [
    "## Exploration of the parameters for a good ensemble model\n",
    "\n",
    "`grant_tagger.py` was run with all combinations of the following vectorizers and classifiers:\n",
    "\n",
    "Vectorizer: \n",
    "1. Count\n",
    "2. TF-IDF\n",
    "3. BERT\n",
    "4. SciBERT\n",
    "\n",
    "Classifier: \n",
    "1. Naïve Bayes\n",
    "2. SVM\n",
    "3. Logistic regression\n",
    "\n",
    "This outputted in **12 trained models**. We also have the predictions of each model on a test set.\n",
    "\n",
    "Test each combination of models and the number that need to agree to find the best parameters for an ensemble model. This information can be put into a config file for use in `tech_grant_tagger.py` to make future predictions.\n",
    "\n"
   ]
  },
  {
   "cell_type": "code",
   "execution_count": 1,
   "id": "orange-computer",
   "metadata": {},
   "outputs": [],
   "source": [
    "import json\n",
    "import itertools\n",
    "import os\n",
    "\n",
    "import pandas as pd\n",
    "import numpy as np\n",
    "import matplotlib.pyplot as plt\n",
    "\n",
    "from sklearn.metrics import (\n",
    "    classification_report,\n",
    "    confusion_matrix,\n",
    "    f1_score,\n",
    "    precision_score,\n",
    "    recall_score\n",
    ")"
   ]
  },
  {
   "cell_type": "markdown",
   "id": "compatible-winner",
   "metadata": {},
   "source": [
    "## Load data"
   ]
  },
  {
   "cell_type": "code",
   "execution_count": 2,
   "id": "devoted-tissue",
   "metadata": {},
   "outputs": [],
   "source": [
    "date_model_test ='210221'"
   ]
  },
  {
   "cell_type": "code",
   "execution_count": 3,
   "id": "failing-obligation",
   "metadata": {},
   "outputs": [
    {
     "data": {
      "text/html": [
       "<div>\n",
       "<style scoped>\n",
       "    .dataframe tbody tr th:only-of-type {\n",
       "        vertical-align: middle;\n",
       "    }\n",
       "\n",
       "    .dataframe tbody tr th {\n",
       "        vertical-align: top;\n",
       "    }\n",
       "\n",
       "    .dataframe thead th {\n",
       "        text-align: right;\n",
       "    }\n",
       "</style>\n",
       "<table border=\"1\" class=\"dataframe\">\n",
       "  <thead>\n",
       "    <tr style=\"text-align: right;\">\n",
       "      <th></th>\n",
       "      <th>f1</th>\n",
       "      <th>precision_score</th>\n",
       "      <th>recall_score</th>\n",
       "      <th>model_name</th>\n",
       "      <th>Type</th>\n",
       "    </tr>\n",
       "  </thead>\n",
       "  <tbody>\n",
       "    <tr>\n",
       "      <th>bert_naive_bayes_bert_210221</th>\n",
       "      <td>0.746032</td>\n",
       "      <td>0.803419</td>\n",
       "      <td>0.696296</td>\n",
       "      <td>bert_naive_bayes_bert</td>\n",
       "      <td>Original model</td>\n",
       "    </tr>\n",
       "    <tr>\n",
       "      <th>bert_SVM_scibert_210221</th>\n",
       "      <td>0.782609</td>\n",
       "      <td>0.838983</td>\n",
       "      <td>0.733333</td>\n",
       "      <td>bert_SVM_scibert</td>\n",
       "      <td>Original model</td>\n",
       "    </tr>\n",
       "    <tr>\n",
       "      <th>count_SVM_210221</th>\n",
       "      <td>0.719665</td>\n",
       "      <td>0.826923</td>\n",
       "      <td>0.637037</td>\n",
       "      <td>count_SVM</td>\n",
       "      <td>Original model</td>\n",
       "    </tr>\n",
       "    <tr>\n",
       "      <th>tfidf_naive_bayes_210221</th>\n",
       "      <td>0.816901</td>\n",
       "      <td>0.778523</td>\n",
       "      <td>0.859259</td>\n",
       "      <td>tfidf_naive_bayes</td>\n",
       "      <td>Original model</td>\n",
       "    </tr>\n",
       "    <tr>\n",
       "      <th>bert_log_reg_bert_210221</th>\n",
       "      <td>0.789272</td>\n",
       "      <td>0.817460</td>\n",
       "      <td>0.762963</td>\n",
       "      <td>bert_log_reg_bert</td>\n",
       "      <td>Original model</td>\n",
       "    </tr>\n",
       "    <tr>\n",
       "      <th>tfidf_SVM_210221</th>\n",
       "      <td>0.736402</td>\n",
       "      <td>0.846154</td>\n",
       "      <td>0.651852</td>\n",
       "      <td>tfidf_SVM</td>\n",
       "      <td>Original model</td>\n",
       "    </tr>\n",
       "    <tr>\n",
       "      <th>bert_SVM_bert_210221</th>\n",
       "      <td>0.779923</td>\n",
       "      <td>0.814516</td>\n",
       "      <td>0.748148</td>\n",
       "      <td>bert_SVM_bert</td>\n",
       "      <td>Original model</td>\n",
       "    </tr>\n",
       "    <tr>\n",
       "      <th>bert_naive_bayes_scibert_210221</th>\n",
       "      <td>0.778626</td>\n",
       "      <td>0.803150</td>\n",
       "      <td>0.755556</td>\n",
       "      <td>bert_naive_bayes_scibert</td>\n",
       "      <td>Original model</td>\n",
       "    </tr>\n",
       "    <tr>\n",
       "      <th>count_log_reg_210221</th>\n",
       "      <td>0.772201</td>\n",
       "      <td>0.806452</td>\n",
       "      <td>0.740741</td>\n",
       "      <td>count_log_reg</td>\n",
       "      <td>Original model</td>\n",
       "    </tr>\n",
       "    <tr>\n",
       "      <th>count_naive_bayes_210221</th>\n",
       "      <td>0.773585</td>\n",
       "      <td>0.820000</td>\n",
       "      <td>0.732143</td>\n",
       "      <td>count_naive_bayes</td>\n",
       "      <td>Original model</td>\n",
       "    </tr>\n",
       "    <tr>\n",
       "      <th>tfidf_log_reg_210221</th>\n",
       "      <td>0.758893</td>\n",
       "      <td>0.813559</td>\n",
       "      <td>0.711111</td>\n",
       "      <td>tfidf_log_reg</td>\n",
       "      <td>Original model</td>\n",
       "    </tr>\n",
       "    <tr>\n",
       "      <th>bert_log_reg_scibert_210221</th>\n",
       "      <td>0.793893</td>\n",
       "      <td>0.818898</td>\n",
       "      <td>0.770370</td>\n",
       "      <td>bert_log_reg_scibert</td>\n",
       "      <td>Original model</td>\n",
       "    </tr>\n",
       "  </tbody>\n",
       "</table>\n",
       "</div>"
      ],
      "text/plain": [
       "                                       f1  precision_score  recall_score  \\\n",
       "bert_naive_bayes_bert_210221     0.746032         0.803419      0.696296   \n",
       "bert_SVM_scibert_210221          0.782609         0.838983      0.733333   \n",
       "count_SVM_210221                 0.719665         0.826923      0.637037   \n",
       "tfidf_naive_bayes_210221         0.816901         0.778523      0.859259   \n",
       "bert_log_reg_bert_210221         0.789272         0.817460      0.762963   \n",
       "tfidf_SVM_210221                 0.736402         0.846154      0.651852   \n",
       "bert_SVM_bert_210221             0.779923         0.814516      0.748148   \n",
       "bert_naive_bayes_scibert_210221  0.778626         0.803150      0.755556   \n",
       "count_log_reg_210221             0.772201         0.806452      0.740741   \n",
       "count_naive_bayes_210221         0.773585         0.820000      0.732143   \n",
       "tfidf_log_reg_210221             0.758893         0.813559      0.711111   \n",
       "bert_log_reg_scibert_210221      0.793893         0.818898      0.770370   \n",
       "\n",
       "                                               model_name            Type  \n",
       "bert_naive_bayes_bert_210221        bert_naive_bayes_bert  Original model  \n",
       "bert_SVM_scibert_210221                  bert_SVM_scibert  Original model  \n",
       "count_SVM_210221                                count_SVM  Original model  \n",
       "tfidf_naive_bayes_210221                tfidf_naive_bayes  Original model  \n",
       "bert_log_reg_bert_210221                bert_log_reg_bert  Original model  \n",
       "tfidf_SVM_210221                                tfidf_SVM  Original model  \n",
       "bert_SVM_bert_210221                        bert_SVM_bert  Original model  \n",
       "bert_naive_bayes_scibert_210221  bert_naive_bayes_scibert  Original model  \n",
       "count_log_reg_210221                        count_log_reg  Original model  \n",
       "count_naive_bayes_210221                count_naive_bayes  Original model  \n",
       "tfidf_log_reg_210221                        tfidf_log_reg  Original model  \n",
       "bert_log_reg_scibert_210221          bert_log_reg_scibert  Original model  "
      ]
     },
     "execution_count": 3,
     "metadata": {},
     "output_type": "execute_result"
    }
   ],
   "source": [
    "# Test performance of each model\n",
    "with open(f'../data/processed/model_test_results/models_summary_{date_model_test}.jsonl') as f:\n",
    "    model_results = json.load(f)\n",
    "model_results = pd.DataFrame(model_results).T\n",
    "model_results['model_name'] = ['_'.join(m.split('_')[0:-1]) for m in model_results.index]\n",
    "model_results['Type'] = ['Original model']*len(model_results)\n",
    "model_results"
   ]
  },
  {
   "cell_type": "code",
   "execution_count": 4,
   "id": "southern-acrobat",
   "metadata": {},
   "outputs": [
    {
     "data": {
      "text/html": [
       "<div>\n",
       "<style scoped>\n",
       "    .dataframe tbody tr th:only-of-type {\n",
       "        vertical-align: middle;\n",
       "    }\n",
       "\n",
       "    .dataframe tbody tr th {\n",
       "        vertical-align: top;\n",
       "    }\n",
       "\n",
       "    .dataframe thead th {\n",
       "        text-align: right;\n",
       "    }\n",
       "</style>\n",
       "<table border=\"1\" class=\"dataframe\">\n",
       "  <thead>\n",
       "    <tr style=\"text-align: right;\">\n",
       "      <th></th>\n",
       "      <th>bert_naive_bayes_bert_210221</th>\n",
       "      <th>bert_SVM_scibert_210221</th>\n",
       "      <th>count_SVM_210221</th>\n",
       "      <th>tfidf_naive_bayes_210221</th>\n",
       "      <th>bert_log_reg_bert_210221</th>\n",
       "      <th>tfidf_SVM_210221</th>\n",
       "      <th>bert_SVM_bert_210221</th>\n",
       "      <th>bert_naive_bayes_scibert_210221</th>\n",
       "      <th>count_log_reg_210221</th>\n",
       "      <th>count_naive_bayes_210221</th>\n",
       "      <th>tfidf_log_reg_210221</th>\n",
       "      <th>bert_log_reg_scibert_210221</th>\n",
       "      <th>Internal ID</th>\n",
       "    </tr>\n",
       "  </thead>\n",
       "  <tbody>\n",
       "    <tr>\n",
       "      <th>0</th>\n",
       "      <td>1</td>\n",
       "      <td>1</td>\n",
       "      <td>1</td>\n",
       "      <td>1</td>\n",
       "      <td>1</td>\n",
       "      <td>1</td>\n",
       "      <td>1</td>\n",
       "      <td>1</td>\n",
       "      <td>1</td>\n",
       "      <td>1</td>\n",
       "      <td>1</td>\n",
       "      <td>1</td>\n",
       "      <td>219603/Z/19/Z</td>\n",
       "    </tr>\n",
       "    <tr>\n",
       "      <th>1</th>\n",
       "      <td>1</td>\n",
       "      <td>0</td>\n",
       "      <td>0</td>\n",
       "      <td>0</td>\n",
       "      <td>0</td>\n",
       "      <td>0</td>\n",
       "      <td>0</td>\n",
       "      <td>1</td>\n",
       "      <td>0</td>\n",
       "      <td>1</td>\n",
       "      <td>0</td>\n",
       "      <td>0</td>\n",
       "      <td>219425/Z/19/Z</td>\n",
       "    </tr>\n",
       "    <tr>\n",
       "      <th>2</th>\n",
       "      <td>1</td>\n",
       "      <td>0</td>\n",
       "      <td>0</td>\n",
       "      <td>0</td>\n",
       "      <td>1</td>\n",
       "      <td>0</td>\n",
       "      <td>0</td>\n",
       "      <td>1</td>\n",
       "      <td>0</td>\n",
       "      <td>0</td>\n",
       "      <td>0</td>\n",
       "      <td>0</td>\n",
       "      <td>219420/Z/19/Z</td>\n",
       "    </tr>\n",
       "    <tr>\n",
       "      <th>3</th>\n",
       "      <td>1</td>\n",
       "      <td>0</td>\n",
       "      <td>0</td>\n",
       "      <td>0</td>\n",
       "      <td>0</td>\n",
       "      <td>0</td>\n",
       "      <td>0</td>\n",
       "      <td>1</td>\n",
       "      <td>0</td>\n",
       "      <td>0</td>\n",
       "      <td>0</td>\n",
       "      <td>0</td>\n",
       "      <td>219007/Z/19/Z</td>\n",
       "    </tr>\n",
       "    <tr>\n",
       "      <th>4</th>\n",
       "      <td>1</td>\n",
       "      <td>0</td>\n",
       "      <td>1</td>\n",
       "      <td>1</td>\n",
       "      <td>1</td>\n",
       "      <td>1</td>\n",
       "      <td>0</td>\n",
       "      <td>1</td>\n",
       "      <td>1</td>\n",
       "      <td>1</td>\n",
       "      <td>1</td>\n",
       "      <td>0</td>\n",
       "      <td>218880/Z/19/Z</td>\n",
       "    </tr>\n",
       "    <tr>\n",
       "      <th>5</th>\n",
       "      <td>1</td>\n",
       "      <td>1</td>\n",
       "      <td>1</td>\n",
       "      <td>1</td>\n",
       "      <td>1</td>\n",
       "      <td>1</td>\n",
       "      <td>1</td>\n",
       "      <td>1</td>\n",
       "      <td>1</td>\n",
       "      <td>1</td>\n",
       "      <td>1</td>\n",
       "      <td>1</td>\n",
       "      <td>218584/Z/19/Z</td>\n",
       "    </tr>\n",
       "    <tr>\n",
       "      <th>6</th>\n",
       "      <td>1</td>\n",
       "      <td>0</td>\n",
       "      <td>0</td>\n",
       "      <td>1</td>\n",
       "      <td>0</td>\n",
       "      <td>0</td>\n",
       "      <td>0</td>\n",
       "      <td>1</td>\n",
       "      <td>1</td>\n",
       "      <td>1</td>\n",
       "      <td>0</td>\n",
       "      <td>0</td>\n",
       "      <td>218539/Z/19/Z</td>\n",
       "    </tr>\n",
       "    <tr>\n",
       "      <th>7</th>\n",
       "      <td>1</td>\n",
       "      <td>1</td>\n",
       "      <td>0</td>\n",
       "      <td>0</td>\n",
       "      <td>1</td>\n",
       "      <td>0</td>\n",
       "      <td>0</td>\n",
       "      <td>1</td>\n",
       "      <td>0</td>\n",
       "      <td>0</td>\n",
       "      <td>0</td>\n",
       "      <td>0</td>\n",
       "      <td>218510/Z/19/Z</td>\n",
       "    </tr>\n",
       "    <tr>\n",
       "      <th>8</th>\n",
       "      <td>1</td>\n",
       "      <td>0</td>\n",
       "      <td>0</td>\n",
       "      <td>1</td>\n",
       "      <td>0</td>\n",
       "      <td>0</td>\n",
       "      <td>0</td>\n",
       "      <td>1</td>\n",
       "      <td>1</td>\n",
       "      <td>0</td>\n",
       "      <td>0</td>\n",
       "      <td>0</td>\n",
       "      <td>218369/Z/19/Z</td>\n",
       "    </tr>\n",
       "    <tr>\n",
       "      <th>9</th>\n",
       "      <td>1</td>\n",
       "      <td>0</td>\n",
       "      <td>0</td>\n",
       "      <td>1</td>\n",
       "      <td>0</td>\n",
       "      <td>0</td>\n",
       "      <td>0</td>\n",
       "      <td>1</td>\n",
       "      <td>1</td>\n",
       "      <td>0</td>\n",
       "      <td>0</td>\n",
       "      <td>0</td>\n",
       "      <td>218358/Z/19/Z</td>\n",
       "    </tr>\n",
       "  </tbody>\n",
       "</table>\n",
       "</div>"
      ],
      "text/plain": [
       "   bert_naive_bayes_bert_210221  bert_SVM_scibert_210221  count_SVM_210221  \\\n",
       "0                             1                        1                 1   \n",
       "1                             1                        0                 0   \n",
       "2                             1                        0                 0   \n",
       "3                             1                        0                 0   \n",
       "4                             1                        0                 1   \n",
       "5                             1                        1                 1   \n",
       "6                             1                        0                 0   \n",
       "7                             1                        1                 0   \n",
       "8                             1                        0                 0   \n",
       "9                             1                        0                 0   \n",
       "\n",
       "   tfidf_naive_bayes_210221  bert_log_reg_bert_210221  tfidf_SVM_210221  \\\n",
       "0                         1                         1                 1   \n",
       "1                         0                         0                 0   \n",
       "2                         0                         1                 0   \n",
       "3                         0                         0                 0   \n",
       "4                         1                         1                 1   \n",
       "5                         1                         1                 1   \n",
       "6                         1                         0                 0   \n",
       "7                         0                         1                 0   \n",
       "8                         1                         0                 0   \n",
       "9                         1                         0                 0   \n",
       "\n",
       "   bert_SVM_bert_210221  bert_naive_bayes_scibert_210221  \\\n",
       "0                     1                                1   \n",
       "1                     0                                1   \n",
       "2                     0                                1   \n",
       "3                     0                                1   \n",
       "4                     0                                1   \n",
       "5                     1                                1   \n",
       "6                     0                                1   \n",
       "7                     0                                1   \n",
       "8                     0                                1   \n",
       "9                     0                                1   \n",
       "\n",
       "   count_log_reg_210221  count_naive_bayes_210221  tfidf_log_reg_210221  \\\n",
       "0                     1                         1                     1   \n",
       "1                     0                         1                     0   \n",
       "2                     0                         0                     0   \n",
       "3                     0                         0                     0   \n",
       "4                     1                         1                     1   \n",
       "5                     1                         1                     1   \n",
       "6                     1                         1                     0   \n",
       "7                     0                         0                     0   \n",
       "8                     1                         0                     0   \n",
       "9                     1                         0                     0   \n",
       "\n",
       "   bert_log_reg_scibert_210221    Internal ID  \n",
       "0                            1  219603/Z/19/Z  \n",
       "1                            0  219425/Z/19/Z  \n",
       "2                            0  219420/Z/19/Z  \n",
       "3                            0  219007/Z/19/Z  \n",
       "4                            0  218880/Z/19/Z  \n",
       "5                            1  218584/Z/19/Z  \n",
       "6                            0  218539/Z/19/Z  \n",
       "7                            0  218510/Z/19/Z  \n",
       "8                            0  218369/Z/19/Z  \n",
       "9                            0  218358/Z/19/Z  "
      ]
     },
     "execution_count": 4,
     "metadata": {},
     "output_type": "execute_result"
    }
   ],
   "source": [
    "# The test predictions for each model\n",
    "model_predictions = pd.read_csv(f'../data/processed/model_test_results/model_test_results_{date_model_test}.csv')\n",
    "model_predictions.head(10)"
   ]
  },
  {
   "cell_type": "code",
   "execution_count": 5,
   "id": "southwest-contents",
   "metadata": {},
   "outputs": [],
   "source": [
    "# Merge the model test predictions with the actual test values\n",
    "test_data = pd.read_csv(f'../data/processed/model_test_results/test_data_{date_model_test}.csv')\n",
    "model_predictions = pd.merge( \n",
    "    model_predictions,\n",
    "    test_data[['Internal ID', 'Relevance code']],\n",
    "    how = 'left',\n",
    "    on = ['Internal ID']\n",
    "    )"
   ]
  },
  {
   "cell_type": "markdown",
   "id": "committed-nomination",
   "metadata": {},
   "source": [
    "## Visualise the precision/recall for each model"
   ]
  },
  {
   "cell_type": "code",
   "execution_count": 6,
   "id": "collected-vector",
   "metadata": {},
   "outputs": [
    {
     "name": "stdout",
     "output_type": "stream",
     "text": [
      "(0.7785234899328859, 0.8461538461538461)\n",
      "(0.6370370370370371, 0.8592592592592593)\n"
     ]
    }
   ],
   "source": [
    "min_precision = model_results['precision_score'].min()\n",
    "max_precision = model_results['precision_score'].max()\n",
    "print((min_precision, max_precision))\n",
    "\n",
    "min_recall = model_results['recall_score'].min()\n",
    "max_recall = model_results['recall_score'].max()\n",
    "print((min_recall, max_recall))\n",
    "\n",
    "min_both = min(min_precision, min_recall)-0.05\n",
    "max_both = min(max_precision, max_recall)+0.05"
   ]
  },
  {
   "cell_type": "code",
   "execution_count": 7,
   "id": "recovered-rover",
   "metadata": {},
   "outputs": [],
   "source": [
    "def pick_col_shape(model_name):\n",
    "    for vec_name in colour_map.keys():\n",
    "        if vec_name in model_name:\n",
    "            col = colour_map[vec_name]\n",
    "            break\n",
    "        else:\n",
    "            # bert\n",
    "            col = 'blue'\n",
    "    for class_name in shape_map.keys():\n",
    "        if class_name in model_name:\n",
    "            shape = shape_map[class_name]\n",
    "            \n",
    "    return col, shape"
   ]
  },
  {
   "cell_type": "code",
   "execution_count": 8,
   "id": "sunset-cosmetic",
   "metadata": {},
   "outputs": [],
   "source": [
    "colour_map = {'scibert': 'green', 'count': 'red', 'tfidf': 'orange'}\n",
    "shape_map = {'log_reg': 'v', 'SVM': 'x', 'naive_bayes': '.'}"
   ]
  },
  {
   "cell_type": "code",
   "execution_count": 9,
   "id": "ideal-article",
   "metadata": {},
   "outputs": [
    {
     "data": {
      "text/plain": [
       "<matplotlib.legend.Legend at 0x11be33590>"
      ]
     },
     "execution_count": 9,
     "metadata": {},
     "output_type": "execute_result"
    },
    {
     "data": {
      "image/png": "[encoded data removed]",
      "text/plain": [
       "<Figure size 432x432 with 1 Axes>"
      ]
     },
     "metadata": {
      "needs_background": "light"
     },
     "output_type": "display_data"
    }
   ],
   "source": [
    "fig, ax = plt.subplots(figsize=(6,6))\n",
    "ax.set(xlim=(min_both,max_both),\n",
    "    ylim=(min_both,max_both))\n",
    "for k, v in model_results.iterrows():\n",
    "    col, shape = pick_col_shape(v['model_name'])\n",
    "    ax.scatter(\n",
    "    v['precision_score'],\n",
    "    v['recall_score'],\n",
    "    c = col,\n",
    "    marker=shape,\n",
    "    label='point')\n",
    "\n",
    "ax.set(xlabel='Precision score', ylabel='Recall score', \n",
    "       title='Original model performance');\n",
    "\n",
    "from matplotlib.lines import Line2D\n",
    "custom_lines = [Line2D([0], [0], marker='o', color='blue', linewidth=0)]\n",
    "for vec_name, col in colour_map.items():\n",
    "    custom_lines.append(Line2D([0], [0], marker='o', color=col, linewidth=0))\n",
    "for class_name, shape in shape_map.items():\n",
    "    custom_lines.append(Line2D([0], [0], marker=shape, color='k', linewidth=0))\n",
    "     \n",
    "ax.legend(custom_lines, ['bert']+list(colour_map.keys())+list(shape_map.keys()), loc='upper left')"
   ]
  },
  {
   "cell_type": "markdown",
   "id": "everyday-floor",
   "metadata": {},
   "source": [
    "## Test ensemble models using all combinations of models"
   ]
  },
  {
   "cell_type": "code",
   "execution_count": 16,
   "id": "blind-starter",
   "metadata": {},
   "outputs": [
    {
     "data": {
      "text/plain": [
       "4083"
      ]
     },
     "execution_count": 16,
     "metadata": {},
     "output_type": "execute_result"
    }
   ],
   "source": [
    "# Get every combination of models\n",
    "models_list = model_results.index.tolist()\n",
    "all_combinations = []\n",
    "for r in range(2, len(models_list) + 1):\n",
    "    combinations_object = itertools.combinations(models_list, r)\n",
    "    combinations_list = list(combinations_object)\n",
    "    all_combinations += combinations_list\n",
    "len(all_combinations)"
   ]
  },
  {
   "cell_type": "code",
   "execution_count": 17,
   "id": "healthy-canberra",
   "metadata": {},
   "outputs": [
    {
     "name": "stdout",
     "output_type": "stream",
     "text": [
      "0\n",
      "1000\n",
      "2000\n",
      "3000\n",
      "4000\n"
     ]
    }
   ],
   "source": [
    "# Find the test performance for each model combition and number of models that need to agree\n",
    "labels = model_predictions['Relevance code']\n",
    "\n",
    "average_type = 'binary'\n",
    "all_combos_scores = []\n",
    "for i, model_combination in enumerate(all_combinations):\n",
    "    if i%1000==0:\n",
    "        print(i)\n",
    "    # How many of the models agree on tech grant prediction?\n",
    "    prediction_sums = model_predictions[list(model_combination)].sum(axis=1)\n",
    "    for num_agree in range(1, len(model_combination)):\n",
    "        # Calculate test metrics\n",
    "        y_pred = [1 if pred_sum >= num_agree else 0 for pred_sum in prediction_sums]\n",
    "        all_combos_scores.append({\n",
    "            'Type': 'Ensemble model',\n",
    "            'model_name': model_combination,\n",
    "            'num_models': len(model_combination),\n",
    "            'num_agree': num_agree,\n",
    "            'f1': f1_score(labels, y_pred, average=average_type),\n",
    "            'precision_score': precision_score(labels, y_pred, zero_division=0, average=average_type),\n",
    "            'recall_score': recall_score(labels, y_pred, zero_division=0, average=average_type)\n",
    "            })\n",
    "all_combos_scores_df = pd.DataFrame(all_combos_scores)"
   ]
  },
  {
   "cell_type": "code",
   "execution_count": 18,
   "id": "interesting-offer",
   "metadata": {},
   "outputs": [
    {
     "data": {
      "text/plain": [
       "20481"
      ]
     },
     "execution_count": 18,
     "metadata": {},
     "output_type": "execute_result"
    }
   ],
   "source": [
    "len(all_combos_scores_df)"
   ]
  },
  {
   "cell_type": "code",
   "execution_count": 12,
   "id": "spare-engineering",
   "metadata": {},
   "outputs": [
    {
     "data": {
      "image/png": "[encoded data removed]",
      "text/plain": [
       "<Figure size 720x576 with 2 Axes>"
      ]
     },
     "metadata": {
      "needs_background": "light"
     },
     "output_type": "display_data"
    }
   ],
   "source": [
    "axis_lims = (0.5, 1.05)\n",
    "all_combos_scores_df.plot.scatter(\n",
    "    'precision_score',\n",
    "    'recall_score',\n",
    "    figsize=(10,8),\n",
    "    c='num_agree',\n",
    "    colormap=\"winter\",\n",
    "    sharex=False,\n",
    "    xlim=axis_lims,\n",
    "    ylim=axis_lims,\n",
    "    title='Ensemble model performance',\n",
    "    xlabel='Precision score',\n",
    "    ylabel='Recall score'\n",
    ");"
   ]
  },
  {
   "cell_type": "code",
   "execution_count": 13,
   "id": "eight-whale",
   "metadata": {},
   "outputs": [
    {
     "data": {
      "image/png": "[encoded data removed]",
      "text/plain": [
       "<Figure size 720x576 with 2 Axes>"
      ]
     },
     "metadata": {
      "needs_background": "light"
     },
     "output_type": "display_data"
    }
   ],
   "source": [
    "axis_lims = (0.5, 1.05)\n",
    "all_combos_scores_df.plot.scatter(\n",
    "    'precision_score',\n",
    "    'recall_score',\n",
    "    figsize=(10,8),\n",
    "    c='num_models',\n",
    "    colormap=\"spring\",\n",
    "    sharex=False,\n",
    "    xlim=axis_lims,\n",
    "    ylim=axis_lims,\n",
    "    title='Ensemble model performance',\n",
    "    xlabel='Precision score',\n",
    "    ylabel='Recall score'\n",
    ");"
   ]
  },
  {
   "cell_type": "markdown",
   "id": "further-option",
   "metadata": {},
   "source": [
    "### Plot ensemble results with original single model results"
   ]
  },
  {
   "cell_type": "code",
   "execution_count": 19,
   "id": "virtual-application",
   "metadata": {},
   "outputs": [],
   "source": [
    "combined_results = pd.concat([model_results, all_combos_scores_df])"
   ]
  },
  {
   "cell_type": "code",
   "execution_count": 20,
   "id": "spanish-wednesday",
   "metadata": {},
   "outputs": [],
   "source": [
    "# We want to colour original models by vectoriser used, so set up a colour column for this\n",
    "vects = ['scibert', 'count', 'tfidf']\n",
    "model_vect = []\n",
    "for _, row in combined_results.iterrows():\n",
    "    if row['Type']== 'Ensemble model':\n",
    "        model_vect.append('ensemble')\n",
    "    else:\n",
    "        which_vect = [i for i in vects if i in row['model_name']]\n",
    "        if len(which_vect)==0:\n",
    "            model_vect.append('bert')\n",
    "        else:\n",
    "            model_vect.append(which_vect[0])\n",
    "    \n",
    "combined_results['Vectorizer type'] = model_vect\n",
    "colour_map = {'scibert': 'green', 'bert': 'blue', 'count': 'red', 'tfidf': 'orange', 'ensemble': 'black'}\n",
    "combined_results['Vectorizer type colour'] = [colour_map[c] for c in combined_results['Vectorizer type']]"
   ]
  },
  {
   "cell_type": "code",
   "execution_count": 17,
   "id": "hidden-delight",
   "metadata": {},
   "outputs": [
    {
     "data": {
      "image/png": "[encoded data removed]",
      "text/plain": [
       "<Figure size 576x576 with 1 Axes>"
      ]
     },
     "metadata": {
      "needs_background": "light"
     },
     "output_type": "display_data"
    }
   ],
   "source": [
    "vectorizer_groups = combined_results.groupby('Vectorizer type')\n",
    "\n",
    "# Plot the ensemble results first since there are so many\n",
    "group_names = list(vectorizer_groups.groups.keys())\n",
    "group_names.remove('ensemble')\n",
    "group_order = ['ensemble'] + group_names\n",
    "\n",
    "fig, ax = plt.subplots(1, figsize=(8,8))\n",
    "\n",
    "for label in group_order:\n",
    "    if label == 'ensemble':\n",
    "        alpha = 0.1\n",
    "        size = 5\n",
    "    else:\n",
    "        alpha = 1\n",
    "        size = 30\n",
    "    group = vectorizer_groups.get_group(label)\n",
    "    ax.scatter(\n",
    "        group['precision_score'],\n",
    "        group['recall_score'],\n",
    "        c=group['Vectorizer type colour'],\n",
    "        label=label,\n",
    "        alpha=alpha,\n",
    "        s=size\n",
    "    )\n",
    "\n",
    "ax.set(xlabel='Precision score', ylabel='Recall score', \n",
    "       title='Model performance comparison')\n",
    "ax.legend()\n",
    "plt.axvline(0.84, color='k', lw=0.5);\n",
    "plt.axhline(0.81, color='k', lw=0.5);\n",
    "\n",
    "plt.show()"
   ]
  },
  {
   "cell_type": "markdown",
   "id": "smart-limitation",
   "metadata": {},
   "source": [
    "## The highest performing ensemble models"
   ]
  },
  {
   "cell_type": "code",
   "execution_count": 21,
   "id": "grateful-sweden",
   "metadata": {},
   "outputs": [],
   "source": [
    "precision_threshold = 0.84\n",
    "recall_threshold = 0.81"
   ]
  },
  {
   "cell_type": "code",
   "execution_count": 22,
   "id": "disturbed-german",
   "metadata": {},
   "outputs": [
    {
     "data": {
      "text/html": [
       "<div>\n",
       "<style scoped>\n",
       "    .dataframe tbody tr th:only-of-type {\n",
       "        vertical-align: middle;\n",
       "    }\n",
       "\n",
       "    .dataframe tbody tr th {\n",
       "        vertical-align: top;\n",
       "    }\n",
       "\n",
       "    .dataframe thead th {\n",
       "        text-align: right;\n",
       "    }\n",
       "</style>\n",
       "<table border=\"1\" class=\"dataframe\">\n",
       "  <thead>\n",
       "    <tr style=\"text-align: right;\">\n",
       "      <th></th>\n",
       "      <th>Type</th>\n",
       "      <th>model_name</th>\n",
       "      <th>num_models</th>\n",
       "      <th>num_agree</th>\n",
       "      <th>f1</th>\n",
       "      <th>precision_score</th>\n",
       "      <th>recall_score</th>\n",
       "    </tr>\n",
       "  </thead>\n",
       "  <tbody>\n",
       "    <tr>\n",
       "      <th>411</th>\n",
       "      <td>Ensemble model</td>\n",
       "      <td>(bert_log_reg_bert_210221, bert_SVM_bert_21022...</td>\n",
       "      <td>3</td>\n",
       "      <td>2</td>\n",
       "      <td>0.830189</td>\n",
       "      <td>0.846154</td>\n",
       "      <td>0.814815</td>\n",
       "    </tr>\n",
       "    <tr>\n",
       "      <th>859</th>\n",
       "      <td>Ensemble model</td>\n",
       "      <td>(bert_naive_bayes_bert_210221, bert_log_reg_be...</td>\n",
       "      <td>4</td>\n",
       "      <td>3</td>\n",
       "      <td>0.830189</td>\n",
       "      <td>0.846154</td>\n",
       "      <td>0.814815</td>\n",
       "    </tr>\n",
       "    <tr>\n",
       "      <th>1831</th>\n",
       "      <td>Ensemble model</td>\n",
       "      <td>(bert_log_reg_bert_210221, bert_SVM_bert_21022...</td>\n",
       "      <td>4</td>\n",
       "      <td>3</td>\n",
       "      <td>0.830189</td>\n",
       "      <td>0.846154</td>\n",
       "      <td>0.814815</td>\n",
       "    </tr>\n",
       "    <tr>\n",
       "      <th>3098</th>\n",
       "      <td>Ensemble model</td>\n",
       "      <td>(bert_naive_bayes_bert_210221, bert_log_reg_be...</td>\n",
       "      <td>5</td>\n",
       "      <td>4</td>\n",
       "      <td>0.830189</td>\n",
       "      <td>0.846154</td>\n",
       "      <td>0.814815</td>\n",
       "    </tr>\n",
       "  </tbody>\n",
       "</table>\n",
       "</div>"
      ],
      "text/plain": [
       "                Type                                         model_name  \\\n",
       "411   Ensemble model  (bert_log_reg_bert_210221, bert_SVM_bert_21022...   \n",
       "859   Ensemble model  (bert_naive_bayes_bert_210221, bert_log_reg_be...   \n",
       "1831  Ensemble model  (bert_log_reg_bert_210221, bert_SVM_bert_21022...   \n",
       "3098  Ensemble model  (bert_naive_bayes_bert_210221, bert_log_reg_be...   \n",
       "\n",
       "      num_models  num_agree        f1  precision_score  recall_score  \n",
       "411            3          2  0.830189         0.846154      0.814815  \n",
       "859            4          3  0.830189         0.846154      0.814815  \n",
       "1831           4          3  0.830189         0.846154      0.814815  \n",
       "3098           5          4  0.830189         0.846154      0.814815  "
      ]
     },
     "execution_count": 22,
     "metadata": {},
     "output_type": "execute_result"
    }
   ],
   "source": [
    "best_results = all_combos_scores_df.loc[\n",
    "    (\n",
    "        (all_combos_scores_df['precision_score'] >= precision_threshold) & \n",
    "        (all_combos_scores_df['recall_score'] >= recall_threshold)\n",
    "    )\n",
    "]\n",
    "best_results"
   ]
  },
  {
   "cell_type": "code",
   "execution_count": 23,
   "id": "bacterial-court",
   "metadata": {},
   "outputs": [
    {
     "data": {
      "text/plain": [
       "[('bert_log_reg_bert_210221',\n",
       "  'bert_SVM_bert_210221',\n",
       "  'count_naive_bayes_210221'),\n",
       " ('bert_naive_bayes_bert_210221',\n",
       "  'bert_log_reg_bert_210221',\n",
       "  'bert_SVM_bert_210221',\n",
       "  'count_naive_bayes_210221'),\n",
       " ('bert_log_reg_bert_210221',\n",
       "  'bert_SVM_bert_210221',\n",
       "  'bert_naive_bayes_scibert_210221',\n",
       "  'count_naive_bayes_210221'),\n",
       " ('bert_naive_bayes_bert_210221',\n",
       "  'bert_log_reg_bert_210221',\n",
       "  'bert_SVM_bert_210221',\n",
       "  'bert_naive_bayes_scibert_210221',\n",
       "  'count_naive_bayes_210221')]"
      ]
     },
     "execution_count": 23,
     "metadata": {},
     "output_type": "execute_result"
    }
   ],
   "source": [
    "best_results['model_name'].tolist()"
   ]
  },
  {
   "cell_type": "code",
   "execution_count": 36,
   "id": "hundred-marking",
   "metadata": {},
   "outputs": [
    {
     "data": {
      "text/plain": [
       "411"
      ]
     },
     "execution_count": 36,
     "metadata": {},
     "output_type": "execute_result"
    }
   ],
   "source": [
    "# Note: there may be a reason to change the defintion of 'optimal'\n",
    "# here, or even manually set it to another index.\n",
    "# Here we assume the best model was the first one with the least\n",
    "# number of models, from the list which have precision/recall values\n",
    "# over certain thresholds - but there may be other criteria\n",
    "optimal_model_i = best_results.sort_values('num_models').index[0]\n",
    "optimal_model_i"
   ]
  },
  {
   "cell_type": "code",
   "execution_count": 37,
   "id": "inappropriate-colonial",
   "metadata": {},
   "outputs": [
    {
     "data": {
      "text/plain": [
       "['bert_log_reg_bert_210221',\n",
       " 'bert_SVM_bert_210221',\n",
       " 'count_naive_bayes_210221']"
      ]
     },
     "execution_count": 37,
     "metadata": {},
     "output_type": "execute_result"
    }
   ],
   "source": [
    "num_agree = best_results.loc[optimal_model_i]['num_agree']\n",
    "model_combination = list(best_results.loc[optimal_model_i]['model_name'])\n",
    "model_combination"
   ]
  },
  {
   "cell_type": "code",
   "execution_count": 17,
   "id": "lesbian-surrey",
   "metadata": {},
   "outputs": [],
   "source": [
    "prediction_sums = model_predictions[list(model_combination)].sum(axis=1)\n",
    "y_pred = [1 if pred_sum >= num_agree else 0 for pred_sum in prediction_sums]"
   ]
  },
  {
   "cell_type": "code",
   "execution_count": 18,
   "id": "associate-party",
   "metadata": {},
   "outputs": [
    {
     "name": "stdout",
     "output_type": "stream",
     "text": [
      "              precision    recall  f1-score   support\n",
      "\n",
      "           0       0.78      0.82      0.80       110\n",
      "           1       0.85      0.81      0.83       135\n",
      "\n",
      "    accuracy                           0.82       245\n",
      "   macro avg       0.81      0.82      0.82       245\n",
      "weighted avg       0.82      0.82      0.82       245\n",
      "\n"
     ]
    }
   ],
   "source": [
    "print(classification_report(labels, y_pred))"
   ]
  },
  {
   "cell_type": "code",
   "execution_count": 19,
   "id": "demographic-notebook",
   "metadata": {},
   "outputs": [
    {
     "name": "stdout",
     "output_type": "stream",
     "text": [
      "[[ 90  20]\n",
      " [ 25 110]]\n"
     ]
    }
   ],
   "source": [
    "print(confusion_matrix(labels, y_pred))"
   ]
  },
  {
   "cell_type": "code",
   "execution_count": null,
   "id": "desirable-assets",
   "metadata": {},
   "outputs": [],
   "source": []
  }
 ],
 "metadata": {
  "kernelspec": {
   "display_name": "Python 3",
   "language": "python",
   "name": "python3"
  },
  "language_info": {
   "codemirror_mode": {
    "name": "ipython",
    "version": 3
   },
   "file_extension": ".py",
   "mimetype": "text/x-python",
   "name": "python",
   "nbconvert_exporter": "python",
   "pygments_lexer": "ipython3",
   "version": "3.7.9"
  }
 },
 "nbformat": 4,
 "nbformat_minor": 5
}
